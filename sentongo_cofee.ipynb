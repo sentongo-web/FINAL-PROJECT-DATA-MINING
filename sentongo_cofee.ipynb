{
 "cells": [
  {
   "cell_type": "code",
   "execution_count": 6,
   "id": "8f334595",
   "metadata": {
    "execution": {
     "iopub.execute_input": "2023-06-29T03:53:34.952230Z",
     "iopub.status.busy": "2023-06-29T03:53:34.951755Z",
     "iopub.status.idle": "2023-06-29T03:53:37.920203Z",
     "shell.execute_reply": "2023-06-29T03:53:37.918718Z"
    },
    "papermill": {
     "duration": 2.98272,
     "end_time": "2023-06-29T03:53:37.922934",
     "exception": false,
     "start_time": "2023-06-29T03:53:34.940214",
     "status": "completed"
    },
    "tags": []
   },
   "outputs": [],
   "source": [
    "import pandas as pd\n",
    "import numpy as np\n",
    "import matplotlib.pyplot as plt\n",
    "import seaborn as sns\n",
    "import plotly.express as px\n",
    "import plotly.graph_objects as go\n",
    "from plotly.subplots import make_subplots\n",
    "import matplotlib.colors as mcolors\n",
    "from dateutil import parser\n",
    "\n",
    "# Import Scikit-learn for Machine Learning libraries\n",
    "from sklearn.preprocessing import LabelEncoder, StandardScaler, MinMaxScaler, OneHotEncoder\n",
    "from sklearn.model_selection import train_test_split, GridSearchCV, cross_val_score\n",
    "from sklearn.linear_model import LogisticRegression\n",
    "from sklearn.ensemble import RandomForestClassifier, GradientBoostingClassifier, RandomForestRegressor\n",
    "from sklearn.metrics import confusion_matrix, accuracy_score, classification_report, mean_squared_error\n",
    "from sklearn.pipeline import Pipeline\n",
    "from sklearn.compose import ColumnTransformer\n",
    "from sklearn.manifold import TSNE"
   ]
  },
  {
   "cell_type": "markdown",
   "id": "7714298a",
   "metadata": {
    "papermill": {
     "duration": 0.009164,
     "end_time": "2023-06-29T03:53:37.943196",
     "exception": false,
     "start_time": "2023-06-29T03:53:37.934032",
     "status": "completed"
    },
    "tags": []
   },
   "source": [
    "### Input the data"
   ]
  },
  {
   "cell_type": "code",
   "execution_count": 7,
   "id": "5fc45653",
   "metadata": {
    "execution": {
     "iopub.execute_input": "2023-06-29T03:53:37.963561Z",
     "iopub.status.busy": "2023-06-29T03:53:37.963154Z",
     "iopub.status.idle": "2023-06-29T03:53:37.996862Z",
     "shell.execute_reply": "2023-06-29T03:53:37.995918Z"
    },
    "papermill": {
     "duration": 0.04678,
     "end_time": "2023-06-29T03:53:37.999321",
     "exception": false,
     "start_time": "2023-06-29T03:53:37.952541",
     "status": "completed"
    },
    "tags": []
   },
   "outputs": [],
   "source": [
    "df = pd.read_csv(\"Question 1.csv\")"
   ]
  },
  {
   "cell_type": "code",
   "execution_count": 8,
   "id": "45085ac5",
   "metadata": {
    "execution": {
     "iopub.execute_input": "2023-06-29T03:53:38.023255Z",
     "iopub.status.busy": "2023-06-29T03:53:38.022117Z",
     "iopub.status.idle": "2023-06-29T03:53:38.070031Z",
     "shell.execute_reply": "2023-06-29T03:53:38.068782Z"
    },
    "papermill": {
     "duration": 0.061453,
     "end_time": "2023-06-29T03:53:38.072446",
     "exception": false,
     "start_time": "2023-06-29T03:53:38.010993",
     "status": "completed"
    },
    "tags": []
   },
   "outputs": [
    {
     "data": {
      "text/html": [
       "<div>\n",
       "<style scoped>\n",
       "    .dataframe tbody tr th:only-of-type {\n",
       "        vertical-align: middle;\n",
       "    }\n",
       "\n",
       "    .dataframe tbody tr th {\n",
       "        vertical-align: top;\n",
       "    }\n",
       "\n",
       "    .dataframe thead th {\n",
       "        text-align: right;\n",
       "    }\n",
       "</style>\n",
       "<table border=\"1\" class=\"dataframe\">\n",
       "  <thead>\n",
       "    <tr style=\"text-align: right;\">\n",
       "      <th></th>\n",
       "      <th>Unnamed: 0</th>\n",
       "      <th>ID</th>\n",
       "      <th>Country of Origin</th>\n",
       "      <th>Farm Name</th>\n",
       "      <th>Lot Number</th>\n",
       "      <th>Mill</th>\n",
       "      <th>ICO Number</th>\n",
       "      <th>Company</th>\n",
       "      <th>Altitude</th>\n",
       "      <th>Region</th>\n",
       "      <th>...</th>\n",
       "      <th>Total Cup Points</th>\n",
       "      <th>Moisture Percentage</th>\n",
       "      <th>Category One Defects</th>\n",
       "      <th>Quakers</th>\n",
       "      <th>Color</th>\n",
       "      <th>Category Two Defects</th>\n",
       "      <th>Expiration</th>\n",
       "      <th>Certification Body</th>\n",
       "      <th>Certification Address</th>\n",
       "      <th>Certification Contact</th>\n",
       "    </tr>\n",
       "  </thead>\n",
       "  <tbody>\n",
       "    <tr>\n",
       "      <th>0</th>\n",
       "      <td>0</td>\n",
       "      <td>0</td>\n",
       "      <td>Colombia</td>\n",
       "      <td>Finca El Paraiso</td>\n",
       "      <td>CQU2022015</td>\n",
       "      <td>Finca El Paraiso</td>\n",
       "      <td>NaN</td>\n",
       "      <td>Coffee Quality Union</td>\n",
       "      <td>1700-1930</td>\n",
       "      <td>Piendamo,Cauca</td>\n",
       "      <td>...</td>\n",
       "      <td>89.33</td>\n",
       "      <td>11.8</td>\n",
       "      <td>0</td>\n",
       "      <td>0</td>\n",
       "      <td>green</td>\n",
       "      <td>3</td>\n",
       "      <td>September 21st, 2023</td>\n",
       "      <td>Japan Coffee Exchange</td>\n",
       "      <td>〒413-0002 静岡県熱海市伊豆山１１７３−５８ 1173-58 Izusan, Ata...</td>\n",
       "      <td>松澤　宏樹　Koju Matsuzawa - +81(0)9085642901</td>\n",
       "    </tr>\n",
       "    <tr>\n",
       "      <th>1</th>\n",
       "      <td>1</td>\n",
       "      <td>1</td>\n",
       "      <td>Taiwan</td>\n",
       "      <td>Royal Bean Geisha Estate</td>\n",
       "      <td>The 2022 Pacific Rim Coffee Summit,T037</td>\n",
       "      <td>Royal Bean Geisha Estate</td>\n",
       "      <td>NaN</td>\n",
       "      <td>Taiwan Coffee Laboratory</td>\n",
       "      <td>1200</td>\n",
       "      <td>Chiayi</td>\n",
       "      <td>...</td>\n",
       "      <td>87.58</td>\n",
       "      <td>10.5</td>\n",
       "      <td>0</td>\n",
       "      <td>0</td>\n",
       "      <td>blue-green</td>\n",
       "      <td>0</td>\n",
       "      <td>November 15th, 2023</td>\n",
       "      <td>Taiwan Coffee Laboratory 台灣咖啡研究室</td>\n",
       "      <td>QAHWAH CO., LTD 4F, No. 225, Sec. 3, Beixin Rd...</td>\n",
       "      <td>Lin, Jen-An Neil 林仁安 - 886-289116612</td>\n",
       "    </tr>\n",
       "    <tr>\n",
       "      <th>2</th>\n",
       "      <td>2</td>\n",
       "      <td>2</td>\n",
       "      <td>Laos</td>\n",
       "      <td>OKLAO coffee farms</td>\n",
       "      <td>The 2022 Pacific Rim Coffee Summit,LA01</td>\n",
       "      <td>oklao coffee processing plant</td>\n",
       "      <td>NaN</td>\n",
       "      <td>Taiwan Coffee Laboratory</td>\n",
       "      <td>1300</td>\n",
       "      <td>Laos Borofen Plateau</td>\n",
       "      <td>...</td>\n",
       "      <td>87.42</td>\n",
       "      <td>10.4</td>\n",
       "      <td>0</td>\n",
       "      <td>0</td>\n",
       "      <td>yellowish</td>\n",
       "      <td>2</td>\n",
       "      <td>November 15th, 2023</td>\n",
       "      <td>Taiwan Coffee Laboratory 台灣咖啡研究室</td>\n",
       "      <td>QAHWAH CO., LTD 4F, No. 225, Sec. 3, Beixin Rd...</td>\n",
       "      <td>Lin, Jen-An Neil 林仁安 - 886-289116612</td>\n",
       "    </tr>\n",
       "    <tr>\n",
       "      <th>3</th>\n",
       "      <td>3</td>\n",
       "      <td>3</td>\n",
       "      <td>Costa Rica</td>\n",
       "      <td>La Cumbre</td>\n",
       "      <td>CQU2022017</td>\n",
       "      <td>La Montana Tarrazu MIll</td>\n",
       "      <td>NaN</td>\n",
       "      <td>Coffee Quality Union</td>\n",
       "      <td>1900</td>\n",
       "      <td>Los Santos,Tarrazu</td>\n",
       "      <td>...</td>\n",
       "      <td>87.17</td>\n",
       "      <td>11.8</td>\n",
       "      <td>0</td>\n",
       "      <td>0</td>\n",
       "      <td>green</td>\n",
       "      <td>0</td>\n",
       "      <td>September 21st, 2023</td>\n",
       "      <td>Japan Coffee Exchange</td>\n",
       "      <td>〒413-0002 静岡県熱海市伊豆山１１７３−５８ 1173-58 Izusan, Ata...</td>\n",
       "      <td>松澤　宏樹　Koju Matsuzawa - +81(0)9085642901</td>\n",
       "    </tr>\n",
       "    <tr>\n",
       "      <th>4</th>\n",
       "      <td>4</td>\n",
       "      <td>4</td>\n",
       "      <td>Colombia</td>\n",
       "      <td>Finca Santuario</td>\n",
       "      <td>CQU2023002</td>\n",
       "      <td>Finca Santuario</td>\n",
       "      <td>NaN</td>\n",
       "      <td>Coffee Quality Union</td>\n",
       "      <td>1850-2100</td>\n",
       "      <td>Popayan,Cauca</td>\n",
       "      <td>...</td>\n",
       "      <td>87.08</td>\n",
       "      <td>11.6</td>\n",
       "      <td>0</td>\n",
       "      <td>2</td>\n",
       "      <td>yellow-green</td>\n",
       "      <td>2</td>\n",
       "      <td>March 5th, 2024</td>\n",
       "      <td>Japan Coffee Exchange</td>\n",
       "      <td>〒413-0002 静岡県熱海市伊豆山１１７３−５８ 1173-58 Izusan, Ata...</td>\n",
       "      <td>松澤　宏樹　Koju Matsuzawa - +81(0)9085642901</td>\n",
       "    </tr>\n",
       "  </tbody>\n",
       "</table>\n",
       "<p>5 rows × 41 columns</p>\n",
       "</div>"
      ],
      "text/plain": [
       "   Unnamed: 0  ID Country of Origin                 Farm Name  \\\n",
       "0           0   0          Colombia          Finca El Paraiso   \n",
       "1           1   1            Taiwan  Royal Bean Geisha Estate   \n",
       "2           2   2              Laos        OKLAO coffee farms   \n",
       "3           3   3        Costa Rica                 La Cumbre   \n",
       "4           4   4          Colombia           Finca Santuario   \n",
       "\n",
       "                                Lot Number                           Mill  \\\n",
       "0                               CQU2022015               Finca El Paraiso   \n",
       "1  The 2022 Pacific Rim Coffee Summit,T037       Royal Bean Geisha Estate   \n",
       "2  The 2022 Pacific Rim Coffee Summit,LA01  oklao coffee processing plant   \n",
       "3                               CQU2022017        La Montana Tarrazu MIll   \n",
       "4                               CQU2023002                Finca Santuario   \n",
       "\n",
       "  ICO Number                   Company   Altitude                Region  ...  \\\n",
       "0        NaN      Coffee Quality Union  1700-1930        Piendamo,Cauca  ...   \n",
       "1        NaN  Taiwan Coffee Laboratory       1200                Chiayi  ...   \n",
       "2        NaN  Taiwan Coffee Laboratory       1300  Laos Borofen Plateau  ...   \n",
       "3        NaN      Coffee Quality Union       1900    Los Santos,Tarrazu  ...   \n",
       "4        NaN      Coffee Quality Union  1850-2100         Popayan,Cauca  ...   \n",
       "\n",
       "  Total Cup Points  Moisture Percentage Category One Defects Quakers  \\\n",
       "0            89.33                 11.8                    0       0   \n",
       "1            87.58                 10.5                    0       0   \n",
       "2            87.42                 10.4                    0       0   \n",
       "3            87.17                 11.8                    0       0   \n",
       "4            87.08                 11.6                    0       2   \n",
       "\n",
       "          Color Category Two Defects            Expiration  \\\n",
       "0         green                    3  September 21st, 2023   \n",
       "1    blue-green                    0   November 15th, 2023   \n",
       "2     yellowish                    2   November 15th, 2023   \n",
       "3         green                    0  September 21st, 2023   \n",
       "4  yellow-green                    2       March 5th, 2024   \n",
       "\n",
       "                 Certification Body  \\\n",
       "0             Japan Coffee Exchange   \n",
       "1  Taiwan Coffee Laboratory 台灣咖啡研究室   \n",
       "2  Taiwan Coffee Laboratory 台灣咖啡研究室   \n",
       "3             Japan Coffee Exchange   \n",
       "4             Japan Coffee Exchange   \n",
       "\n",
       "                               Certification Address  \\\n",
       "0  〒413-0002 静岡県熱海市伊豆山１１７３−５８ 1173-58 Izusan, Ata...   \n",
       "1  QAHWAH CO., LTD 4F, No. 225, Sec. 3, Beixin Rd...   \n",
       "2  QAHWAH CO., LTD 4F, No. 225, Sec. 3, Beixin Rd...   \n",
       "3  〒413-0002 静岡県熱海市伊豆山１１７３−５８ 1173-58 Izusan, Ata...   \n",
       "4  〒413-0002 静岡県熱海市伊豆山１１７３−５８ 1173-58 Izusan, Ata...   \n",
       "\n",
       "                     Certification Contact  \n",
       "0  松澤　宏樹　Koju Matsuzawa - +81(0)9085642901  \n",
       "1     Lin, Jen-An Neil 林仁安 - 886-289116612  \n",
       "2     Lin, Jen-An Neil 林仁安 - 886-289116612  \n",
       "3  松澤　宏樹　Koju Matsuzawa - +81(0)9085642901  \n",
       "4  松澤　宏樹　Koju Matsuzawa - +81(0)9085642901  \n",
       "\n",
       "[5 rows x 41 columns]"
      ]
     },
     "execution_count": 8,
     "metadata": {},
     "output_type": "execute_result"
    }
   ],
   "source": [
    "df.head()"
   ]
  },
  {
   "cell_type": "markdown",
   "id": "e9d2a8d4",
   "metadata": {},
   "source": [
    "DATA CLEANING"
   ]
  },
  {
   "cell_type": "code",
   "execution_count": 9,
   "id": "47f95efa",
   "metadata": {
    "execution": {
     "iopub.execute_input": "2023-06-29T03:53:38.116306Z",
     "iopub.status.busy": "2023-06-29T03:53:38.115855Z",
     "iopub.status.idle": "2023-06-29T03:53:38.135451Z",
     "shell.execute_reply": "2023-06-29T03:53:38.133945Z"
    },
    "papermill": {
     "duration": 0.034859,
     "end_time": "2023-06-29T03:53:38.138293",
     "exception": false,
     "start_time": "2023-06-29T03:53:38.103434",
     "status": "completed"
    },
    "tags": []
   },
   "outputs": [
    {
     "name": "stdout",
     "output_type": "stream",
     "text": [
      "number of duplicate rows:  (0, 41)\n"
     ]
    }
   ],
   "source": [
    "# Handle duplicates\n",
    "duplicate_rows_data = df[df.duplicated()]\n",
    "print(\"number of duplicate rows: \", duplicate_rows_data.shape)"
   ]
  },
  {
   "cell_type": "markdown",
   "id": "ba9a26d9",
   "metadata": {
    "papermill": {
     "duration": 0.009727,
     "end_time": "2023-06-29T03:53:38.158948",
     "exception": false,
     "start_time": "2023-06-29T03:53:38.149221",
     "status": "completed"
    },
    "tags": []
   },
   "source": [
    "### Uniqueness"
   ]
  },
  {
   "cell_type": "code",
   "execution_count": 10,
   "id": "0e067577",
   "metadata": {
    "execution": {
     "iopub.execute_input": "2023-06-29T03:53:38.181305Z",
     "iopub.status.busy": "2023-06-29T03:53:38.180876Z",
     "iopub.status.idle": "2023-06-29T03:53:38.192870Z",
     "shell.execute_reply": "2023-06-29T03:53:38.191212Z"
    },
    "papermill": {
     "duration": 0.025759,
     "end_time": "2023-06-29T03:53:38.195065",
     "exception": false,
     "start_time": "2023-06-29T03:53:38.169306",
     "status": "completed"
    },
    "tags": []
   },
   "outputs": [
    {
     "name": "stdout",
     "output_type": "stream",
     "text": [
      "Unnamed: 0: 207 distinct values\n",
      "ID: 207 distinct values\n",
      "Country of Origin: 22 distinct values\n",
      "Farm Name: 173 distinct values\n",
      "Lot Number: 188 distinct values\n",
      "Mill: 163 distinct values\n",
      "ICO Number: 68 distinct values\n",
      "Company: 72 distinct values\n",
      "Altitude: 98 distinct values\n",
      "Region: 121 distinct values\n",
      "Producer: 173 distinct values\n",
      "Number of Bags: 55 distinct values\n",
      "Bag Weight: 39 distinct values\n",
      "In-Country Partner: 21 distinct values\n",
      "Harvest Year: 7 distinct values\n",
      "Grading Date: 75 distinct values\n",
      "Owner: 80 distinct values\n",
      "Variety: 49 distinct values\n",
      "Status: 1 distinct values\n",
      "Processing Method: 11 distinct values\n",
      "Aroma: 19 distinct values\n",
      "Flavor: 19 distinct values\n",
      "Aftertaste: 20 distinct values\n",
      "Acidity: 19 distinct values\n",
      "Body: 17 distinct values\n",
      "Balance: 18 distinct values\n",
      "Uniformity: 3 distinct values\n",
      "Clean Cup: 1 distinct values\n",
      "Sweetness: 1 distinct values\n",
      "Overall: 21 distinct values\n",
      "Defects: 1 distinct values\n",
      "Total Cup Points: 81 distinct values\n",
      "Moisture Percentage: 46 distinct values\n",
      "Category One Defects: 6 distinct values\n",
      "Quakers: 11 distinct values\n",
      "Color: 12 distinct values\n",
      "Category Two Defects: 14 distinct values\n",
      "Expiration: 75 distinct values\n",
      "Certification Body: 21 distinct values\n",
      "Certification Address: 21 distinct values\n",
      "Certification Contact: 21 distinct values\n"
     ]
    }
   ],
   "source": [
    "# Loop through each column and count the number of distinct values\n",
    "for column in df.columns:\n",
    "    num_distinct_values = len(df[column].unique())\n",
    "    print(f\"{column}: {num_distinct_values} distinct values\")"
   ]
  },
  {
   "cell_type": "markdown",
   "id": "339201f1",
   "metadata": {
    "papermill": {
     "duration": 0.009783,
     "end_time": "2023-06-29T03:53:38.215275",
     "exception": false,
     "start_time": "2023-06-29T03:53:38.205492",
     "status": "completed"
    },
    "tags": []
   },
   "source": [
    "### Missing Values "
   ]
  },
  {
   "cell_type": "code",
   "execution_count": 11,
   "id": "24552350",
   "metadata": {
    "execution": {
     "iopub.execute_input": "2023-06-29T03:53:38.237197Z",
     "iopub.status.busy": "2023-06-29T03:53:38.236605Z",
     "iopub.status.idle": "2023-06-29T03:53:38.253552Z",
     "shell.execute_reply": "2023-06-29T03:53:38.252421Z"
    },
    "papermill": {
     "duration": 0.030609,
     "end_time": "2023-06-29T03:53:38.255899",
     "exception": false,
     "start_time": "2023-06-29T03:53:38.225290",
     "status": "completed"
    },
    "tags": []
   },
   "outputs": [
    {
     "data": {
      "text/html": [
       "<div>\n",
       "<style scoped>\n",
       "    .dataframe tbody tr th:only-of-type {\n",
       "        vertical-align: middle;\n",
       "    }\n",
       "\n",
       "    .dataframe tbody tr th {\n",
       "        vertical-align: top;\n",
       "    }\n",
       "\n",
       "    .dataframe thead th {\n",
       "        text-align: right;\n",
       "    }\n",
       "</style>\n",
       "<table border=\"1\" class=\"dataframe\">\n",
       "  <thead>\n",
       "    <tr style=\"text-align: right;\">\n",
       "      <th></th>\n",
       "      <th>Missing Ratio</th>\n",
       "    </tr>\n",
       "  </thead>\n",
       "  <tbody>\n",
       "    <tr>\n",
       "      <th>ICO Number</th>\n",
       "      <td>63.768116</td>\n",
       "    </tr>\n",
       "    <tr>\n",
       "      <th>Variety</th>\n",
       "      <td>2.898551</td>\n",
       "    </tr>\n",
       "    <tr>\n",
       "      <th>Processing Method</th>\n",
       "      <td>2.415459</td>\n",
       "    </tr>\n",
       "    <tr>\n",
       "      <th>Mill</th>\n",
       "      <td>1.449275</td>\n",
       "    </tr>\n",
       "    <tr>\n",
       "      <th>Farm Name</th>\n",
       "      <td>0.966184</td>\n",
       "    </tr>\n",
       "    <tr>\n",
       "      <th>Region</th>\n",
       "      <td>0.966184</td>\n",
       "    </tr>\n",
       "    <tr>\n",
       "      <th>Lot Number</th>\n",
       "      <td>0.483092</td>\n",
       "    </tr>\n",
       "    <tr>\n",
       "      <th>Altitude</th>\n",
       "      <td>0.483092</td>\n",
       "    </tr>\n",
       "    <tr>\n",
       "      <th>Producer</th>\n",
       "      <td>0.483092</td>\n",
       "    </tr>\n",
       "  </tbody>\n",
       "</table>\n",
       "</div>"
      ],
      "text/plain": [
       "                   Missing Ratio\n",
       "ICO Number             63.768116\n",
       "Variety                 2.898551\n",
       "Processing Method       2.415459\n",
       "Mill                    1.449275\n",
       "Farm Name               0.966184\n",
       "Region                  0.966184\n",
       "Lot Number              0.483092\n",
       "Altitude                0.483092\n",
       "Producer                0.483092"
      ]
     },
     "execution_count": 11,
     "metadata": {},
     "output_type": "execute_result"
    }
   ],
   "source": [
    "#check missing ratio\n",
    "data_na = (df.isnull().sum() / len(df)) * 100\n",
    "data_na = data_na.drop(data_na[data_na == 0].index).sort_values(ascending=False)[:30]\n",
    "missing_data = pd.DataFrame({'Missing Ratio' :data_na})\n",
    "missing_data.head(20)"
   ]
  },
  {
   "cell_type": "markdown",
   "id": "119f52b6",
   "metadata": {
    "papermill": {
     "duration": 0.009996,
     "end_time": "2023-06-29T03:53:38.276396",
     "exception": false,
     "start_time": "2023-06-29T03:53:38.266400",
     "status": "completed"
    },
    "tags": []
   },
   "source": [
    "### Completeness"
   ]
  },
  {
   "cell_type": "code",
   "execution_count": 12,
   "id": "2f6b0d89",
   "metadata": {
    "execution": {
     "iopub.execute_input": "2023-06-29T03:53:38.299707Z",
     "iopub.status.busy": "2023-06-29T03:53:38.298698Z",
     "iopub.status.idle": "2023-06-29T03:53:38.307964Z",
     "shell.execute_reply": "2023-06-29T03:53:38.307090Z"
    },
    "papermill": {
     "duration": 0.023739,
     "end_time": "2023-06-29T03:53:38.310377",
     "exception": false,
     "start_time": "2023-06-29T03:53:38.286638",
     "status": "completed"
    },
    "tags": []
   },
   "outputs": [
    {
     "name": "stderr",
     "output_type": "stream",
     "text": [
      "C:\\Users\\Meddieek\\AppData\\Local\\Temp\\ipykernel_18596\\3820076288.py:13: FutureWarning: A value is trying to be set on a copy of a DataFrame or Series through chained assignment using an inplace method.\n",
      "The behavior will change in pandas 3.0. This inplace method will never work because the intermediate object on which we are setting values always behaves as a copy.\n",
      "\n",
      "For example, when doing 'df[col].method(value, inplace=True)', try using 'df.method({col: value}, inplace=True)' or df[col] = df[col].method(value) instead, to perform the operation inplace on the original object.\n",
      "\n",
      "\n",
      "  df['Processing Method'].fillna(\"Washed / Wet\", inplace=True)\n"
     ]
    }
   ],
   "source": [
    "# Mapping the Education\n",
    "processing_mapping = {\n",
    "    \"Double Anaerobic Washed\": \"Washed / Wet\",\n",
    "    \"Semi Washed\": \"Washed / Wet\",\n",
    "    \"Honey,Mossto\": \"Pulped natural / honey\",\n",
    "    \"Double Carbonic Maceration / Natural\": \"Natural / Dry\",\n",
    "    \"Wet Hulling\": \"Washed / Wet\",\n",
    "    \"Anaerobico 1000h\": \"Washed / Wet\",\n",
    "    \"SEMI-LAVADO\": \"Natural / Dry\"\n",
    "}\n",
    "# Fixing the values in the column\n",
    "df['Processing Method'] = df['Processing Method'].map(processing_mapping)\n",
    "df['Processing Method'].fillna(\"Washed / Wet\", inplace=True)"
   ]
  },
  {
   "cell_type": "code",
   "execution_count": 13,
   "id": "230b2079",
   "metadata": {
    "execution": {
     "iopub.execute_input": "2023-06-29T03:53:38.334247Z",
     "iopub.status.busy": "2023-06-29T03:53:38.333807Z",
     "iopub.status.idle": "2023-06-29T03:53:38.345783Z",
     "shell.execute_reply": "2023-06-29T03:53:38.344341Z"
    },
    "papermill": {
     "duration": 0.026671,
     "end_time": "2023-06-29T03:53:38.348171",
     "exception": false,
     "start_time": "2023-06-29T03:53:38.321500",
     "status": "completed"
    },
    "tags": []
   },
   "outputs": [],
   "source": [
    "# Manually impute specific values based on ID (Which we cant use function)\n",
    "df.loc[df['ID'] == 99, 'Altitude'] = 5273  # Impute value for ID 99\n",
    "df.loc[df['ID'] == 105, 'Altitude'] = 1800  # Impute value for ID 105\n",
    "df.loc[df['ID'] == 180, 'Altitude'] = 1400  # Impute value for ID 180\n",
    "\n",
    "\n",
    "# Define a function to clean and calculate the mean\n",
    "def clean_altitude_range(range_value):\n",
    "    if isinstance(range_value, str):\n",
    "        range_value = range_value.replace(\" \", \"\")  # Remove blank spaces\n",
    "        if '-' in range_value:\n",
    "            try:\n",
    "                start, end = range_value.split('-')\n",
    "                start = int(start)\n",
    "                end = int(end)\n",
    "                return (start + end) / 2\n",
    "            except ValueError:\n",
    "                return np.nan\n",
    "        else:\n",
    "            try:\n",
    "                return int(range_value)\n",
    "            except ValueError:\n",
    "                return np.nan\n",
    "    else:\n",
    "        return range_value\n",
    "\n",
    "# Apply the function to clean and calculate the mean for each value in the \"Altitude\" column\n",
    "df['Altitude'] = df['Altitude'].apply(clean_altitude_range)"
   ]
  },
  {
   "cell_type": "code",
   "execution_count": 14,
   "id": "eac57308",
   "metadata": {
    "execution": {
     "iopub.execute_input": "2023-06-29T03:53:38.370325Z",
     "iopub.status.busy": "2023-06-29T03:53:38.369924Z",
     "iopub.status.idle": "2023-06-29T03:53:38.376739Z",
     "shell.execute_reply": "2023-06-29T03:53:38.375585Z"
    },
    "papermill": {
     "duration": 0.020658,
     "end_time": "2023-06-29T03:53:38.378983",
     "exception": false,
     "start_time": "2023-06-29T03:53:38.358325",
     "status": "completed"
    },
    "tags": []
   },
   "outputs": [],
   "source": [
    "# Extract the prior year from the \"Harvest Year\" column\n",
    "df['Harvest Year'] = df['Harvest Year'].str.split('/').str[0].str.strip()"
   ]
  },
  {
   "cell_type": "markdown",
   "id": "8fff060d",
   "metadata": {
    "papermill": {
     "duration": 0.010001,
     "end_time": "2023-06-29T03:53:38.399567",
     "exception": false,
     "start_time": "2023-06-29T03:53:38.389566",
     "status": "completed"
    },
    "tags": []
   },
   "source": [
    "## Feature Engineering\n",
    "\n",
    "###  Uniform Date"
   ]
  },
  {
   "cell_type": "code",
   "execution_count": 15,
   "id": "9c1a3df4",
   "metadata": {
    "execution": {
     "iopub.execute_input": "2023-06-29T03:53:38.422239Z",
     "iopub.status.busy": "2023-06-29T03:53:38.421551Z",
     "iopub.status.idle": "2023-06-29T03:53:38.449748Z",
     "shell.execute_reply": "2023-06-29T03:53:38.448607Z"
    },
    "papermill": {
     "duration": 0.042613,
     "end_time": "2023-06-29T03:53:38.452307",
     "exception": false,
     "start_time": "2023-06-29T03:53:38.409694",
     "status": "completed"
    },
    "tags": []
   },
   "outputs": [],
   "source": [
    "# Convert \"Harvest Year\" and \"Expiration\" columns to datetime objects using dateutil parser\n",
    "df['Harvest Year'] = pd.to_datetime(df['Harvest Year'], format='%Y')\n",
    "df['Expiration'] = df['Expiration'].apply(parser.parse)"
   ]
  },
  {
   "cell_type": "markdown",
   "id": "81c5f399",
   "metadata": {
    "papermill": {
     "duration": 0.009904,
     "end_time": "2023-06-29T03:53:38.472425",
     "exception": false,
     "start_time": "2023-06-29T03:53:38.462521",
     "status": "completed"
    },
    "tags": []
   },
   "source": [
    "### Make new Features "
   ]
  },
  {
   "cell_type": "code",
   "execution_count": 16,
   "id": "915d9715",
   "metadata": {
    "execution": {
     "iopub.execute_input": "2023-06-29T03:53:38.494629Z",
     "iopub.status.busy": "2023-06-29T03:53:38.494205Z",
     "iopub.status.idle": "2023-06-29T03:53:38.501251Z",
     "shell.execute_reply": "2023-06-29T03:53:38.500187Z"
    },
    "papermill": {
     "duration": 0.020694,
     "end_time": "2023-06-29T03:53:38.503349",
     "exception": false,
     "start_time": "2023-06-29T03:53:38.482655",
     "status": "completed"
    },
    "tags": []
   },
   "outputs": [],
   "source": [
    "# Calculate the difference in days between \"Expiration\" and \"Harvest Year\" columns\n",
    "df['Coffee Age'] = (df['Expiration'] - df['Harvest Year']).dt.days"
   ]
  },
  {
   "cell_type": "markdown",
   "id": "f469a6d4",
   "metadata": {
    "papermill": {
     "duration": 0.010015,
     "end_time": "2023-06-29T03:53:38.523531",
     "exception": false,
     "start_time": "2023-06-29T03:53:38.513516",
     "status": "completed"
    },
    "tags": []
   },
   "source": [
    "## Exclude the column that is irrelevant for the purpose of this analysis."
   ]
  },
  {
   "cell_type": "code",
   "execution_count": 17,
   "id": "76631f99",
   "metadata": {
    "execution": {
     "iopub.execute_input": "2023-06-29T03:53:38.545812Z",
     "iopub.status.busy": "2023-06-29T03:53:38.545413Z",
     "iopub.status.idle": "2023-06-29T03:53:38.552927Z",
     "shell.execute_reply": "2023-06-29T03:53:38.551867Z"
    },
    "papermill": {
     "duration": 0.021326,
     "end_time": "2023-06-29T03:53:38.555108",
     "exception": false,
     "start_time": "2023-06-29T03:53:38.533782",
     "status": "completed"
    },
    "tags": []
   },
   "outputs": [],
   "source": [
    "columns_to_drop = ['ID','ICO Number','Owner','Region','Certification Contact','Certification Address','Farm Name',\"Lot Number\",\"Mill\",\"ICO Number\",\"Producer\",'Company','Expiration', 'Harvest Year',\n",
    "                   \"Unnamed: 0\",'Number of Bags','Bag Weight','In-Country Partner','Grading Date','Variety','Status','Defects','Uniformity','Clean Cup','Sweetness','Certification Body']\n",
    "df.drop(columns_to_drop, axis=1, inplace=True)"
   ]
  },
  {
   "cell_type": "markdown",
   "id": "64250b5f",
   "metadata": {
    "papermill": {
     "duration": 0.009984,
     "end_time": "2023-06-29T03:53:38.575305",
     "exception": false,
     "start_time": "2023-06-29T03:53:38.565321",
     "status": "completed"
    },
    "tags": []
   },
   "source": [
    "# Exploratory Data Analysis \n",
    "\n",
    "## Univariative Analysis"
   ]
  },
  {
   "cell_type": "code",
   "execution_count": 18,
   "id": "a45889c3",
   "metadata": {
    "execution": {
     "iopub.execute_input": "2023-06-29T03:53:38.597582Z",
     "iopub.status.busy": "2023-06-29T03:53:38.597211Z",
     "iopub.status.idle": "2023-06-29T03:53:39.034743Z",
     "shell.execute_reply": "2023-06-29T03:53:39.033791Z"
    },
    "papermill": {
     "duration": 0.451922,
     "end_time": "2023-06-29T03:53:39.037308",
     "exception": false,
     "start_time": "2023-06-29T03:53:38.585386",
     "status": "completed"
    },
    "tags": []
   },
   "outputs": [
    {
     "data": {
      "application/vnd.plotly.v1+json": {
       "config": {
        "plotlyServerURL": "https://plot.ly"
       },
       "data": [
        {
         "name": "Aroma",
         "nbinsx": 50,
         "type": "histogram",
         "x": [
          8.58,
          8.5,
          8.33,
          8.08,
          8.33,
          8.33,
          8.33,
          8.25,
          8.08,
          8.08,
          8.08,
          8.08,
          8.08,
          7.67,
          8.08,
          8.17,
          8.17,
          8,
          8.08,
          8.17,
          8,
          8.08,
          7.67,
          8.08,
          7.83,
          7.83,
          7.92,
          8.17,
          8,
          8,
          8,
          7.92,
          8.08,
          7.67,
          8,
          7.92,
          8,
          8.25,
          8.17,
          7.75,
          8,
          8,
          8,
          8,
          7.92,
          8.17,
          7.67,
          7.67,
          7.83,
          7.92,
          8,
          7.83,
          8,
          7.92,
          7.83,
          7.67,
          7.83,
          7.83,
          7.92,
          7.67,
          7.83,
          7.58,
          7.83,
          8.17,
          7.92,
          8.08,
          7.83,
          8,
          7.75,
          7.75,
          7.83,
          7.92,
          8.08,
          7.83,
          7.67,
          7.92,
          7.83,
          7.83,
          7.75,
          7.67,
          7.58,
          7.92,
          7.75,
          7.58,
          7.83,
          7.92,
          7.67,
          7.67,
          7.75,
          7.58,
          8,
          7.75,
          7.67,
          7.67,
          7.83,
          7.58,
          7.75,
          7.67,
          7.58,
          7.58,
          7.83,
          7.92,
          7.67,
          7.67,
          7.67,
          7.83,
          7.67,
          7.83,
          7.58,
          7.67,
          7.58,
          7.58,
          7.58,
          7.75,
          7.75,
          7.42,
          7.42,
          7.67,
          7.75,
          7.75,
          7.75,
          7.58,
          7.5,
          7.58,
          7.67,
          7.58,
          7.75,
          7.92,
          7.92,
          7.58,
          7.75,
          7.67,
          7.67,
          7.75,
          7.75,
          7.67,
          7.67,
          7.67,
          7.75,
          8,
          7.5,
          7.75,
          7.58,
          7.67,
          7.67,
          7.17,
          7.58,
          7.33,
          7.33,
          7.58,
          7.33,
          7.5,
          7.67,
          7.67,
          7.67,
          7.5,
          7.67,
          7.75,
          7.5,
          7.33,
          7.67,
          7.58,
          7.42,
          7.58,
          7.5,
          7.5,
          7.33,
          7.67,
          7.67,
          7.75,
          7.5,
          7.67,
          7.5,
          7.33,
          7.5,
          7.17,
          7.42,
          7.42,
          7.67,
          7.5,
          7.33,
          7.25,
          7.5,
          7.5,
          7.42,
          7.33,
          7.58,
          7.33,
          7.42,
          7.33,
          7.33,
          7.42,
          7.25,
          7.42,
          7.42,
          7.42,
          7.25,
          7.42,
          7.25,
          7.5,
          7.08,
          7.25,
          7.17,
          7.33,
          7.25,
          6.5,
          7.25
         ],
         "xaxis": "x",
         "yaxis": "y"
        },
        {
         "name": "Flavor",
         "nbinsx": 50,
         "type": "histogram",
         "x": [
          8.5,
          8.5,
          8.42,
          8.17,
          8.33,
          8.33,
          8.17,
          8.25,
          8.08,
          8.17,
          8.25,
          8,
          8,
          8.17,
          8,
          8.08,
          8.08,
          8.17,
          8.17,
          8,
          7.92,
          8,
          8,
          8,
          8,
          8.08,
          7.92,
          8.08,
          8,
          7.92,
          8,
          8,
          8.17,
          7.83,
          8.08,
          7.75,
          7.92,
          8.08,
          7.75,
          7.92,
          7.92,
          8.08,
          7.92,
          7.92,
          8,
          8.08,
          8.08,
          8,
          7.92,
          7.92,
          8,
          7.92,
          8,
          7.75,
          7.83,
          7.92,
          7.92,
          7.83,
          8.08,
          8,
          8,
          7.83,
          7.83,
          7.83,
          7.75,
          7.83,
          8,
          7.83,
          7.83,
          7.92,
          7.92,
          7.83,
          7.92,
          8,
          7.83,
          7.83,
          7.75,
          7.83,
          7.75,
          7.67,
          7.92,
          7.92,
          7.75,
          7.92,
          7.92,
          7.75,
          7.83,
          7.92,
          7.75,
          7.67,
          7.75,
          7.58,
          7.83,
          7.92,
          7.83,
          7.83,
          7.67,
          7.75,
          7.83,
          7.92,
          7.67,
          7.75,
          7.92,
          7.92,
          7.67,
          7.75,
          7.67,
          7.83,
          7.75,
          7.67,
          7.67,
          7.75,
          7.83,
          7.67,
          7.75,
          7.83,
          7.42,
          7.67,
          7.75,
          7.92,
          7.67,
          7.67,
          7.75,
          7.67,
          7.67,
          7.75,
          7.83,
          7.92,
          7.67,
          7.5,
          7.75,
          7.67,
          7.75,
          7.58,
          7.75,
          7.67,
          7.75,
          7.67,
          7.58,
          7.67,
          7.67,
          7.5,
          7.5,
          7.5,
          7.58,
          7.92,
          7.42,
          7.58,
          7.5,
          7.67,
          7.58,
          7.58,
          7.58,
          7.67,
          7.58,
          7.58,
          7.33,
          7.67,
          7.58,
          7.58,
          7.42,
          7.58,
          7.42,
          7.58,
          7.5,
          7.5,
          7.67,
          7.58,
          7.5,
          7.42,
          7.5,
          7.5,
          7.67,
          7.42,
          7.58,
          7.5,
          7.42,
          7.42,
          7.33,
          7.5,
          7.42,
          7.42,
          7.5,
          7.5,
          7.5,
          7.5,
          7.42,
          7.42,
          7.5,
          7.5,
          7.42,
          7.25,
          7.25,
          7.25,
          7.42,
          7.33,
          7.25,
          7.17,
          7.25,
          7.25,
          7.25,
          7.17,
          7.17,
          7.08,
          7.17,
          6.75,
          7.08
         ],
         "xaxis": "x2",
         "yaxis": "y2"
        },
        {
         "name": "Aftertaste",
         "nbinsx": 50,
         "type": "histogram",
         "x": [
          8.42,
          7.92,
          8.08,
          8.17,
          8.08,
          8.25,
          8.08,
          8.17,
          8.25,
          8.08,
          8,
          8,
          8.08,
          8,
          8.08,
          8,
          7.92,
          8,
          7.75,
          7.92,
          8.08,
          7.92,
          7.83,
          7.83,
          7.92,
          7.83,
          8,
          7.92,
          8,
          8,
          7.83,
          7.83,
          7.67,
          7.83,
          8,
          7.83,
          7.83,
          7.83,
          7.83,
          7.75,
          7.83,
          7.67,
          7.67,
          7.75,
          7.92,
          7.83,
          7.67,
          7.75,
          7.75,
          7.83,
          7.75,
          7.75,
          7.83,
          7.75,
          7.67,
          7.92,
          7.75,
          7.75,
          7.67,
          7.67,
          7.67,
          7.5,
          7.75,
          7.67,
          7.67,
          7.67,
          7.67,
          7.75,
          7.67,
          7.83,
          7.75,
          7.75,
          7.75,
          7.5,
          7.75,
          7.75,
          7.58,
          7.83,
          7.75,
          7.83,
          7.67,
          7.58,
          7.58,
          7.58,
          7.83,
          7.67,
          7.67,
          7.67,
          7.75,
          7.75,
          7.5,
          7.58,
          7.58,
          7.58,
          7.58,
          7.58,
          7.58,
          7.67,
          7.67,
          7.5,
          7.5,
          7.42,
          7.58,
          7.67,
          7.58,
          7.5,
          7.75,
          7.67,
          7.67,
          7.58,
          7.5,
          7.58,
          7.58,
          7.58,
          7.5,
          7.58,
          7.42,
          7.5,
          7.5,
          7.67,
          7.58,
          7.5,
          7.58,
          7.58,
          7.42,
          7.42,
          7.58,
          7.75,
          7.42,
          7.5,
          7.58,
          7.58,
          7.67,
          7.58,
          7.5,
          7.5,
          7.33,
          7.5,
          7.58,
          7.42,
          7.58,
          7.42,
          7.5,
          7.42,
          7.5,
          7.58,
          7.58,
          7.25,
          7.25,
          7.58,
          7.58,
          7.5,
          7.33,
          7.42,
          7.42,
          7.42,
          7.17,
          7.17,
          7.5,
          7.5,
          7.5,
          7.33,
          7.58,
          7.42,
          7.33,
          7.42,
          7.25,
          7.42,
          7.33,
          7.33,
          7.42,
          7.25,
          7.33,
          7.42,
          7.42,
          7.42,
          7.42,
          7.42,
          7.25,
          7.33,
          7.33,
          7.42,
          7.25,
          7.42,
          7.58,
          7.33,
          7.25,
          7.25,
          7.33,
          7.42,
          7.25,
          7.33,
          7.42,
          7.25,
          7.25,
          7.33,
          7.17,
          7,
          7.17,
          7.17,
          7.08,
          7.17,
          6.92,
          6.75,
          7.08,
          6.75,
          6.67
         ],
         "xaxis": "x3",
         "yaxis": "y3"
        },
        {
         "name": "Acidity",
         "nbinsx": 50,
         "type": "histogram",
         "x": [
          8.58,
          8,
          8.17,
          8.25,
          8.25,
          7.83,
          8,
          8,
          8.08,
          8.17,
          8.08,
          7.75,
          8.08,
          8.33,
          7.92,
          7.92,
          8.17,
          7.92,
          7.92,
          7.92,
          7.92,
          7.92,
          8,
          8.17,
          8,
          7.92,
          7.92,
          8,
          7.92,
          7.83,
          7.83,
          7.92,
          7.83,
          8,
          8,
          8.17,
          7.92,
          7.75,
          7.58,
          8,
          7.92,
          7.75,
          8,
          7.75,
          8,
          7.67,
          8,
          7.92,
          8,
          7.83,
          7.75,
          7.83,
          7.83,
          7.92,
          7.67,
          7.83,
          7.92,
          7.92,
          7.92,
          7.83,
          7.83,
          7.67,
          7.75,
          7.83,
          7.67,
          7.67,
          7.75,
          7.67,
          7.83,
          7.75,
          7.75,
          7.92,
          7.83,
          7.75,
          7.75,
          7.92,
          7.92,
          7.83,
          7.75,
          7.83,
          7.75,
          7.75,
          7.83,
          7.83,
          7.58,
          7.75,
          7.83,
          7.75,
          7.67,
          7.75,
          7.67,
          7.92,
          7.92,
          7.75,
          7.67,
          7.75,
          7.75,
          7.75,
          7.67,
          7.67,
          7.92,
          7.58,
          7.58,
          7.58,
          7.67,
          7.58,
          7.75,
          7.58,
          7.83,
          7.75,
          7.75,
          7.75,
          7.67,
          7.58,
          7.58,
          7.67,
          8,
          7.67,
          7.5,
          7.92,
          7.5,
          7.75,
          7.75,
          7.75,
          7.75,
          7.67,
          7.58,
          7.33,
          7.5,
          7.83,
          7.67,
          7.67,
          7.58,
          7.58,
          7.75,
          7.58,
          7.67,
          7.58,
          7.58,
          7.58,
          7.58,
          7.67,
          7.67,
          7.75,
          7.5,
          7.5,
          7.5,
          7.33,
          7.92,
          7.5,
          7.5,
          7.42,
          7.5,
          7.42,
          7.42,
          7.58,
          7.67,
          7.67,
          7.5,
          7.5,
          7.5,
          7.5,
          7.42,
          7.42,
          7.5,
          7.42,
          7.67,
          7.5,
          7.58,
          7.5,
          7.5,
          7.5,
          7.5,
          7.5,
          7.42,
          7.42,
          7.33,
          7.33,
          7.67,
          7.5,
          7.42,
          7.5,
          7.42,
          7.33,
          7.33,
          7.42,
          7.25,
          7.42,
          7.33,
          7.33,
          7.33,
          7.42,
          7.25,
          7.42,
          7.25,
          7.5,
          7.33,
          7.08,
          7.33,
          7.17,
          7.42,
          7.08,
          7.17,
          7.17,
          7,
          7.17,
          6.83
         ],
         "xaxis": "x4",
         "yaxis": "y4"
        },
        {
         "name": "Body",
         "nbinsx": 50,
         "type": "histogram",
         "x": [
          8.25,
          7.92,
          7.92,
          8.17,
          7.92,
          7.83,
          7.83,
          7.92,
          7.92,
          8,
          7.92,
          8.25,
          8,
          8,
          8.08,
          8,
          7.75,
          7.92,
          7.83,
          8.17,
          7.75,
          8,
          8.08,
          7.75,
          8,
          8,
          7.83,
          7.58,
          7.75,
          7.67,
          7.75,
          7.83,
          7.67,
          8,
          7.67,
          8,
          7.83,
          7.67,
          7.92,
          7.83,
          7.75,
          7.92,
          7.75,
          7.75,
          7.58,
          7.67,
          7.92,
          8,
          7.75,
          7.75,
          7.67,
          7.83,
          7.58,
          7.83,
          7.83,
          7.75,
          7.67,
          7.83,
          7.67,
          7.92,
          7.75,
          7.83,
          7.75,
          7.67,
          7.83,
          7.67,
          7.67,
          7.58,
          7.75,
          7.75,
          7.75,
          7.58,
          7.5,
          7.75,
          7.83,
          7.5,
          8,
          7.67,
          7.83,
          7.67,
          7.83,
          7.58,
          7.75,
          7.75,
          7.58,
          7.75,
          7.75,
          7.67,
          7.75,
          7.75,
          7.67,
          7.67,
          7.67,
          7.67,
          7.67,
          7.67,
          7.75,
          7.67,
          7.67,
          7.75,
          7.5,
          7.92,
          7.58,
          7.67,
          7.83,
          7.67,
          7.5,
          7.58,
          7.5,
          7.67,
          7.75,
          7.58,
          7.58,
          7.58,
          7.83,
          7.67,
          7.92,
          7.58,
          7.58,
          7.75,
          7.67,
          7.5,
          7.67,
          7.42,
          7.5,
          7.5,
          7.58,
          7.58,
          7.67,
          7.67,
          7.42,
          7.58,
          7.5,
          7.5,
          7.5,
          7.58,
          7.58,
          7.58,
          7.58,
          7.58,
          7.5,
          7.58,
          7.58,
          7.42,
          7.58,
          7.58,
          7.67,
          7.75,
          7.75,
          7.33,
          7.67,
          7.5,
          7.58,
          7.42,
          7.5,
          7.5,
          7.83,
          7.42,
          7.67,
          7.5,
          7.67,
          7.58,
          7.58,
          7.5,
          7.5,
          7.42,
          7.83,
          7.33,
          7.33,
          7.33,
          7.25,
          7.5,
          7.25,
          7.42,
          7.25,
          7.58,
          7.58,
          7.5,
          7.42,
          7.33,
          7.58,
          7.42,
          7.42,
          7.33,
          7.33,
          7.42,
          7.5,
          7.42,
          7.33,
          7.33,
          7.5,
          7.33,
          7.42,
          7.17,
          7.17,
          7.08,
          7.08,
          7.42,
          7,
          7.17,
          7.42,
          7.17,
          7.42,
          7.42,
          7.08,
          7.08,
          6.83
         ],
         "xaxis": "x5",
         "yaxis": "y5"
        },
        {
         "name": "Balance",
         "nbinsx": 50,
         "type": "histogram",
         "x": [
          8.42,
          8.25,
          8.17,
          8.08,
          7.92,
          8.17,
          8.25,
          8.08,
          8,
          8,
          7.92,
          8.17,
          8,
          8,
          8,
          7.92,
          7.92,
          7.92,
          8,
          7.75,
          8,
          7.83,
          8,
          7.83,
          7.92,
          7.83,
          7.92,
          7.83,
          7.92,
          8,
          7.92,
          7.83,
          7.92,
          8,
          7.75,
          7.75,
          7.83,
          7.75,
          8,
          7.92,
          7.75,
          7.83,
          7.83,
          7.92,
          7.75,
          7.75,
          7.83,
          7.83,
          7.75,
          7.83,
          7.75,
          7.83,
          7.83,
          7.83,
          8,
          7.83,
          7.83,
          7.75,
          7.75,
          7.67,
          7.75,
          7.67,
          7.75,
          7.67,
          7.75,
          7.75,
          7.75,
          7.83,
          7.75,
          7.75,
          7.75,
          7.67,
          7.58,
          7.75,
          7.75,
          7.67,
          7.5,
          7.67,
          7.67,
          7.75,
          7.75,
          7.67,
          7.75,
          7.67,
          7.67,
          8,
          7.67,
          7.58,
          7.67,
          7.75,
          7.67,
          7.75,
          7.67,
          7.58,
          7.58,
          7.75,
          7.67,
          7.67,
          7.67,
          7.67,
          7.67,
          7.67,
          7.75,
          7.67,
          7.58,
          7.67,
          7.67,
          7.58,
          7.67,
          7.67,
          7.67,
          7.67,
          7.58,
          7.67,
          7.5,
          7.75,
          7.67,
          7.67,
          7.58,
          7.83,
          7.5,
          7.58,
          7.58,
          7.58,
          7.75,
          7.75,
          7.5,
          7.5,
          7.58,
          7.5,
          7.5,
          7.58,
          7.58,
          7.58,
          7.42,
          7.5,
          7.5,
          7.5,
          7.5,
          7.42,
          7.5,
          7.5,
          7.5,
          7.58,
          7.5,
          7.67,
          7.75,
          8.17,
          7.58,
          7.5,
          7.67,
          7.58,
          7.5,
          7.5,
          7.5,
          7.58,
          7.5,
          7.42,
          7.42,
          7.58,
          7.42,
          7.42,
          7.5,
          7.5,
          7.42,
          7.67,
          7.42,
          7.42,
          7.42,
          7.5,
          7.5,
          7.33,
          7.33,
          7.5,
          7.42,
          7.5,
          7.33,
          7.42,
          7.25,
          7.33,
          7.42,
          7.42,
          7.42,
          7.33,
          7.25,
          7.42,
          7.33,
          7.33,
          7.33,
          7.25,
          7.42,
          7.33,
          7.42,
          7.33,
          7.25,
          7,
          7.25,
          7.17,
          7.17,
          7.08,
          7.08,
          7.17,
          7.17,
          7.17,
          7.08,
          7,
          6.67
         ],
         "xaxis": "x6",
         "yaxis": "y6"
        },
        {
         "name": "Overall",
         "nbinsx": 50,
         "type": "histogram",
         "x": [
          8.58,
          8.5,
          8.33,
          8.25,
          8.25,
          8.25,
          8.25,
          8.08,
          8.25,
          8,
          8,
          8,
          8,
          8,
          8,
          8,
          8.08,
          8.17,
          8.17,
          7.92,
          8.08,
          7.92,
          8.08,
          8,
          7.92,
          8,
          8,
          7.92,
          7.92,
          8,
          8.08,
          8,
          8,
          8,
          7.83,
          7.83,
          7.92,
          7.92,
          8,
          8,
          7.92,
          7.83,
          7.92,
          7.92,
          7.83,
          7.83,
          7.83,
          7.83,
          7.92,
          7.83,
          7.92,
          7.83,
          7.75,
          7.83,
          8,
          7.83,
          7.83,
          7.83,
          7.75,
          7.92,
          7.83,
          8.58,
          7.92,
          7.75,
          8,
          7.92,
          7.92,
          7.92,
          7.92,
          7.75,
          7.75,
          7.83,
          7.83,
          7.83,
          7.75,
          7.75,
          7.75,
          7.67,
          7.83,
          7.83,
          7.75,
          7.83,
          7.75,
          7.75,
          7.67,
          7.92,
          7.67,
          7.75,
          7.67,
          7.75,
          7.75,
          7.75,
          7.67,
          7.75,
          7.75,
          7.75,
          7.75,
          7.67,
          7.75,
          7.75,
          7.75,
          7.58,
          7.75,
          7.58,
          7.75,
          7.67,
          7.67,
          7.58,
          7.67,
          7.67,
          7.67,
          7.67,
          7.75,
          7.67,
          7.58,
          7.58,
          7.67,
          7.67,
          7.75,
          7.92,
          7.67,
          7.75,
          7.5,
          7.75,
          7.58,
          7.67,
          7.5,
          7.33,
          7.5,
          7.67,
          7.58,
          7.5,
          7.5,
          7.67,
          7.5,
          7.67,
          7.58,
          7.58,
          7.5,
          7.33,
          7.58,
          7.5,
          7.58,
          7.58,
          7.5,
          7.42,
          7.33,
          7.33,
          7.42,
          7.5,
          7.33,
          7.58,
          7.5,
          7.5,
          7.5,
          7.42,
          7.33,
          7.42,
          7.33,
          7.5,
          7.33,
          7.5,
          7.58,
          7.42,
          7.58,
          7.42,
          7.17,
          7.42,
          7.42,
          7.33,
          7.5,
          7.42,
          7.5,
          7.5,
          7.42,
          7.42,
          7.5,
          7.5,
          7.42,
          7.42,
          7.42,
          7.42,
          7.33,
          7.42,
          7.33,
          7.33,
          7.33,
          7.42,
          7.33,
          7.33,
          7.17,
          7.25,
          7.17,
          7.33,
          7.25,
          7.17,
          7.17,
          7.17,
          7.25,
          7,
          7,
          7.17,
          7.08,
          7.08,
          7,
          6.83,
          6.67
         ],
         "xaxis": "x7",
         "yaxis": "y7"
        },
        {
         "name": "Total Cup Points",
         "nbinsx": 50,
         "type": "histogram",
         "x": [
          89.33,
          87.58,
          87.42,
          87.17,
          87.08,
          87,
          86.92,
          86.75,
          86.67,
          86.5,
          86.25,
          86.25,
          86.25,
          86.17,
          86.17,
          86.08,
          86.08,
          86.08,
          85.92,
          85.83,
          85.75,
          85.67,
          85.67,
          85.67,
          85.58,
          85.5,
          85.5,
          85.5,
          85.5,
          85.42,
          85.42,
          85.33,
          85.33,
          85.33,
          85.33,
          85.25,
          85.25,
          85.25,
          85.25,
          85.17,
          85.08,
          85.08,
          85.08,
          85,
          85,
          85,
          85,
          85,
          84.92,
          84.92,
          84.83,
          84.83,
          84.83,
          84.83,
          84.83,
          84.75,
          84.75,
          84.75,
          84.75,
          84.67,
          84.67,
          84.67,
          84.58,
          84.58,
          84.58,
          84.58,
          84.58,
          84.58,
          84.5,
          84.5,
          84.5,
          84.5,
          84.5,
          84.42,
          84.33,
          84.33,
          84.33,
          84.33,
          84.33,
          84.25,
          84.25,
          84.25,
          84.17,
          84.08,
          84.08,
          84.08,
          84.08,
          84,
          84,
          84,
          84,
          84,
          84,
          83.92,
          83.92,
          83.92,
          83.92,
          83.83,
          83.83,
          83.83,
          83.83,
          83.83,
          83.83,
          83.75,
          83.75,
          83.67,
          83.67,
          83.67,
          83.67,
          83.67,
          83.58,
          83.58,
          83.58,
          83.5,
          83.5,
          83.5,
          83.5,
          83.42,
          83.42,
          83.42,
          83.33,
          83.33,
          83.33,
          83.33,
          83.33,
          83.33,
          83.33,
          83.33,
          83.25,
          83.25,
          83.25,
          83.25,
          83.25,
          83.25,
          83.17,
          83.17,
          83.08,
          83.08,
          83.08,
          83,
          82.92,
          82.92,
          82.92,
          82.92,
          82.83,
          82.83,
          82.83,
          82.75,
          82.75,
          82.67,
          82.67,
          82.67,
          82.67,
          82.58,
          82.58,
          82.58,
          82.5,
          82.5,
          82.5,
          82.5,
          82.5,
          82.5,
          82.5,
          82.42,
          82.33,
          82.33,
          82.33,
          82.33,
          82.25,
          82.17,
          82.17,
          82.17,
          82.08,
          82.08,
          82,
          82,
          82,
          82,
          82,
          81.92,
          81.92,
          81.83,
          81.83,
          81.83,
          81.75,
          81.75,
          81.67,
          81.58,
          81.58,
          81.5,
          81.42,
          81.33,
          81.17,
          81.17,
          81,
          80.83,
          80.5,
          80.42,
          80.42,
          80.33,
          80.33,
          80.17,
          80.08,
          80,
          79.67,
          78.08,
          78
         ],
         "xaxis": "x8",
         "yaxis": "y8"
        },
        {
         "name": "Moisture Percentage",
         "nbinsx": 50,
         "type": "histogram",
         "x": [
          11.8,
          10.5,
          10.4,
          11.8,
          11.6,
          10.7,
          9.1,
          10,
          10.8,
          11,
          11.8,
          11.5,
          11.9,
          11.6,
          10.6,
          10.2,
          11.3,
          10.3,
          11,
          10,
          11.6,
          10.4,
          9.8,
          11.3,
          10.6,
          11.3,
          9.1,
          10.6,
          10.2,
          9.3,
          11.4,
          10.8,
          11.3,
          9.9,
          12.3,
          9.4,
          9.5,
          11.3,
          9.2,
          10.3,
          10,
          10.5,
          10,
          11,
          10.9,
          10.1,
          9.9,
          11.3,
          11.7,
          9.5,
          9.7,
          11.9,
          10.7,
          11.2,
          9.5,
          10.4,
          11.2,
          10.3,
          10,
          10.6,
          10.9,
          10,
          9.6,
          11.5,
          9.9,
          11.2,
          10.3,
          11.6,
          11.7,
          11.3,
          9.8,
          10.9,
          10.2,
          10.1,
          9.2,
          10.1,
          11,
          10.3,
          11.6,
          11.5,
          10,
          12.1,
          10.2,
          11,
          10.8,
          10.6,
          11,
          11,
          9.4,
          9.8,
          11.3,
          11.6,
          13.3,
          9.5,
          11.9,
          10,
          11.6,
          11.9,
          10.8,
          10.9,
          12,
          12.1,
          11.8,
          10.6,
          11.7,
          12.4,
          10,
          10.2,
          9.2,
          11.1,
          8.4,
          9.1,
          10.9,
          11.2,
          12.2,
          13.1,
          10.4,
          11.6,
          10.1,
          10.1,
          11.1,
          9.7,
          11.4,
          9.6,
          13.5,
          0,
          10.7,
          12.3,
          10.4,
          11.6,
          9.6,
          10.9,
          10.5,
          11.3,
          9.7,
          11.8,
          11.8,
          10.6,
          9.6,
          13.1,
          8.9,
          11.9,
          11.5,
          10.2,
          10,
          11.8,
          13.3,
          10.5,
          11.8,
          11.8,
          13,
          11.2,
          9.6,
          9.8,
          8.4,
          10.1,
          11.3,
          10,
          11.8,
          11.7,
          10.7,
          10.6,
          8.4,
          11.4,
          10.5,
          12,
          11.8,
          10.8,
          11.7,
          10.6,
          11.2,
          10.6,
          9.7,
          8.1,
          8.2,
          9.8,
          10.5,
          11.5,
          12.5,
          11.6,
          10.3,
          11.3,
          11.2,
          11.3,
          11.1,
          11.2,
          11.8,
          9.7,
          9,
          8.5,
          11.6,
          10.5,
          10.4,
          11.4,
          10.6,
          10.5,
          11.5,
          11.2,
          11,
          11.8,
          11.5,
          11.6,
          11.4,
          10.4,
          11.6,
          11,
          11.3
         ],
         "xaxis": "x9",
         "yaxis": "y9"
        },
        {
         "name": "Coffee Age",
         "nbinsx": 50,
         "type": "histogram",
         "x": [
          993,
          1048,
          1048,
          628,
          794,
          683,
          1048,
          1048,
          1048,
          761,
          880,
          1048,
          1048,
          967,
          1048,
          1048,
          826,
          661,
          1026,
          761,
          1048,
          710,
          957,
          826,
          1048,
          735,
          1048,
          1048,
          1048,
          1048,
          710,
          710,
          523,
          886,
          1002,
          1075,
          1048,
          523,
          788,
          2487,
          710,
          1093,
          1100,
          909,
          1075,
          1048,
          836,
          783,
          902,
          1100,
          1100,
          630,
          683,
          677,
          1048,
          1048,
          773,
          845,
          1093,
          847,
          868,
          838,
          1100,
          523,
          889,
          1048,
          1048,
          1048,
          641,
          1100,
          844,
          964,
          1075,
          1048,
          845,
          677,
          991,
          1048,
          860,
          628,
          836,
          710,
          844,
          868,
          1100,
          1048,
          810,
          810,
          1048,
          732,
          1051,
          689,
          572,
          838,
          1048,
          836,
          628,
          836,
          862,
          868,
          981,
          782,
          683,
          683,
          824,
          633,
          661,
          683,
          1100,
          1048,
          1100,
          1100,
          868,
          958,
          747,
          559,
          1063,
          531,
          917,
          1048,
          973,
          1100,
          1093,
          1100,
          1002,
          838,
          1048,
          559,
          732,
          773,
          1100,
          826,
          1048,
          958,
          1100,
          1100,
          728,
          872,
          844,
          742,
          1100,
          952,
          896,
          661,
          843,
          559,
          883,
          759,
          1048,
          556,
          559,
          894,
          844,
          1100,
          1100,
          900,
          791,
          874,
          671,
          683,
          1048,
          872,
          1100,
          1093,
          881,
          781,
          917,
          1100,
          556,
          677,
          826,
          872,
          1100,
          1100,
          1100,
          559,
          2278,
          1061,
          598,
          556,
          671,
          1100,
          829,
          826,
          1093,
          1093,
          952,
          817,
          1100,
          1100,
          559,
          1048,
          559,
          1085,
          836,
          431,
          921,
          839,
          794,
          525,
          431,
          930,
          762,
          791,
          1044,
          431,
          1051
         ],
         "xaxis": "x10",
         "yaxis": "y10"
        }
       ],
       "layout": {
        "height": 2000,
        "template": {
         "data": {
          "bar": [
           {
            "error_x": {
             "color": "#2a3f5f"
            },
            "error_y": {
             "color": "#2a3f5f"
            },
            "marker": {
             "line": {
              "color": "#E5ECF6",
              "width": 0.5
             },
             "pattern": {
              "fillmode": "overlay",
              "size": 10,
              "solidity": 0.2
             }
            },
            "type": "bar"
           }
          ],
          "barpolar": [
           {
            "marker": {
             "line": {
              "color": "#E5ECF6",
              "width": 0.5
             },
             "pattern": {
              "fillmode": "overlay",
              "size": 10,
              "solidity": 0.2
             }
            },
            "type": "barpolar"
           }
          ],
          "carpet": [
           {
            "aaxis": {
             "endlinecolor": "#2a3f5f",
             "gridcolor": "white",
             "linecolor": "white",
             "minorgridcolor": "white",
             "startlinecolor": "#2a3f5f"
            },
            "baxis": {
             "endlinecolor": "#2a3f5f",
             "gridcolor": "white",
             "linecolor": "white",
             "minorgridcolor": "white",
             "startlinecolor": "#2a3f5f"
            },
            "type": "carpet"
           }
          ],
          "choropleth": [
           {
            "colorbar": {
             "outlinewidth": 0,
             "ticks": ""
            },
            "type": "choropleth"
           }
          ],
          "contour": [
           {
            "colorbar": {
             "outlinewidth": 0,
             "ticks": ""
            },
            "colorscale": [
             [
              0,
              "#0d0887"
             ],
             [
              0.1111111111111111,
              "#46039f"
             ],
             [
              0.2222222222222222,
              "#7201a8"
             ],
             [
              0.3333333333333333,
              "#9c179e"
             ],
             [
              0.4444444444444444,
              "#bd3786"
             ],
             [
              0.5555555555555556,
              "#d8576b"
             ],
             [
              0.6666666666666666,
              "#ed7953"
             ],
             [
              0.7777777777777778,
              "#fb9f3a"
             ],
             [
              0.8888888888888888,
              "#fdca26"
             ],
             [
              1,
              "#f0f921"
             ]
            ],
            "type": "contour"
           }
          ],
          "contourcarpet": [
           {
            "colorbar": {
             "outlinewidth": 0,
             "ticks": ""
            },
            "type": "contourcarpet"
           }
          ],
          "heatmap": [
           {
            "colorbar": {
             "outlinewidth": 0,
             "ticks": ""
            },
            "colorscale": [
             [
              0,
              "#0d0887"
             ],
             [
              0.1111111111111111,
              "#46039f"
             ],
             [
              0.2222222222222222,
              "#7201a8"
             ],
             [
              0.3333333333333333,
              "#9c179e"
             ],
             [
              0.4444444444444444,
              "#bd3786"
             ],
             [
              0.5555555555555556,
              "#d8576b"
             ],
             [
              0.6666666666666666,
              "#ed7953"
             ],
             [
              0.7777777777777778,
              "#fb9f3a"
             ],
             [
              0.8888888888888888,
              "#fdca26"
             ],
             [
              1,
              "#f0f921"
             ]
            ],
            "type": "heatmap"
           }
          ],
          "heatmapgl": [
           {
            "colorbar": {
             "outlinewidth": 0,
             "ticks": ""
            },
            "colorscale": [
             [
              0,
              "#0d0887"
             ],
             [
              0.1111111111111111,
              "#46039f"
             ],
             [
              0.2222222222222222,
              "#7201a8"
             ],
             [
              0.3333333333333333,
              "#9c179e"
             ],
             [
              0.4444444444444444,
              "#bd3786"
             ],
             [
              0.5555555555555556,
              "#d8576b"
             ],
             [
              0.6666666666666666,
              "#ed7953"
             ],
             [
              0.7777777777777778,
              "#fb9f3a"
             ],
             [
              0.8888888888888888,
              "#fdca26"
             ],
             [
              1,
              "#f0f921"
             ]
            ],
            "type": "heatmapgl"
           }
          ],
          "histogram": [
           {
            "marker": {
             "pattern": {
              "fillmode": "overlay",
              "size": 10,
              "solidity": 0.2
             }
            },
            "type": "histogram"
           }
          ],
          "histogram2d": [
           {
            "colorbar": {
             "outlinewidth": 0,
             "ticks": ""
            },
            "colorscale": [
             [
              0,
              "#0d0887"
             ],
             [
              0.1111111111111111,
              "#46039f"
             ],
             [
              0.2222222222222222,
              "#7201a8"
             ],
             [
              0.3333333333333333,
              "#9c179e"
             ],
             [
              0.4444444444444444,
              "#bd3786"
             ],
             [
              0.5555555555555556,
              "#d8576b"
             ],
             [
              0.6666666666666666,
              "#ed7953"
             ],
             [
              0.7777777777777778,
              "#fb9f3a"
             ],
             [
              0.8888888888888888,
              "#fdca26"
             ],
             [
              1,
              "#f0f921"
             ]
            ],
            "type": "histogram2d"
           }
          ],
          "histogram2dcontour": [
           {
            "colorbar": {
             "outlinewidth": 0,
             "ticks": ""
            },
            "colorscale": [
             [
              0,
              "#0d0887"
             ],
             [
              0.1111111111111111,
              "#46039f"
             ],
             [
              0.2222222222222222,
              "#7201a8"
             ],
             [
              0.3333333333333333,
              "#9c179e"
             ],
             [
              0.4444444444444444,
              "#bd3786"
             ],
             [
              0.5555555555555556,
              "#d8576b"
             ],
             [
              0.6666666666666666,
              "#ed7953"
             ],
             [
              0.7777777777777778,
              "#fb9f3a"
             ],
             [
              0.8888888888888888,
              "#fdca26"
             ],
             [
              1,
              "#f0f921"
             ]
            ],
            "type": "histogram2dcontour"
           }
          ],
          "mesh3d": [
           {
            "colorbar": {
             "outlinewidth": 0,
             "ticks": ""
            },
            "type": "mesh3d"
           }
          ],
          "parcoords": [
           {
            "line": {
             "colorbar": {
              "outlinewidth": 0,
              "ticks": ""
             }
            },
            "type": "parcoords"
           }
          ],
          "pie": [
           {
            "automargin": true,
            "type": "pie"
           }
          ],
          "scatter": [
           {
            "fillpattern": {
             "fillmode": "overlay",
             "size": 10,
             "solidity": 0.2
            },
            "type": "scatter"
           }
          ],
          "scatter3d": [
           {
            "line": {
             "colorbar": {
              "outlinewidth": 0,
              "ticks": ""
             }
            },
            "marker": {
             "colorbar": {
              "outlinewidth": 0,
              "ticks": ""
             }
            },
            "type": "scatter3d"
           }
          ],
          "scattercarpet": [
           {
            "marker": {
             "colorbar": {
              "outlinewidth": 0,
              "ticks": ""
             }
            },
            "type": "scattercarpet"
           }
          ],
          "scattergeo": [
           {
            "marker": {
             "colorbar": {
              "outlinewidth": 0,
              "ticks": ""
             }
            },
            "type": "scattergeo"
           }
          ],
          "scattergl": [
           {
            "marker": {
             "colorbar": {
              "outlinewidth": 0,
              "ticks": ""
             }
            },
            "type": "scattergl"
           }
          ],
          "scattermapbox": [
           {
            "marker": {
             "colorbar": {
              "outlinewidth": 0,
              "ticks": ""
             }
            },
            "type": "scattermapbox"
           }
          ],
          "scatterpolar": [
           {
            "marker": {
             "colorbar": {
              "outlinewidth": 0,
              "ticks": ""
             }
            },
            "type": "scatterpolar"
           }
          ],
          "scatterpolargl": [
           {
            "marker": {
             "colorbar": {
              "outlinewidth": 0,
              "ticks": ""
             }
            },
            "type": "scatterpolargl"
           }
          ],
          "scatterternary": [
           {
            "marker": {
             "colorbar": {
              "outlinewidth": 0,
              "ticks": ""
             }
            },
            "type": "scatterternary"
           }
          ],
          "surface": [
           {
            "colorbar": {
             "outlinewidth": 0,
             "ticks": ""
            },
            "colorscale": [
             [
              0,
              "#0d0887"
             ],
             [
              0.1111111111111111,
              "#46039f"
             ],
             [
              0.2222222222222222,
              "#7201a8"
             ],
             [
              0.3333333333333333,
              "#9c179e"
             ],
             [
              0.4444444444444444,
              "#bd3786"
             ],
             [
              0.5555555555555556,
              "#d8576b"
             ],
             [
              0.6666666666666666,
              "#ed7953"
             ],
             [
              0.7777777777777778,
              "#fb9f3a"
             ],
             [
              0.8888888888888888,
              "#fdca26"
             ],
             [
              1,
              "#f0f921"
             ]
            ],
            "type": "surface"
           }
          ],
          "table": [
           {
            "cells": {
             "fill": {
              "color": "#EBF0F8"
             },
             "line": {
              "color": "white"
             }
            },
            "header": {
             "fill": {
              "color": "#C8D4E3"
             },
             "line": {
              "color": "white"
             }
            },
            "type": "table"
           }
          ]
         },
         "layout": {
          "annotationdefaults": {
           "arrowcolor": "#2a3f5f",
           "arrowhead": 0,
           "arrowwidth": 1
          },
          "autotypenumbers": "strict",
          "coloraxis": {
           "colorbar": {
            "outlinewidth": 0,
            "ticks": ""
           }
          },
          "colorscale": {
           "diverging": [
            [
             0,
             "#8e0152"
            ],
            [
             0.1,
             "#c51b7d"
            ],
            [
             0.2,
             "#de77ae"
            ],
            [
             0.3,
             "#f1b6da"
            ],
            [
             0.4,
             "#fde0ef"
            ],
            [
             0.5,
             "#f7f7f7"
            ],
            [
             0.6,
             "#e6f5d0"
            ],
            [
             0.7,
             "#b8e186"
            ],
            [
             0.8,
             "#7fbc41"
            ],
            [
             0.9,
             "#4d9221"
            ],
            [
             1,
             "#276419"
            ]
           ],
           "sequential": [
            [
             0,
             "#0d0887"
            ],
            [
             0.1111111111111111,
             "#46039f"
            ],
            [
             0.2222222222222222,
             "#7201a8"
            ],
            [
             0.3333333333333333,
             "#9c179e"
            ],
            [
             0.4444444444444444,
             "#bd3786"
            ],
            [
             0.5555555555555556,
             "#d8576b"
            ],
            [
             0.6666666666666666,
             "#ed7953"
            ],
            [
             0.7777777777777778,
             "#fb9f3a"
            ],
            [
             0.8888888888888888,
             "#fdca26"
            ],
            [
             1,
             "#f0f921"
            ]
           ],
           "sequentialminus": [
            [
             0,
             "#0d0887"
            ],
            [
             0.1111111111111111,
             "#46039f"
            ],
            [
             0.2222222222222222,
             "#7201a8"
            ],
            [
             0.3333333333333333,
             "#9c179e"
            ],
            [
             0.4444444444444444,
             "#bd3786"
            ],
            [
             0.5555555555555556,
             "#d8576b"
            ],
            [
             0.6666666666666666,
             "#ed7953"
            ],
            [
             0.7777777777777778,
             "#fb9f3a"
            ],
            [
             0.8888888888888888,
             "#fdca26"
            ],
            [
             1,
             "#f0f921"
            ]
           ]
          },
          "colorway": [
           "#636efa",
           "#EF553B",
           "#00cc96",
           "#ab63fa",
           "#FFA15A",
           "#19d3f3",
           "#FF6692",
           "#B6E880",
           "#FF97FF",
           "#FECB52"
          ],
          "font": {
           "color": "#2a3f5f"
          },
          "geo": {
           "bgcolor": "white",
           "lakecolor": "white",
           "landcolor": "#E5ECF6",
           "showlakes": true,
           "showland": true,
           "subunitcolor": "white"
          },
          "hoverlabel": {
           "align": "left"
          },
          "hovermode": "closest",
          "mapbox": {
           "style": "light"
          },
          "paper_bgcolor": "white",
          "plot_bgcolor": "#E5ECF6",
          "polar": {
           "angularaxis": {
            "gridcolor": "white",
            "linecolor": "white",
            "ticks": ""
           },
           "bgcolor": "#E5ECF6",
           "radialaxis": {
            "gridcolor": "white",
            "linecolor": "white",
            "ticks": ""
           }
          },
          "scene": {
           "xaxis": {
            "backgroundcolor": "#E5ECF6",
            "gridcolor": "white",
            "gridwidth": 2,
            "linecolor": "white",
            "showbackground": true,
            "ticks": "",
            "zerolinecolor": "white"
           },
           "yaxis": {
            "backgroundcolor": "#E5ECF6",
            "gridcolor": "white",
            "gridwidth": 2,
            "linecolor": "white",
            "showbackground": true,
            "ticks": "",
            "zerolinecolor": "white"
           },
           "zaxis": {
            "backgroundcolor": "#E5ECF6",
            "gridcolor": "white",
            "gridwidth": 2,
            "linecolor": "white",
            "showbackground": true,
            "ticks": "",
            "zerolinecolor": "white"
           }
          },
          "shapedefaults": {
           "line": {
            "color": "#2a3f5f"
           }
          },
          "ternary": {
           "aaxis": {
            "gridcolor": "white",
            "linecolor": "white",
            "ticks": ""
           },
           "baxis": {
            "gridcolor": "white",
            "linecolor": "white",
            "ticks": ""
           },
           "bgcolor": "#E5ECF6",
           "caxis": {
            "gridcolor": "white",
            "linecolor": "white",
            "ticks": ""
           }
          },
          "title": {
           "x": 0.05
          },
          "xaxis": {
           "automargin": true,
           "gridcolor": "white",
           "linecolor": "white",
           "ticks": "",
           "title": {
            "standoff": 15
           },
           "zerolinecolor": "white",
           "zerolinewidth": 2
          },
          "yaxis": {
           "automargin": true,
           "gridcolor": "white",
           "linecolor": "white",
           "ticks": "",
           "title": {
            "standoff": 15
           },
           "zerolinecolor": "white",
           "zerolinewidth": 2
          }
         }
        },
        "title": {
         "text": "Histograms of Numeric Attributes"
        },
        "width": 800,
        "xaxis": {
         "anchor": "y",
         "domain": [
          0,
          1
         ]
        },
        "xaxis10": {
         "anchor": "y10",
         "domain": [
          0,
          1
         ]
        },
        "xaxis2": {
         "anchor": "y2",
         "domain": [
          0,
          1
         ]
        },
        "xaxis3": {
         "anchor": "y3",
         "domain": [
          0,
          1
         ]
        },
        "xaxis4": {
         "anchor": "y4",
         "domain": [
          0,
          1
         ]
        },
        "xaxis5": {
         "anchor": "y5",
         "domain": [
          0,
          1
         ]
        },
        "xaxis6": {
         "anchor": "y6",
         "domain": [
          0,
          1
         ]
        },
        "xaxis7": {
         "anchor": "y7",
         "domain": [
          0,
          1
         ]
        },
        "xaxis8": {
         "anchor": "y8",
         "domain": [
          0,
          1
         ]
        },
        "xaxis9": {
         "anchor": "y9",
         "domain": [
          0,
          1
         ]
        },
        "yaxis": {
         "anchor": "x",
         "domain": [
          0.9269999999999999,
          0.9999999999999999
         ]
        },
        "yaxis10": {
         "anchor": "x10",
         "domain": [
          0,
          0.073
         ]
        },
        "yaxis2": {
         "anchor": "x2",
         "domain": [
          0.824,
          0.8969999999999999
         ]
        },
        "yaxis3": {
         "anchor": "x3",
         "domain": [
          0.721,
          0.7939999999999999
         ]
        },
        "yaxis4": {
         "anchor": "x4",
         "domain": [
          0.618,
          0.691
         ]
        },
        "yaxis5": {
         "anchor": "x5",
         "domain": [
          0.515,
          0.588
         ]
        },
        "yaxis6": {
         "anchor": "x6",
         "domain": [
          0.412,
          0.485
         ]
        },
        "yaxis7": {
         "anchor": "x7",
         "domain": [
          0.30899999999999994,
          0.38199999999999995
         ]
        },
        "yaxis8": {
         "anchor": "x8",
         "domain": [
          0.206,
          0.27899999999999997
         ]
        },
        "yaxis9": {
         "anchor": "x9",
         "domain": [
          0.103,
          0.176
         ]
        }
       }
      }
     },
     "metadata": {},
     "output_type": "display_data"
    }
   ],
   "source": [
    "# List of numeric attributes\n",
    "numeric_attributes = ['Aroma', 'Flavor', 'Aftertaste', 'Acidity', 'Body', 'Balance', 'Overall', 'Total Cup Points', 'Moisture Percentage','Coffee Age']\n",
    "\n",
    "# Create a subplot for each numeric attribute\n",
    "fig = make_subplots(rows=len(numeric_attributes), cols=1)\n",
    "\n",
    "# Add a histogram to the subplot for each numeric attribute\n",
    "for i, attribute in enumerate(numeric_attributes):\n",
    "    fig.add_trace(go.Histogram(x=df[attribute], nbinsx=50, name=attribute), row=i+1, col=1)\n",
    "\n",
    "fig.update_layout(height=200*len(numeric_attributes), width=800, title_text=\"Histograms of Numeric Attributes\")\n",
    "fig.show()"
   ]
  },
  {
   "cell_type": "markdown",
   "id": "32fd3266",
   "metadata": {
    "papermill": {
     "duration": 0.01083,
     "end_time": "2023-06-29T03:53:39.059290",
     "exception": false,
     "start_time": "2023-06-29T03:53:39.048460",
     "status": "completed"
    },
    "tags": []
   },
   "source": [
    "## Geospatial Analysis"
   ]
  },
  {
   "cell_type": "code",
   "execution_count": 19,
   "id": "1218e0ee",
   "metadata": {
    "execution": {
     "iopub.execute_input": "2023-06-29T03:53:39.086111Z",
     "iopub.status.busy": "2023-06-29T03:53:39.085068Z",
     "iopub.status.idle": "2023-06-29T03:53:41.112415Z",
     "shell.execute_reply": "2023-06-29T03:53:41.111188Z"
    },
    "papermill": {
     "duration": 2.043981,
     "end_time": "2023-06-29T03:53:41.114745",
     "exception": false,
     "start_time": "2023-06-29T03:53:39.070764",
     "status": "completed"
    },
    "tags": []
   },
   "outputs": [
    {
     "data": {
      "application/vnd.plotly.v1+json": {
       "config": {
        "plotlyServerURL": "https://plot.ly"
       },
       "data": [
        {
         "coloraxis": "coloraxis",
         "geo": "geo",
         "hovertemplate": "<b>%{hovertext}</b><br><br>Country of Origin=%{location}<br>Total Cup Points=%{z}<extra></extra>",
         "hovertext": [
          "Brazil",
          "Colombia",
          "Costa Rica",
          "El Salvador",
          "Ethiopia",
          "Guatemala",
          "Honduras",
          "Indonesia",
          "Kenya",
          "Laos",
          "Madagascar",
          "Mexico",
          "Myanmar",
          "Nicaragua",
          "Panama",
          "Peru",
          "Taiwan",
          "Tanzania, United Republic Of",
          "Thailand",
          "Uganda",
          "United States (Hawaii)",
          "Vietnam"
         ],
         "locationmode": "country names",
         "locations": [
          "Brazil",
          "Colombia",
          "Costa Rica",
          "El Salvador",
          "Ethiopia",
          "Guatemala",
          "Honduras",
          "Indonesia",
          "Kenya",
          "Laos",
          "Madagascar",
          "Mexico",
          "Myanmar",
          "Nicaragua",
          "Panama",
          "Peru",
          "Taiwan",
          "Tanzania, United Republic Of",
          "Thailand",
          "Uganda",
          "United States (Hawaii)",
          "Vietnam"
         ],
         "name": "",
         "type": "choropleth",
         "z": [
          81.88300000000001,
          83.87736842105264,
          83.74,
          81.53285714285714,
          84.96090909090908,
          84.30142857142857,
          83.2823076923077,
          83.69333333333333,
          83.71000000000001,
          83.39,
          84.25,
          82.71000000000001,
          83.67,
          81.89285714285714,
          83.625,
          82.3325,
          84.35032786885246,
          84.735,
          82.8275,
          83.91666666666667,
          83.65,
          82.8925
         ]
        }
       ],
       "layout": {
        "coloraxis": {
         "colorbar": {
          "title": {
           "text": "Total Cup Points"
          }
         },
         "colorscale": [
          [
           0,
           "#0d0887"
          ],
          [
           0.1111111111111111,
           "#46039f"
          ],
          [
           0.2222222222222222,
           "#7201a8"
          ],
          [
           0.3333333333333333,
           "#9c179e"
          ],
          [
           0.4444444444444444,
           "#bd3786"
          ],
          [
           0.5555555555555556,
           "#d8576b"
          ],
          [
           0.6666666666666666,
           "#ed7953"
          ],
          [
           0.7777777777777778,
           "#fb9f3a"
          ],
          [
           0.8888888888888888,
           "#fdca26"
          ],
          [
           1,
           "#f0f921"
          ]
         ]
        },
        "geo": {
         "center": {},
         "domain": {
          "x": [
           0,
           1
          ],
          "y": [
           0,
           1
          ]
         }
        },
        "legend": {
         "tracegroupgap": 0
        },
        "template": {
         "data": {
          "bar": [
           {
            "error_x": {
             "color": "#2a3f5f"
            },
            "error_y": {
             "color": "#2a3f5f"
            },
            "marker": {
             "line": {
              "color": "#E5ECF6",
              "width": 0.5
             },
             "pattern": {
              "fillmode": "overlay",
              "size": 10,
              "solidity": 0.2
             }
            },
            "type": "bar"
           }
          ],
          "barpolar": [
           {
            "marker": {
             "line": {
              "color": "#E5ECF6",
              "width": 0.5
             },
             "pattern": {
              "fillmode": "overlay",
              "size": 10,
              "solidity": 0.2
             }
            },
            "type": "barpolar"
           }
          ],
          "carpet": [
           {
            "aaxis": {
             "endlinecolor": "#2a3f5f",
             "gridcolor": "white",
             "linecolor": "white",
             "minorgridcolor": "white",
             "startlinecolor": "#2a3f5f"
            },
            "baxis": {
             "endlinecolor": "#2a3f5f",
             "gridcolor": "white",
             "linecolor": "white",
             "minorgridcolor": "white",
             "startlinecolor": "#2a3f5f"
            },
            "type": "carpet"
           }
          ],
          "choropleth": [
           {
            "colorbar": {
             "outlinewidth": 0,
             "ticks": ""
            },
            "type": "choropleth"
           }
          ],
          "contour": [
           {
            "colorbar": {
             "outlinewidth": 0,
             "ticks": ""
            },
            "colorscale": [
             [
              0,
              "#0d0887"
             ],
             [
              0.1111111111111111,
              "#46039f"
             ],
             [
              0.2222222222222222,
              "#7201a8"
             ],
             [
              0.3333333333333333,
              "#9c179e"
             ],
             [
              0.4444444444444444,
              "#bd3786"
             ],
             [
              0.5555555555555556,
              "#d8576b"
             ],
             [
              0.6666666666666666,
              "#ed7953"
             ],
             [
              0.7777777777777778,
              "#fb9f3a"
             ],
             [
              0.8888888888888888,
              "#fdca26"
             ],
             [
              1,
              "#f0f921"
             ]
            ],
            "type": "contour"
           }
          ],
          "contourcarpet": [
           {
            "colorbar": {
             "outlinewidth": 0,
             "ticks": ""
            },
            "type": "contourcarpet"
           }
          ],
          "heatmap": [
           {
            "colorbar": {
             "outlinewidth": 0,
             "ticks": ""
            },
            "colorscale": [
             [
              0,
              "#0d0887"
             ],
             [
              0.1111111111111111,
              "#46039f"
             ],
             [
              0.2222222222222222,
              "#7201a8"
             ],
             [
              0.3333333333333333,
              "#9c179e"
             ],
             [
              0.4444444444444444,
              "#bd3786"
             ],
             [
              0.5555555555555556,
              "#d8576b"
             ],
             [
              0.6666666666666666,
              "#ed7953"
             ],
             [
              0.7777777777777778,
              "#fb9f3a"
             ],
             [
              0.8888888888888888,
              "#fdca26"
             ],
             [
              1,
              "#f0f921"
             ]
            ],
            "type": "heatmap"
           }
          ],
          "heatmapgl": [
           {
            "colorbar": {
             "outlinewidth": 0,
             "ticks": ""
            },
            "colorscale": [
             [
              0,
              "#0d0887"
             ],
             [
              0.1111111111111111,
              "#46039f"
             ],
             [
              0.2222222222222222,
              "#7201a8"
             ],
             [
              0.3333333333333333,
              "#9c179e"
             ],
             [
              0.4444444444444444,
              "#bd3786"
             ],
             [
              0.5555555555555556,
              "#d8576b"
             ],
             [
              0.6666666666666666,
              "#ed7953"
             ],
             [
              0.7777777777777778,
              "#fb9f3a"
             ],
             [
              0.8888888888888888,
              "#fdca26"
             ],
             [
              1,
              "#f0f921"
             ]
            ],
            "type": "heatmapgl"
           }
          ],
          "histogram": [
           {
            "marker": {
             "pattern": {
              "fillmode": "overlay",
              "size": 10,
              "solidity": 0.2
             }
            },
            "type": "histogram"
           }
          ],
          "histogram2d": [
           {
            "colorbar": {
             "outlinewidth": 0,
             "ticks": ""
            },
            "colorscale": [
             [
              0,
              "#0d0887"
             ],
             [
              0.1111111111111111,
              "#46039f"
             ],
             [
              0.2222222222222222,
              "#7201a8"
             ],
             [
              0.3333333333333333,
              "#9c179e"
             ],
             [
              0.4444444444444444,
              "#bd3786"
             ],
             [
              0.5555555555555556,
              "#d8576b"
             ],
             [
              0.6666666666666666,
              "#ed7953"
             ],
             [
              0.7777777777777778,
              "#fb9f3a"
             ],
             [
              0.8888888888888888,
              "#fdca26"
             ],
             [
              1,
              "#f0f921"
             ]
            ],
            "type": "histogram2d"
           }
          ],
          "histogram2dcontour": [
           {
            "colorbar": {
             "outlinewidth": 0,
             "ticks": ""
            },
            "colorscale": [
             [
              0,
              "#0d0887"
             ],
             [
              0.1111111111111111,
              "#46039f"
             ],
             [
              0.2222222222222222,
              "#7201a8"
             ],
             [
              0.3333333333333333,
              "#9c179e"
             ],
             [
              0.4444444444444444,
              "#bd3786"
             ],
             [
              0.5555555555555556,
              "#d8576b"
             ],
             [
              0.6666666666666666,
              "#ed7953"
             ],
             [
              0.7777777777777778,
              "#fb9f3a"
             ],
             [
              0.8888888888888888,
              "#fdca26"
             ],
             [
              1,
              "#f0f921"
             ]
            ],
            "type": "histogram2dcontour"
           }
          ],
          "mesh3d": [
           {
            "colorbar": {
             "outlinewidth": 0,
             "ticks": ""
            },
            "type": "mesh3d"
           }
          ],
          "parcoords": [
           {
            "line": {
             "colorbar": {
              "outlinewidth": 0,
              "ticks": ""
             }
            },
            "type": "parcoords"
           }
          ],
          "pie": [
           {
            "automargin": true,
            "type": "pie"
           }
          ],
          "scatter": [
           {
            "fillpattern": {
             "fillmode": "overlay",
             "size": 10,
             "solidity": 0.2
            },
            "type": "scatter"
           }
          ],
          "scatter3d": [
           {
            "line": {
             "colorbar": {
              "outlinewidth": 0,
              "ticks": ""
             }
            },
            "marker": {
             "colorbar": {
              "outlinewidth": 0,
              "ticks": ""
             }
            },
            "type": "scatter3d"
           }
          ],
          "scattercarpet": [
           {
            "marker": {
             "colorbar": {
              "outlinewidth": 0,
              "ticks": ""
             }
            },
            "type": "scattercarpet"
           }
          ],
          "scattergeo": [
           {
            "marker": {
             "colorbar": {
              "outlinewidth": 0,
              "ticks": ""
             }
            },
            "type": "scattergeo"
           }
          ],
          "scattergl": [
           {
            "marker": {
             "colorbar": {
              "outlinewidth": 0,
              "ticks": ""
             }
            },
            "type": "scattergl"
           }
          ],
          "scattermapbox": [
           {
            "marker": {
             "colorbar": {
              "outlinewidth": 0,
              "ticks": ""
             }
            },
            "type": "scattermapbox"
           }
          ],
          "scatterpolar": [
           {
            "marker": {
             "colorbar": {
              "outlinewidth": 0,
              "ticks": ""
             }
            },
            "type": "scatterpolar"
           }
          ],
          "scatterpolargl": [
           {
            "marker": {
             "colorbar": {
              "outlinewidth": 0,
              "ticks": ""
             }
            },
            "type": "scatterpolargl"
           }
          ],
          "scatterternary": [
           {
            "marker": {
             "colorbar": {
              "outlinewidth": 0,
              "ticks": ""
             }
            },
            "type": "scatterternary"
           }
          ],
          "surface": [
           {
            "colorbar": {
             "outlinewidth": 0,
             "ticks": ""
            },
            "colorscale": [
             [
              0,
              "#0d0887"
             ],
             [
              0.1111111111111111,
              "#46039f"
             ],
             [
              0.2222222222222222,
              "#7201a8"
             ],
             [
              0.3333333333333333,
              "#9c179e"
             ],
             [
              0.4444444444444444,
              "#bd3786"
             ],
             [
              0.5555555555555556,
              "#d8576b"
             ],
             [
              0.6666666666666666,
              "#ed7953"
             ],
             [
              0.7777777777777778,
              "#fb9f3a"
             ],
             [
              0.8888888888888888,
              "#fdca26"
             ],
             [
              1,
              "#f0f921"
             ]
            ],
            "type": "surface"
           }
          ],
          "table": [
           {
            "cells": {
             "fill": {
              "color": "#EBF0F8"
             },
             "line": {
              "color": "white"
             }
            },
            "header": {
             "fill": {
              "color": "#C8D4E3"
             },
             "line": {
              "color": "white"
             }
            },
            "type": "table"
           }
          ]
         },
         "layout": {
          "annotationdefaults": {
           "arrowcolor": "#2a3f5f",
           "arrowhead": 0,
           "arrowwidth": 1
          },
          "autotypenumbers": "strict",
          "coloraxis": {
           "colorbar": {
            "outlinewidth": 0,
            "ticks": ""
           }
          },
          "colorscale": {
           "diverging": [
            [
             0,
             "#8e0152"
            ],
            [
             0.1,
             "#c51b7d"
            ],
            [
             0.2,
             "#de77ae"
            ],
            [
             0.3,
             "#f1b6da"
            ],
            [
             0.4,
             "#fde0ef"
            ],
            [
             0.5,
             "#f7f7f7"
            ],
            [
             0.6,
             "#e6f5d0"
            ],
            [
             0.7,
             "#b8e186"
            ],
            [
             0.8,
             "#7fbc41"
            ],
            [
             0.9,
             "#4d9221"
            ],
            [
             1,
             "#276419"
            ]
           ],
           "sequential": [
            [
             0,
             "#0d0887"
            ],
            [
             0.1111111111111111,
             "#46039f"
            ],
            [
             0.2222222222222222,
             "#7201a8"
            ],
            [
             0.3333333333333333,
             "#9c179e"
            ],
            [
             0.4444444444444444,
             "#bd3786"
            ],
            [
             0.5555555555555556,
             "#d8576b"
            ],
            [
             0.6666666666666666,
             "#ed7953"
            ],
            [
             0.7777777777777778,
             "#fb9f3a"
            ],
            [
             0.8888888888888888,
             "#fdca26"
            ],
            [
             1,
             "#f0f921"
            ]
           ],
           "sequentialminus": [
            [
             0,
             "#0d0887"
            ],
            [
             0.1111111111111111,
             "#46039f"
            ],
            [
             0.2222222222222222,
             "#7201a8"
            ],
            [
             0.3333333333333333,
             "#9c179e"
            ],
            [
             0.4444444444444444,
             "#bd3786"
            ],
            [
             0.5555555555555556,
             "#d8576b"
            ],
            [
             0.6666666666666666,
             "#ed7953"
            ],
            [
             0.7777777777777778,
             "#fb9f3a"
            ],
            [
             0.8888888888888888,
             "#fdca26"
            ],
            [
             1,
             "#f0f921"
            ]
           ]
          },
          "colorway": [
           "#636efa",
           "#EF553B",
           "#00cc96",
           "#ab63fa",
           "#FFA15A",
           "#19d3f3",
           "#FF6692",
           "#B6E880",
           "#FF97FF",
           "#FECB52"
          ],
          "font": {
           "color": "#2a3f5f"
          },
          "geo": {
           "bgcolor": "white",
           "lakecolor": "white",
           "landcolor": "#E5ECF6",
           "showlakes": true,
           "showland": true,
           "subunitcolor": "white"
          },
          "hoverlabel": {
           "align": "left"
          },
          "hovermode": "closest",
          "mapbox": {
           "style": "light"
          },
          "paper_bgcolor": "white",
          "plot_bgcolor": "#E5ECF6",
          "polar": {
           "angularaxis": {
            "gridcolor": "white",
            "linecolor": "white",
            "ticks": ""
           },
           "bgcolor": "#E5ECF6",
           "radialaxis": {
            "gridcolor": "white",
            "linecolor": "white",
            "ticks": ""
           }
          },
          "scene": {
           "xaxis": {
            "backgroundcolor": "#E5ECF6",
            "gridcolor": "white",
            "gridwidth": 2,
            "linecolor": "white",
            "showbackground": true,
            "ticks": "",
            "zerolinecolor": "white"
           },
           "yaxis": {
            "backgroundcolor": "#E5ECF6",
            "gridcolor": "white",
            "gridwidth": 2,
            "linecolor": "white",
            "showbackground": true,
            "ticks": "",
            "zerolinecolor": "white"
           },
           "zaxis": {
            "backgroundcolor": "#E5ECF6",
            "gridcolor": "white",
            "gridwidth": 2,
            "linecolor": "white",
            "showbackground": true,
            "ticks": "",
            "zerolinecolor": "white"
           }
          },
          "shapedefaults": {
           "line": {
            "color": "#2a3f5f"
           }
          },
          "ternary": {
           "aaxis": {
            "gridcolor": "white",
            "linecolor": "white",
            "ticks": ""
           },
           "baxis": {
            "gridcolor": "white",
            "linecolor": "white",
            "ticks": ""
           },
           "bgcolor": "#E5ECF6",
           "caxis": {
            "gridcolor": "white",
            "linecolor": "white",
            "ticks": ""
           }
          },
          "title": {
           "x": 0.05
          },
          "xaxis": {
           "automargin": true,
           "gridcolor": "white",
           "linecolor": "white",
           "ticks": "",
           "title": {
            "standoff": 15
           },
           "zerolinecolor": "white",
           "zerolinewidth": 2
          },
          "yaxis": {
           "automargin": true,
           "gridcolor": "white",
           "linecolor": "white",
           "ticks": "",
           "title": {
            "standoff": 15
           },
           "zerolinecolor": "white",
           "zerolinewidth": 2
          }
         }
        },
        "title": {
         "text": "Average Total Cup Points by Country"
        }
       }
      }
     },
     "metadata": {},
     "output_type": "display_data"
    },
    {
     "data": {
      "image/png": "[encoded data removed]",
      "text/plain": [
       "<Figure size 1000x500 with 1 Axes>"
      ]
     },
     "metadata": {},
     "output_type": "display_data"
    }
   ],
   "source": [
    "# Group the data by country and calculate the mean of Total Cup Points\n",
    "df_grouped = df.groupby('Country of Origin')['Total Cup Points'].mean().reset_index()\n",
    "\n",
    "# Create a Choropleth map\n",
    "fig = px.choropleth(df_grouped, \n",
    "                    locations='Country of Origin', \n",
    "                    locationmode='country names',\n",
    "                    color='Total Cup Points',\n",
    "                    hover_name='Country of Origin',\n",
    "                    color_continuous_scale=px.colors.sequential.Plasma,\n",
    "                    title='Average Total Cup Points by Country')\n",
    "\n",
    "fig.show()\n",
    "\n",
    "# Create a bar plot with gray color\n",
    "plt.figure(figsize=(10, 5))\n",
    "sns.barplot(x=df_grouped['Country of Origin'], y=df_grouped['Total Cup Points'], color='gray')\n",
    "plt.title('Average Total Cup Points by Country')\n",
    "plt.xlabel('Country of Origin')\n",
    "plt.ylabel('Average Total Cup Points')\n",
    "plt.xticks(rotation=90)\n",
    "plt.show()"
   ]
  },
  {
   "cell_type": "code",
   "execution_count": 20,
   "id": "02a9ac19",
   "metadata": {
    "execution": {
     "iopub.execute_input": "2023-06-29T03:53:41.143352Z",
     "iopub.status.busy": "2023-06-29T03:53:41.142764Z",
     "iopub.status.idle": "2023-06-29T03:53:41.639001Z",
     "shell.execute_reply": "2023-06-29T03:53:41.638178Z"
    },
    "papermill": {
     "duration": 0.513481,
     "end_time": "2023-06-29T03:53:41.641634",
     "exception": false,
     "start_time": "2023-06-29T03:53:41.128153",
     "status": "completed"
    },
    "tags": []
   },
   "outputs": [
    {
     "data": {
      "application/vnd.plotly.v1+json": {
       "config": {
        "plotlyServerURL": "https://plot.ly"
       },
       "data": [
        {
         "coloraxis": "coloraxis",
         "geo": "geo",
         "hovertemplate": "<b>%{hovertext}</b><br><br>Country of Origin=%{location}<br>Coffee Age=%{z}<extra></extra>",
         "hovertext": [
          "Brazil",
          "Colombia",
          "Costa Rica",
          "El Salvador",
          "Ethiopia",
          "Guatemala",
          "Honduras",
          "Indonesia",
          "Kenya",
          "Laos",
          "Madagascar",
          "Mexico",
          "Myanmar",
          "Nicaragua",
          "Panama",
          "Peru",
          "Taiwan",
          "Tanzania, United Republic Of",
          "Thailand",
          "Uganda",
          "United States (Hawaii)",
          "Vietnam"
         ],
         "locationmode": "country names",
         "locations": [
          "Brazil",
          "Colombia",
          "Costa Rica",
          "El Salvador",
          "Ethiopia",
          "Guatemala",
          "Honduras",
          "Indonesia",
          "Kenya",
          "Laos",
          "Madagascar",
          "Mexico",
          "Myanmar",
          "Nicaragua",
          "Panama",
          "Peru",
          "Taiwan",
          "Tanzania, United Republic Of",
          "Thailand",
          "Uganda",
          "United States (Hawaii)",
          "Vietnam"
         ],
         "name": "",
         "type": "choropleth",
         "z": [
          845,
          829.8947368421053,
          990.75,
          690,
          971.4545454545455,
          880.5238095238095,
          915,
          618.6666666666666,
          807,
          940,
          710,
          944,
          683,
          884.5714285714286,
          859.5,
          580,
          1027.8852459016393,
          725.3333333333334,
          664.25,
          933,
          753.6,
          910.25
         ]
        }
       ],
       "layout": {
        "coloraxis": {
         "colorbar": {
          "title": {
           "text": "Coffee Age"
          }
         },
         "colorscale": [
          [
           0,
           "#0d0887"
          ],
          [
           0.1111111111111111,
           "#46039f"
          ],
          [
           0.2222222222222222,
           "#7201a8"
          ],
          [
           0.3333333333333333,
           "#9c179e"
          ],
          [
           0.4444444444444444,
           "#bd3786"
          ],
          [
           0.5555555555555556,
           "#d8576b"
          ],
          [
           0.6666666666666666,
           "#ed7953"
          ],
          [
           0.7777777777777778,
           "#fb9f3a"
          ],
          [
           0.8888888888888888,
           "#fdca26"
          ],
          [
           1,
           "#f0f921"
          ]
         ]
        },
        "geo": {
         "center": {},
         "domain": {
          "x": [
           0,
           1
          ],
          "y": [
           0,
           1
          ]
         }
        },
        "legend": {
         "tracegroupgap": 0
        },
        "template": {
         "data": {
          "bar": [
           {
            "error_x": {
             "color": "#2a3f5f"
            },
            "error_y": {
             "color": "#2a3f5f"
            },
            "marker": {
             "line": {
              "color": "#E5ECF6",
              "width": 0.5
             },
             "pattern": {
              "fillmode": "overlay",
              "size": 10,
              "solidity": 0.2
             }
            },
            "type": "bar"
           }
          ],
          "barpolar": [
           {
            "marker": {
             "line": {
              "color": "#E5ECF6",
              "width": 0.5
             },
             "pattern": {
              "fillmode": "overlay",
              "size": 10,
              "solidity": 0.2
             }
            },
            "type": "barpolar"
           }
          ],
          "carpet": [
           {
            "aaxis": {
             "endlinecolor": "#2a3f5f",
             "gridcolor": "white",
             "linecolor": "white",
             "minorgridcolor": "white",
             "startlinecolor": "#2a3f5f"
            },
            "baxis": {
             "endlinecolor": "#2a3f5f",
             "gridcolor": "white",
             "linecolor": "white",
             "minorgridcolor": "white",
             "startlinecolor": "#2a3f5f"
            },
            "type": "carpet"
           }
          ],
          "choropleth": [
           {
            "colorbar": {
             "outlinewidth": 0,
             "ticks": ""
            },
            "type": "choropleth"
           }
          ],
          "contour": [
           {
            "colorbar": {
             "outlinewidth": 0,
             "ticks": ""
            },
            "colorscale": [
             [
              0,
              "#0d0887"
             ],
             [
              0.1111111111111111,
              "#46039f"
             ],
             [
              0.2222222222222222,
              "#7201a8"
             ],
             [
              0.3333333333333333,
              "#9c179e"
             ],
             [
              0.4444444444444444,
              "#bd3786"
             ],
             [
              0.5555555555555556,
              "#d8576b"
             ],
             [
              0.6666666666666666,
              "#ed7953"
             ],
             [
              0.7777777777777778,
              "#fb9f3a"
             ],
             [
              0.8888888888888888,
              "#fdca26"
             ],
             [
              1,
              "#f0f921"
             ]
            ],
            "type": "contour"
           }
          ],
          "contourcarpet": [
           {
            "colorbar": {
             "outlinewidth": 0,
             "ticks": ""
            },
            "type": "contourcarpet"
           }
          ],
          "heatmap": [
           {
            "colorbar": {
             "outlinewidth": 0,
             "ticks": ""
            },
            "colorscale": [
             [
              0,
              "#0d0887"
             ],
             [
              0.1111111111111111,
              "#46039f"
             ],
             [
              0.2222222222222222,
              "#7201a8"
             ],
             [
              0.3333333333333333,
              "#9c179e"
             ],
             [
              0.4444444444444444,
              "#bd3786"
             ],
             [
              0.5555555555555556,
              "#d8576b"
             ],
             [
              0.6666666666666666,
              "#ed7953"
             ],
             [
              0.7777777777777778,
              "#fb9f3a"
             ],
             [
              0.8888888888888888,
              "#fdca26"
             ],
             [
              1,
              "#f0f921"
             ]
            ],
            "type": "heatmap"
           }
          ],
          "heatmapgl": [
           {
            "colorbar": {
             "outlinewidth": 0,
             "ticks": ""
            },
            "colorscale": [
             [
              0,
              "#0d0887"
             ],
             [
              0.1111111111111111,
              "#46039f"
             ],
             [
              0.2222222222222222,
              "#7201a8"
             ],
             [
              0.3333333333333333,
              "#9c179e"
             ],
             [
              0.4444444444444444,
              "#bd3786"
             ],
             [
              0.5555555555555556,
              "#d8576b"
             ],
             [
              0.6666666666666666,
              "#ed7953"
             ],
             [
              0.7777777777777778,
              "#fb9f3a"
             ],
             [
              0.8888888888888888,
              "#fdca26"
             ],
             [
              1,
              "#f0f921"
             ]
            ],
            "type": "heatmapgl"
           }
          ],
          "histogram": [
           {
            "marker": {
             "pattern": {
              "fillmode": "overlay",
              "size": 10,
              "solidity": 0.2
             }
            },
            "type": "histogram"
           }
          ],
          "histogram2d": [
           {
            "colorbar": {
             "outlinewidth": 0,
             "ticks": ""
            },
            "colorscale": [
             [
              0,
              "#0d0887"
             ],
             [
              0.1111111111111111,
              "#46039f"
             ],
             [
              0.2222222222222222,
              "#7201a8"
             ],
             [
              0.3333333333333333,
              "#9c179e"
             ],
             [
              0.4444444444444444,
              "#bd3786"
             ],
             [
              0.5555555555555556,
              "#d8576b"
             ],
             [
              0.6666666666666666,
              "#ed7953"
             ],
             [
              0.7777777777777778,
              "#fb9f3a"
             ],
             [
              0.8888888888888888,
              "#fdca26"
             ],
             [
              1,
              "#f0f921"
             ]
            ],
            "type": "histogram2d"
           }
          ],
          "histogram2dcontour": [
           {
            "colorbar": {
             "outlinewidth": 0,
             "ticks": ""
            },
            "colorscale": [
             [
              0,
              "#0d0887"
             ],
             [
              0.1111111111111111,
              "#46039f"
             ],
             [
              0.2222222222222222,
              "#7201a8"
             ],
             [
              0.3333333333333333,
              "#9c179e"
             ],
             [
              0.4444444444444444,
              "#bd3786"
             ],
             [
              0.5555555555555556,
              "#d8576b"
             ],
             [
              0.6666666666666666,
              "#ed7953"
             ],
             [
              0.7777777777777778,
              "#fb9f3a"
             ],
             [
              0.8888888888888888,
              "#fdca26"
             ],
             [
              1,
              "#f0f921"
             ]
            ],
            "type": "histogram2dcontour"
           }
          ],
          "mesh3d": [
           {
            "colorbar": {
             "outlinewidth": 0,
             "ticks": ""
            },
            "type": "mesh3d"
           }
          ],
          "parcoords": [
           {
            "line": {
             "colorbar": {
              "outlinewidth": 0,
              "ticks": ""
             }
            },
            "type": "parcoords"
           }
          ],
          "pie": [
           {
            "automargin": true,
            "type": "pie"
           }
          ],
          "scatter": [
           {
            "fillpattern": {
             "fillmode": "overlay",
             "size": 10,
             "solidity": 0.2
            },
            "type": "scatter"
           }
          ],
          "scatter3d": [
           {
            "line": {
             "colorbar": {
              "outlinewidth": 0,
              "ticks": ""
             }
            },
            "marker": {
             "colorbar": {
              "outlinewidth": 0,
              "ticks": ""
             }
            },
            "type": "scatter3d"
           }
          ],
          "scattercarpet": [
           {
            "marker": {
             "colorbar": {
              "outlinewidth": 0,
              "ticks": ""
             }
            },
            "type": "scattercarpet"
           }
          ],
          "scattergeo": [
           {
            "marker": {
             "colorbar": {
              "outlinewidth": 0,
              "ticks": ""
             }
            },
            "type": "scattergeo"
           }
          ],
          "scattergl": [
           {
            "marker": {
             "colorbar": {
              "outlinewidth": 0,
              "ticks": ""
             }
            },
            "type": "scattergl"
           }
          ],
          "scattermapbox": [
           {
            "marker": {
             "colorbar": {
              "outlinewidth": 0,
              "ticks": ""
             }
            },
            "type": "scattermapbox"
           }
          ],
          "scatterpolar": [
           {
            "marker": {
             "colorbar": {
              "outlinewidth": 0,
              "ticks": ""
             }
            },
            "type": "scatterpolar"
           }
          ],
          "scatterpolargl": [
           {
            "marker": {
             "colorbar": {
              "outlinewidth": 0,
              "ticks": ""
             }
            },
            "type": "scatterpolargl"
           }
          ],
          "scatterternary": [
           {
            "marker": {
             "colorbar": {
              "outlinewidth": 0,
              "ticks": ""
             }
            },
            "type": "scatterternary"
           }
          ],
          "surface": [
           {
            "colorbar": {
             "outlinewidth": 0,
             "ticks": ""
            },
            "colorscale": [
             [
              0,
              "#0d0887"
             ],
             [
              0.1111111111111111,
              "#46039f"
             ],
             [
              0.2222222222222222,
              "#7201a8"
             ],
             [
              0.3333333333333333,
              "#9c179e"
             ],
             [
              0.4444444444444444,
              "#bd3786"
             ],
             [
              0.5555555555555556,
              "#d8576b"
             ],
             [
              0.6666666666666666,
              "#ed7953"
             ],
             [
              0.7777777777777778,
              "#fb9f3a"
             ],
             [
              0.8888888888888888,
              "#fdca26"
             ],
             [
              1,
              "#f0f921"
             ]
            ],
            "type": "surface"
           }
          ],
          "table": [
           {
            "cells": {
             "fill": {
              "color": "#EBF0F8"
             },
             "line": {
              "color": "white"
             }
            },
            "header": {
             "fill": {
              "color": "#C8D4E3"
             },
             "line": {
              "color": "white"
             }
            },
            "type": "table"
           }
          ]
         },
         "layout": {
          "annotationdefaults": {
           "arrowcolor": "#2a3f5f",
           "arrowhead": 0,
           "arrowwidth": 1
          },
          "autotypenumbers": "strict",
          "coloraxis": {
           "colorbar": {
            "outlinewidth": 0,
            "ticks": ""
           }
          },
          "colorscale": {
           "diverging": [
            [
             0,
             "#8e0152"
            ],
            [
             0.1,
             "#c51b7d"
            ],
            [
             0.2,
             "#de77ae"
            ],
            [
             0.3,
             "#f1b6da"
            ],
            [
             0.4,
             "#fde0ef"
            ],
            [
             0.5,
             "#f7f7f7"
            ],
            [
             0.6,
             "#e6f5d0"
            ],
            [
             0.7,
             "#b8e186"
            ],
            [
             0.8,
             "#7fbc41"
            ],
            [
             0.9,
             "#4d9221"
            ],
            [
             1,
             "#276419"
            ]
           ],
           "sequential": [
            [
             0,
             "#0d0887"
            ],
            [
             0.1111111111111111,
             "#46039f"
            ],
            [
             0.2222222222222222,
             "#7201a8"
            ],
            [
             0.3333333333333333,
             "#9c179e"
            ],
            [
             0.4444444444444444,
             "#bd3786"
            ],
            [
             0.5555555555555556,
             "#d8576b"
            ],
            [
             0.6666666666666666,
             "#ed7953"
            ],
            [
             0.7777777777777778,
             "#fb9f3a"
            ],
            [
             0.8888888888888888,
             "#fdca26"
            ],
            [
             1,
             "#f0f921"
            ]
           ],
           "sequentialminus": [
            [
             0,
             "#0d0887"
            ],
            [
             0.1111111111111111,
             "#46039f"
            ],
            [
             0.2222222222222222,
             "#7201a8"
            ],
            [
             0.3333333333333333,
             "#9c179e"
            ],
            [
             0.4444444444444444,
             "#bd3786"
            ],
            [
             0.5555555555555556,
             "#d8576b"
            ],
            [
             0.6666666666666666,
             "#ed7953"
            ],
            [
             0.7777777777777778,
             "#fb9f3a"
            ],
            [
             0.8888888888888888,
             "#fdca26"
            ],
            [
             1,
             "#f0f921"
            ]
           ]
          },
          "colorway": [
           "#636efa",
           "#EF553B",
           "#00cc96",
           "#ab63fa",
           "#FFA15A",
           "#19d3f3",
           "#FF6692",
           "#B6E880",
           "#FF97FF",
           "#FECB52"
          ],
          "font": {
           "color": "#2a3f5f"
          },
          "geo": {
           "bgcolor": "white",
           "lakecolor": "white",
           "landcolor": "#E5ECF6",
           "showlakes": true,
           "showland": true,
           "subunitcolor": "white"
          },
          "hoverlabel": {
           "align": "left"
          },
          "hovermode": "closest",
          "mapbox": {
           "style": "light"
          },
          "paper_bgcolor": "white",
          "plot_bgcolor": "#E5ECF6",
          "polar": {
           "angularaxis": {
            "gridcolor": "white",
            "linecolor": "white",
            "ticks": ""
           },
           "bgcolor": "#E5ECF6",
           "radialaxis": {
            "gridcolor": "white",
            "linecolor": "white",
            "ticks": ""
           }
          },
          "scene": {
           "xaxis": {
            "backgroundcolor": "#E5ECF6",
            "gridcolor": "white",
            "gridwidth": 2,
            "linecolor": "white",
            "showbackground": true,
            "ticks": "",
            "zerolinecolor": "white"
           },
           "yaxis": {
            "backgroundcolor": "#E5ECF6",
            "gridcolor": "white",
            "gridwidth": 2,
            "linecolor": "white",
            "showbackground": true,
            "ticks": "",
            "zerolinecolor": "white"
           },
           "zaxis": {
            "backgroundcolor": "#E5ECF6",
            "gridcolor": "white",
            "gridwidth": 2,
            "linecolor": "white",
            "showbackground": true,
            "ticks": "",
            "zerolinecolor": "white"
           }
          },
          "shapedefaults": {
           "line": {
            "color": "#2a3f5f"
           }
          },
          "ternary": {
           "aaxis": {
            "gridcolor": "white",
            "linecolor": "white",
            "ticks": ""
           },
           "baxis": {
            "gridcolor": "white",
            "linecolor": "white",
            "ticks": ""
           },
           "bgcolor": "#E5ECF6",
           "caxis": {
            "gridcolor": "white",
            "linecolor": "white",
            "ticks": ""
           }
          },
          "title": {
           "x": 0.05
          },
          "xaxis": {
           "automargin": true,
           "gridcolor": "white",
           "linecolor": "white",
           "ticks": "",
           "title": {
            "standoff": 15
           },
           "zerolinecolor": "white",
           "zerolinewidth": 2
          },
          "yaxis": {
           "automargin": true,
           "gridcolor": "white",
           "linecolor": "white",
           "ticks": "",
           "title": {
            "standoff": 15
           },
           "zerolinecolor": "white",
           "zerolinewidth": 2
          }
         }
        },
        "title": {
         "text": "Average Coffee Shelter Life by Country (Days)"
        }
       }
      }
     },
     "metadata": {},
     "output_type": "display_data"
    },
    {
     "data": {
      "image/png": "[encoded data removed]",
      "text/plain": [
       "<Figure size 1000x500 with 1 Axes>"
      ]
     },
     "metadata": {},
     "output_type": "display_data"
    }
   ],
   "source": [
    "# Group the data by country and calculate the mean of Total Cup Points\n",
    "df_grouped = df.groupby('Country of Origin')['Coffee Age'].mean().reset_index()\n",
    "\n",
    "# Create a Choropleth map\n",
    "fig = px.choropleth(df_grouped, \n",
    "                    locations='Country of Origin', \n",
    "                    locationmode='country names',\n",
    "                    color='Coffee Age',\n",
    "                    hover_name='Country of Origin',\n",
    "                    color_continuous_scale=px.colors.sequential.Plasma,\n",
    "                    title='Average Coffee Shelter Life by Country (Days)')\n",
    "\n",
    "fig.show()\n",
    "\n",
    "# Create a bar plot with gray color\n",
    "plt.figure(figsize=(10, 5))\n",
    "sns.barplot(x=df_grouped['Country of Origin'], y=df_grouped['Coffee Age'], color='gray')\n",
    "plt.title('Average Coffee Shelter Life by Country (Days)')\n",
    "plt.xlabel('Country of Origin')\n",
    "plt.ylabel('Average Coffee Shelter Life')\n",
    "plt.xticks(rotation=90)\n",
    "plt.show()"
   ]
  },
  {
   "cell_type": "code",
   "execution_count": 21,
   "id": "001b272d",
   "metadata": {
    "execution": {
     "iopub.execute_input": "2023-06-29T03:53:41.670770Z",
     "iopub.status.busy": "2023-06-29T03:53:41.669747Z",
     "iopub.status.idle": "2023-06-29T03:53:42.191619Z",
     "shell.execute_reply": "2023-06-29T03:53:42.190527Z"
    },
    "papermill": {
     "duration": 0.538754,
     "end_time": "2023-06-29T03:53:42.194082",
     "exception": false,
     "start_time": "2023-06-29T03:53:41.655328",
     "status": "completed"
    },
    "tags": []
   },
   "outputs": [
    {
     "data": {
      "application/vnd.plotly.v1+json": {
       "config": {
        "plotlyServerURL": "https://plot.ly"
       },
       "data": [
        {
         "coloraxis": "coloraxis",
         "geo": "geo",
         "hovertemplate": "<b>%{hovertext}</b><br><br>Country of Origin=%{location}<br>Altitude=%{z}<extra></extra>",
         "hovertext": [
          "Brazil",
          "Colombia",
          "Costa Rica",
          "El Salvador",
          "Ethiopia",
          "Guatemala",
          "Honduras",
          "Indonesia",
          "Kenya",
          "Laos",
          "Madagascar",
          "Mexico",
          "Myanmar",
          "Nicaragua",
          "Panama",
          "Peru",
          "Taiwan",
          "Tanzania, United Republic Of",
          "Thailand",
          "Uganda",
          "United States (Hawaii)",
          "Vietnam"
         ],
         "locationmode": "country names",
         "locations": [
          "Brazil",
          "Colombia",
          "Costa Rica",
          "El Salvador",
          "Ethiopia",
          "Guatemala",
          "Honduras",
          "Indonesia",
          "Kenya",
          "Laos",
          "Madagascar",
          "Mexico",
          "Myanmar",
          "Nicaragua",
          "Panama",
          "Peru",
          "Taiwan",
          "Tanzania, United Republic Of",
          "Thailand",
          "Uganda",
          "United States (Hawaii)",
          "Vietnam"
         ],
         "name": "",
         "type": "choropleth",
         "z": [
          1067.5,
          1629.7368421052631,
          1687.5,
          1285.7142857142858,
          1968.5454545454545,
          2073.2619047619046,
          1437.6923076923076,
          1283.3333333333333,
          1737.5,
          1283.3333333333333,
          1500,
          1272.5,
          1400,
          1210.7142857142858,
          1200,
          1637.5,
          729.0491803278688,
          1594,
          1306.6666666666667,
          1820,
          848,
          1997.5
         ]
        }
       ],
       "layout": {
        "coloraxis": {
         "colorbar": {
          "title": {
           "text": "Altitude"
          }
         },
         "colorscale": [
          [
           0,
           "#0d0887"
          ],
          [
           0.1111111111111111,
           "#46039f"
          ],
          [
           0.2222222222222222,
           "#7201a8"
          ],
          [
           0.3333333333333333,
           "#9c179e"
          ],
          [
           0.4444444444444444,
           "#bd3786"
          ],
          [
           0.5555555555555556,
           "#d8576b"
          ],
          [
           0.6666666666666666,
           "#ed7953"
          ],
          [
           0.7777777777777778,
           "#fb9f3a"
          ],
          [
           0.8888888888888888,
           "#fdca26"
          ],
          [
           1,
           "#f0f921"
          ]
         ]
        },
        "geo": {
         "center": {},
         "domain": {
          "x": [
           0,
           1
          ],
          "y": [
           0,
           1
          ]
         }
        },
        "legend": {
         "tracegroupgap": 0
        },
        "template": {
         "data": {
          "bar": [
           {
            "error_x": {
             "color": "#2a3f5f"
            },
            "error_y": {
             "color": "#2a3f5f"
            },
            "marker": {
             "line": {
              "color": "#E5ECF6",
              "width": 0.5
             },
             "pattern": {
              "fillmode": "overlay",
              "size": 10,
              "solidity": 0.2
             }
            },
            "type": "bar"
           }
          ],
          "barpolar": [
           {
            "marker": {
             "line": {
              "color": "#E5ECF6",
              "width": 0.5
             },
             "pattern": {
              "fillmode": "overlay",
              "size": 10,
              "solidity": 0.2
             }
            },
            "type": "barpolar"
           }
          ],
          "carpet": [
           {
            "aaxis": {
             "endlinecolor": "#2a3f5f",
             "gridcolor": "white",
             "linecolor": "white",
             "minorgridcolor": "white",
             "startlinecolor": "#2a3f5f"
            },
            "baxis": {
             "endlinecolor": "#2a3f5f",
             "gridcolor": "white",
             "linecolor": "white",
             "minorgridcolor": "white",
             "startlinecolor": "#2a3f5f"
            },
            "type": "carpet"
           }
          ],
          "choropleth": [
           {
            "colorbar": {
             "outlinewidth": 0,
             "ticks": ""
            },
            "type": "choropleth"
           }
          ],
          "contour": [
           {
            "colorbar": {
             "outlinewidth": 0,
             "ticks": ""
            },
            "colorscale": [
             [
              0,
              "#0d0887"
             ],
             [
              0.1111111111111111,
              "#46039f"
             ],
             [
              0.2222222222222222,
              "#7201a8"
             ],
             [
              0.3333333333333333,
              "#9c179e"
             ],
             [
              0.4444444444444444,
              "#bd3786"
             ],
             [
              0.5555555555555556,
              "#d8576b"
             ],
             [
              0.6666666666666666,
              "#ed7953"
             ],
             [
              0.7777777777777778,
              "#fb9f3a"
             ],
             [
              0.8888888888888888,
              "#fdca26"
             ],
             [
              1,
              "#f0f921"
             ]
            ],
            "type": "contour"
           }
          ],
          "contourcarpet": [
           {
            "colorbar": {
             "outlinewidth": 0,
             "ticks": ""
            },
            "type": "contourcarpet"
           }
          ],
          "heatmap": [
           {
            "colorbar": {
             "outlinewidth": 0,
             "ticks": ""
            },
            "colorscale": [
             [
              0,
              "#0d0887"
             ],
             [
              0.1111111111111111,
              "#46039f"
             ],
             [
              0.2222222222222222,
              "#7201a8"
             ],
             [
              0.3333333333333333,
              "#9c179e"
             ],
             [
              0.4444444444444444,
              "#bd3786"
             ],
             [
              0.5555555555555556,
              "#d8576b"
             ],
             [
              0.6666666666666666,
              "#ed7953"
             ],
             [
              0.7777777777777778,
              "#fb9f3a"
             ],
             [
              0.8888888888888888,
              "#fdca26"
             ],
             [
              1,
              "#f0f921"
             ]
            ],
            "type": "heatmap"
           }
          ],
          "heatmapgl": [
           {
            "colorbar": {
             "outlinewidth": 0,
             "ticks": ""
            },
            "colorscale": [
             [
              0,
              "#0d0887"
             ],
             [
              0.1111111111111111,
              "#46039f"
             ],
             [
              0.2222222222222222,
              "#7201a8"
             ],
             [
              0.3333333333333333,
              "#9c179e"
             ],
             [
              0.4444444444444444,
              "#bd3786"
             ],
             [
              0.5555555555555556,
              "#d8576b"
             ],
             [
              0.6666666666666666,
              "#ed7953"
             ],
             [
              0.7777777777777778,
              "#fb9f3a"
             ],
             [
              0.8888888888888888,
              "#fdca26"
             ],
             [
              1,
              "#f0f921"
             ]
            ],
            "type": "heatmapgl"
           }
          ],
          "histogram": [
           {
            "marker": {
             "pattern": {
              "fillmode": "overlay",
              "size": 10,
              "solidity": 0.2
             }
            },
            "type": "histogram"
           }
          ],
          "histogram2d": [
           {
            "colorbar": {
             "outlinewidth": 0,
             "ticks": ""
            },
            "colorscale": [
             [
              0,
              "#0d0887"
             ],
             [
              0.1111111111111111,
              "#46039f"
             ],
             [
              0.2222222222222222,
              "#7201a8"
             ],
             [
              0.3333333333333333,
              "#9c179e"
             ],
             [
              0.4444444444444444,
              "#bd3786"
             ],
             [
              0.5555555555555556,
              "#d8576b"
             ],
             [
              0.6666666666666666,
              "#ed7953"
             ],
             [
              0.7777777777777778,
              "#fb9f3a"
             ],
             [
              0.8888888888888888,
              "#fdca26"
             ],
             [
              1,
              "#f0f921"
             ]
            ],
            "type": "histogram2d"
           }
          ],
          "histogram2dcontour": [
           {
            "colorbar": {
             "outlinewidth": 0,
             "ticks": ""
            },
            "colorscale": [
             [
              0,
              "#0d0887"
             ],
             [
              0.1111111111111111,
              "#46039f"
             ],
             [
              0.2222222222222222,
              "#7201a8"
             ],
             [
              0.3333333333333333,
              "#9c179e"
             ],
             [
              0.4444444444444444,
              "#bd3786"
             ],
             [
              0.5555555555555556,
              "#d8576b"
             ],
             [
              0.6666666666666666,
              "#ed7953"
             ],
             [
              0.7777777777777778,
              "#fb9f3a"
             ],
             [
              0.8888888888888888,
              "#fdca26"
             ],
             [
              1,
              "#f0f921"
             ]
            ],
            "type": "histogram2dcontour"
           }
          ],
          "mesh3d": [
           {
            "colorbar": {
             "outlinewidth": 0,
             "ticks": ""
            },
            "type": "mesh3d"
           }
          ],
          "parcoords": [
           {
            "line": {
             "colorbar": {
              "outlinewidth": 0,
              "ticks": ""
             }
            },
            "type": "parcoords"
           }
          ],
          "pie": [
           {
            "automargin": true,
            "type": "pie"
           }
          ],
          "scatter": [
           {
            "fillpattern": {
             "fillmode": "overlay",
             "size": 10,
             "solidity": 0.2
            },
            "type": "scatter"
           }
          ],
          "scatter3d": [
           {
            "line": {
             "colorbar": {
              "outlinewidth": 0,
              "ticks": ""
             }
            },
            "marker": {
             "colorbar": {
              "outlinewidth": 0,
              "ticks": ""
             }
            },
            "type": "scatter3d"
           }
          ],
          "scattercarpet": [
           {
            "marker": {
             "colorbar": {
              "outlinewidth": 0,
              "ticks": ""
             }
            },
            "type": "scattercarpet"
           }
          ],
          "scattergeo": [
           {
            "marker": {
             "colorbar": {
              "outlinewidth": 0,
              "ticks": ""
             }
            },
            "type": "scattergeo"
           }
          ],
          "scattergl": [
           {
            "marker": {
             "colorbar": {
              "outlinewidth": 0,
              "ticks": ""
             }
            },
            "type": "scattergl"
           }
          ],
          "scattermapbox": [
           {
            "marker": {
             "colorbar": {
              "outlinewidth": 0,
              "ticks": ""
             }
            },
            "type": "scattermapbox"
           }
          ],
          "scatterpolar": [
           {
            "marker": {
             "colorbar": {
              "outlinewidth": 0,
              "ticks": ""
             }
            },
            "type": "scatterpolar"
           }
          ],
          "scatterpolargl": [
           {
            "marker": {
             "colorbar": {
              "outlinewidth": 0,
              "ticks": ""
             }
            },
            "type": "scatterpolargl"
           }
          ],
          "scatterternary": [
           {
            "marker": {
             "colorbar": {
              "outlinewidth": 0,
              "ticks": ""
             }
            },
            "type": "scatterternary"
           }
          ],
          "surface": [
           {
            "colorbar": {
             "outlinewidth": 0,
             "ticks": ""
            },
            "colorscale": [
             [
              0,
              "#0d0887"
             ],
             [
              0.1111111111111111,
              "#46039f"
             ],
             [
              0.2222222222222222,
              "#7201a8"
             ],
             [
              0.3333333333333333,
              "#9c179e"
             ],
             [
              0.4444444444444444,
              "#bd3786"
             ],
             [
              0.5555555555555556,
              "#d8576b"
             ],
             [
              0.6666666666666666,
              "#ed7953"
             ],
             [
              0.7777777777777778,
              "#fb9f3a"
             ],
             [
              0.8888888888888888,
              "#fdca26"
             ],
             [
              1,
              "#f0f921"
             ]
            ],
            "type": "surface"
           }
          ],
          "table": [
           {
            "cells": {
             "fill": {
              "color": "#EBF0F8"
             },
             "line": {
              "color": "white"
             }
            },
            "header": {
             "fill": {
              "color": "#C8D4E3"
             },
             "line": {
              "color": "white"
             }
            },
            "type": "table"
           }
          ]
         },
         "layout": {
          "annotationdefaults": {
           "arrowcolor": "#2a3f5f",
           "arrowhead": 0,
           "arrowwidth": 1
          },
          "autotypenumbers": "strict",
          "coloraxis": {
           "colorbar": {
            "outlinewidth": 0,
            "ticks": ""
           }
          },
          "colorscale": {
           "diverging": [
            [
             0,
             "#8e0152"
            ],
            [
             0.1,
             "#c51b7d"
            ],
            [
             0.2,
             "#de77ae"
            ],
            [
             0.3,
             "#f1b6da"
            ],
            [
             0.4,
             "#fde0ef"
            ],
            [
             0.5,
             "#f7f7f7"
            ],
            [
             0.6,
             "#e6f5d0"
            ],
            [
             0.7,
             "#b8e186"
            ],
            [
             0.8,
             "#7fbc41"
            ],
            [
             0.9,
             "#4d9221"
            ],
            [
             1,
             "#276419"
            ]
           ],
           "sequential": [
            [
             0,
             "#0d0887"
            ],
            [
             0.1111111111111111,
             "#46039f"
            ],
            [
             0.2222222222222222,
             "#7201a8"
            ],
            [
             0.3333333333333333,
             "#9c179e"
            ],
            [
             0.4444444444444444,
             "#bd3786"
            ],
            [
             0.5555555555555556,
             "#d8576b"
            ],
            [
             0.6666666666666666,
             "#ed7953"
            ],
            [
             0.7777777777777778,
             "#fb9f3a"
            ],
            [
             0.8888888888888888,
             "#fdca26"
            ],
            [
             1,
             "#f0f921"
            ]
           ],
           "sequentialminus": [
            [
             0,
             "#0d0887"
            ],
            [
             0.1111111111111111,
             "#46039f"
            ],
            [
             0.2222222222222222,
             "#7201a8"
            ],
            [
             0.3333333333333333,
             "#9c179e"
            ],
            [
             0.4444444444444444,
             "#bd3786"
            ],
            [
             0.5555555555555556,
             "#d8576b"
            ],
            [
             0.6666666666666666,
             "#ed7953"
            ],
            [
             0.7777777777777778,
             "#fb9f3a"
            ],
            [
             0.8888888888888888,
             "#fdca26"
            ],
            [
             1,
             "#f0f921"
            ]
           ]
          },
          "colorway": [
           "#636efa",
           "#EF553B",
           "#00cc96",
           "#ab63fa",
           "#FFA15A",
           "#19d3f3",
           "#FF6692",
           "#B6E880",
           "#FF97FF",
           "#FECB52"
          ],
          "font": {
           "color": "#2a3f5f"
          },
          "geo": {
           "bgcolor": "white",
           "lakecolor": "white",
           "landcolor": "#E5ECF6",
           "showlakes": true,
           "showland": true,
           "subunitcolor": "white"
          },
          "hoverlabel": {
           "align": "left"
          },
          "hovermode": "closest",
          "mapbox": {
           "style": "light"
          },
          "paper_bgcolor": "white",
          "plot_bgcolor": "#E5ECF6",
          "polar": {
           "angularaxis": {
            "gridcolor": "white",
            "linecolor": "white",
            "ticks": ""
           },
           "bgcolor": "#E5ECF6",
           "radialaxis": {
            "gridcolor": "white",
            "linecolor": "white",
            "ticks": ""
           }
          },
          "scene": {
           "xaxis": {
            "backgroundcolor": "#E5ECF6",
            "gridcolor": "white",
            "gridwidth": 2,
            "linecolor": "white",
            "showbackground": true,
            "ticks": "",
            "zerolinecolor": "white"
           },
           "yaxis": {
            "backgroundcolor": "#E5ECF6",
            "gridcolor": "white",
            "gridwidth": 2,
            "linecolor": "white",
            "showbackground": true,
            "ticks": "",
            "zerolinecolor": "white"
           },
           "zaxis": {
            "backgroundcolor": "#E5ECF6",
            "gridcolor": "white",
            "gridwidth": 2,
            "linecolor": "white",
            "showbackground": true,
            "ticks": "",
            "zerolinecolor": "white"
           }
          },
          "shapedefaults": {
           "line": {
            "color": "#2a3f5f"
           }
          },
          "ternary": {
           "aaxis": {
            "gridcolor": "white",
            "linecolor": "white",
            "ticks": ""
           },
           "baxis": {
            "gridcolor": "white",
            "linecolor": "white",
            "ticks": ""
           },
           "bgcolor": "#E5ECF6",
           "caxis": {
            "gridcolor": "white",
            "linecolor": "white",
            "ticks": ""
           }
          },
          "title": {
           "x": 0.05
          },
          "xaxis": {
           "automargin": true,
           "gridcolor": "white",
           "linecolor": "white",
           "ticks": "",
           "title": {
            "standoff": 15
           },
           "zerolinecolor": "white",
           "zerolinewidth": 2
          },
          "yaxis": {
           "automargin": true,
           "gridcolor": "white",
           "linecolor": "white",
           "ticks": "",
           "title": {
            "standoff": 15
           },
           "zerolinecolor": "white",
           "zerolinewidth": 2
          }
         }
        },
        "title": {
         "text": "Average Altitude by Country"
        }
       }
      }
     },
     "metadata": {},
     "output_type": "display_data"
    },
    {
     "data": {
      "image/png": "[encoded data removed]",
      "text/plain": [
       "<Figure size 1000x500 with 1 Axes>"
      ]
     },
     "metadata": {},
     "output_type": "display_data"
    }
   ],
   "source": [
    "# Group the data by country and calculate the mean of Altitude\n",
    "df_grouped = df.groupby('Country of Origin')['Altitude'].mean().reset_index()\n",
    "\n",
    "# Create a Choropleth map\n",
    "fig = px.choropleth(df_grouped, \n",
    "                    locations='Country of Origin', \n",
    "                    locationmode='country names',\n",
    "                    color='Altitude',\n",
    "                    hover_name='Country of Origin',\n",
    "                    color_continuous_scale=px.colors.sequential.Plasma,\n",
    "                    title='Average Altitude by Country')\n",
    "\n",
    "fig.show()\n",
    "\n",
    "# Create a bar plot with gray color\n",
    "plt.figure(figsize=(10, 5))\n",
    "sns.barplot(x=df_grouped['Country of Origin'], y=df_grouped['Altitude'], color='gray')\n",
    "plt.title('Average Altitude by Country')\n",
    "plt.xlabel('Country of Origin')\n",
    "plt.ylabel('Average Altitude')\n",
    "plt.xticks(rotation=90)\n",
    "plt.show()\n"
   ]
  },
  {
   "cell_type": "code",
   "execution_count": 22,
   "id": "41d8444c",
   "metadata": {
    "execution": {
     "iopub.execute_input": "2023-06-29T03:53:42.225377Z",
     "iopub.status.busy": "2023-06-29T03:53:42.224722Z",
     "iopub.status.idle": "2023-06-29T03:53:42.713447Z",
     "shell.execute_reply": "2023-06-29T03:53:42.711909Z"
    },
    "papermill": {
     "duration": 0.507321,
     "end_time": "2023-06-29T03:53:42.715963",
     "exception": false,
     "start_time": "2023-06-29T03:53:42.208642",
     "status": "completed"
    },
    "tags": []
   },
   "outputs": [
    {
     "data": {
      "application/vnd.plotly.v1+json": {
       "config": {
        "plotlyServerURL": "https://plot.ly"
       },
       "data": [
        {
         "coloraxis": "coloraxis",
         "geo": "geo",
         "hovertemplate": "<b>%{hovertext}</b><br><br>Country of Origin=%{location}<br>Count=%{z}<extra></extra>",
         "hovertext": [
          "Taiwan",
          "Guatemala",
          "Colombia",
          "Honduras",
          "Thailand",
          "Ethiopia",
          "Brazil",
          "Costa Rica",
          "Nicaragua",
          "El Salvador",
          "Tanzania, United Republic Of",
          "United States (Hawaii)",
          "Mexico",
          "Peru",
          "Vietnam",
          "Uganda",
          "Indonesia",
          "Laos",
          "Panama",
          "Kenya",
          "Madagascar",
          "Myanmar"
         ],
         "locationmode": "country names",
         "locations": [
          "Taiwan",
          "Guatemala",
          "Colombia",
          "Honduras",
          "Thailand",
          "Ethiopia",
          "Brazil",
          "Costa Rica",
          "Nicaragua",
          "El Salvador",
          "Tanzania, United Republic Of",
          "United States (Hawaii)",
          "Mexico",
          "Peru",
          "Vietnam",
          "Uganda",
          "Indonesia",
          "Laos",
          "Panama",
          "Kenya",
          "Madagascar",
          "Myanmar"
         ],
         "name": "",
         "type": "choropleth",
         "z": [
          61,
          21,
          19,
          13,
          12,
          11,
          10,
          8,
          7,
          7,
          6,
          5,
          4,
          4,
          4,
          3,
          3,
          3,
          2,
          2,
          1,
          1
         ]
        }
       ],
       "layout": {
        "coloraxis": {
         "colorbar": {
          "title": {
           "text": "Count"
          }
         },
         "colorscale": [
          [
           0,
           "#0d0887"
          ],
          [
           0.1111111111111111,
           "#46039f"
          ],
          [
           0.2222222222222222,
           "#7201a8"
          ],
          [
           0.3333333333333333,
           "#9c179e"
          ],
          [
           0.4444444444444444,
           "#bd3786"
          ],
          [
           0.5555555555555556,
           "#d8576b"
          ],
          [
           0.6666666666666666,
           "#ed7953"
          ],
          [
           0.7777777777777778,
           "#fb9f3a"
          ],
          [
           0.8888888888888888,
           "#fdca26"
          ],
          [
           1,
           "#f0f921"
          ]
         ]
        },
        "geo": {
         "center": {},
         "domain": {
          "x": [
           0,
           1
          ],
          "y": [
           0,
           1
          ]
         }
        },
        "legend": {
         "tracegroupgap": 0
        },
        "template": {
         "data": {
          "bar": [
           {
            "error_x": {
             "color": "#2a3f5f"
            },
            "error_y": {
             "color": "#2a3f5f"
            },
            "marker": {
             "line": {
              "color": "#E5ECF6",
              "width": 0.5
             },
             "pattern": {
              "fillmode": "overlay",
              "size": 10,
              "solidity": 0.2
             }
            },
            "type": "bar"
           }
          ],
          "barpolar": [
           {
            "marker": {
             "line": {
              "color": "#E5ECF6",
              "width": 0.5
             },
             "pattern": {
              "fillmode": "overlay",
              "size": 10,
              "solidity": 0.2
             }
            },
            "type": "barpolar"
           }
          ],
          "carpet": [
           {
            "aaxis": {
             "endlinecolor": "#2a3f5f",
             "gridcolor": "white",
             "linecolor": "white",
             "minorgridcolor": "white",
             "startlinecolor": "#2a3f5f"
            },
            "baxis": {
             "endlinecolor": "#2a3f5f",
             "gridcolor": "white",
             "linecolor": "white",
             "minorgridcolor": "white",
             "startlinecolor": "#2a3f5f"
            },
            "type": "carpet"
           }
          ],
          "choropleth": [
           {
            "colorbar": {
             "outlinewidth": 0,
             "ticks": ""
            },
            "type": "choropleth"
           }
          ],
          "contour": [
           {
            "colorbar": {
             "outlinewidth": 0,
             "ticks": ""
            },
            "colorscale": [
             [
              0,
              "#0d0887"
             ],
             [
              0.1111111111111111,
              "#46039f"
             ],
             [
              0.2222222222222222,
              "#7201a8"
             ],
             [
              0.3333333333333333,
              "#9c179e"
             ],
             [
              0.4444444444444444,
              "#bd3786"
             ],
             [
              0.5555555555555556,
              "#d8576b"
             ],
             [
              0.6666666666666666,
              "#ed7953"
             ],
             [
              0.7777777777777778,
              "#fb9f3a"
             ],
             [
              0.8888888888888888,
              "#fdca26"
             ],
             [
              1,
              "#f0f921"
             ]
            ],
            "type": "contour"
           }
          ],
          "contourcarpet": [
           {
            "colorbar": {
             "outlinewidth": 0,
             "ticks": ""
            },
            "type": "contourcarpet"
           }
          ],
          "heatmap": [
           {
            "colorbar": {
             "outlinewidth": 0,
             "ticks": ""
            },
            "colorscale": [
             [
              0,
              "#0d0887"
             ],
             [
              0.1111111111111111,
              "#46039f"
             ],
             [
              0.2222222222222222,
              "#7201a8"
             ],
             [
              0.3333333333333333,
              "#9c179e"
             ],
             [
              0.4444444444444444,
              "#bd3786"
             ],
             [
              0.5555555555555556,
              "#d8576b"
             ],
             [
              0.6666666666666666,
              "#ed7953"
             ],
             [
              0.7777777777777778,
              "#fb9f3a"
             ],
             [
              0.8888888888888888,
              "#fdca26"
             ],
             [
              1,
              "#f0f921"
             ]
            ],
            "type": "heatmap"
           }
          ],
          "heatmapgl": [
           {
            "colorbar": {
             "outlinewidth": 0,
             "ticks": ""
            },
            "colorscale": [
             [
              0,
              "#0d0887"
             ],
             [
              0.1111111111111111,
              "#46039f"
             ],
             [
              0.2222222222222222,
              "#7201a8"
             ],
             [
              0.3333333333333333,
              "#9c179e"
             ],
             [
              0.4444444444444444,
              "#bd3786"
             ],
             [
              0.5555555555555556,
              "#d8576b"
             ],
             [
              0.6666666666666666,
              "#ed7953"
             ],
             [
              0.7777777777777778,
              "#fb9f3a"
             ],
             [
              0.8888888888888888,
              "#fdca26"
             ],
             [
              1,
              "#f0f921"
             ]
            ],
            "type": "heatmapgl"
           }
          ],
          "histogram": [
           {
            "marker": {
             "pattern": {
              "fillmode": "overlay",
              "size": 10,
              "solidity": 0.2
             }
            },
            "type": "histogram"
           }
          ],
          "histogram2d": [
           {
            "colorbar": {
             "outlinewidth": 0,
             "ticks": ""
            },
            "colorscale": [
             [
              0,
              "#0d0887"
             ],
             [
              0.1111111111111111,
              "#46039f"
             ],
             [
              0.2222222222222222,
              "#7201a8"
             ],
             [
              0.3333333333333333,
              "#9c179e"
             ],
             [
              0.4444444444444444,
              "#bd3786"
             ],
             [
              0.5555555555555556,
              "#d8576b"
             ],
             [
              0.6666666666666666,
              "#ed7953"
             ],
             [
              0.7777777777777778,
              "#fb9f3a"
             ],
             [
              0.8888888888888888,
              "#fdca26"
             ],
             [
              1,
              "#f0f921"
             ]
            ],
            "type": "histogram2d"
           }
          ],
          "histogram2dcontour": [
           {
            "colorbar": {
             "outlinewidth": 0,
             "ticks": ""
            },
            "colorscale": [
             [
              0,
              "#0d0887"
             ],
             [
              0.1111111111111111,
              "#46039f"
             ],
             [
              0.2222222222222222,
              "#7201a8"
             ],
             [
              0.3333333333333333,
              "#9c179e"
             ],
             [
              0.4444444444444444,
              "#bd3786"
             ],
             [
              0.5555555555555556,
              "#d8576b"
             ],
             [
              0.6666666666666666,
              "#ed7953"
             ],
             [
              0.7777777777777778,
              "#fb9f3a"
             ],
             [
              0.8888888888888888,
              "#fdca26"
             ],
             [
              1,
              "#f0f921"
             ]
            ],
            "type": "histogram2dcontour"
           }
          ],
          "mesh3d": [
           {
            "colorbar": {
             "outlinewidth": 0,
             "ticks": ""
            },
            "type": "mesh3d"
           }
          ],
          "parcoords": [
           {
            "line": {
             "colorbar": {
              "outlinewidth": 0,
              "ticks": ""
             }
            },
            "type": "parcoords"
           }
          ],
          "pie": [
           {
            "automargin": true,
            "type": "pie"
           }
          ],
          "scatter": [
           {
            "fillpattern": {
             "fillmode": "overlay",
             "size": 10,
             "solidity": 0.2
            },
            "type": "scatter"
           }
          ],
          "scatter3d": [
           {
            "line": {
             "colorbar": {
              "outlinewidth": 0,
              "ticks": ""
             }
            },
            "marker": {
             "colorbar": {
              "outlinewidth": 0,
              "ticks": ""
             }
            },
            "type": "scatter3d"
           }
          ],
          "scattercarpet": [
           {
            "marker": {
             "colorbar": {
              "outlinewidth": 0,
              "ticks": ""
             }
            },
            "type": "scattercarpet"
           }
          ],
          "scattergeo": [
           {
            "marker": {
             "colorbar": {
              "outlinewidth": 0,
              "ticks": ""
             }
            },
            "type": "scattergeo"
           }
          ],
          "scattergl": [
           {
            "marker": {
             "colorbar": {
              "outlinewidth": 0,
              "ticks": ""
             }
            },
            "type": "scattergl"
           }
          ],
          "scattermapbox": [
           {
            "marker": {
             "colorbar": {
              "outlinewidth": 0,
              "ticks": ""
             }
            },
            "type": "scattermapbox"
           }
          ],
          "scatterpolar": [
           {
            "marker": {
             "colorbar": {
              "outlinewidth": 0,
              "ticks": ""
             }
            },
            "type": "scatterpolar"
           }
          ],
          "scatterpolargl": [
           {
            "marker": {
             "colorbar": {
              "outlinewidth": 0,
              "ticks": ""
             }
            },
            "type": "scatterpolargl"
           }
          ],
          "scatterternary": [
           {
            "marker": {
             "colorbar": {
              "outlinewidth": 0,
              "ticks": ""
             }
            },
            "type": "scatterternary"
           }
          ],
          "surface": [
           {
            "colorbar": {
             "outlinewidth": 0,
             "ticks": ""
            },
            "colorscale": [
             [
              0,
              "#0d0887"
             ],
             [
              0.1111111111111111,
              "#46039f"
             ],
             [
              0.2222222222222222,
              "#7201a8"
             ],
             [
              0.3333333333333333,
              "#9c179e"
             ],
             [
              0.4444444444444444,
              "#bd3786"
             ],
             [
              0.5555555555555556,
              "#d8576b"
             ],
             [
              0.6666666666666666,
              "#ed7953"
             ],
             [
              0.7777777777777778,
              "#fb9f3a"
             ],
             [
              0.8888888888888888,
              "#fdca26"
             ],
             [
              1,
              "#f0f921"
             ]
            ],
            "type": "surface"
           }
          ],
          "table": [
           {
            "cells": {
             "fill": {
              "color": "#EBF0F8"
             },
             "line": {
              "color": "white"
             }
            },
            "header": {
             "fill": {
              "color": "#C8D4E3"
             },
             "line": {
              "color": "white"
             }
            },
            "type": "table"
           }
          ]
         },
         "layout": {
          "annotationdefaults": {
           "arrowcolor": "#2a3f5f",
           "arrowhead": 0,
           "arrowwidth": 1
          },
          "autotypenumbers": "strict",
          "coloraxis": {
           "colorbar": {
            "outlinewidth": 0,
            "ticks": ""
           }
          },
          "colorscale": {
           "diverging": [
            [
             0,
             "#8e0152"
            ],
            [
             0.1,
             "#c51b7d"
            ],
            [
             0.2,
             "#de77ae"
            ],
            [
             0.3,
             "#f1b6da"
            ],
            [
             0.4,
             "#fde0ef"
            ],
            [
             0.5,
             "#f7f7f7"
            ],
            [
             0.6,
             "#e6f5d0"
            ],
            [
             0.7,
             "#b8e186"
            ],
            [
             0.8,
             "#7fbc41"
            ],
            [
             0.9,
             "#4d9221"
            ],
            [
             1,
             "#276419"
            ]
           ],
           "sequential": [
            [
             0,
             "#0d0887"
            ],
            [
             0.1111111111111111,
             "#46039f"
            ],
            [
             0.2222222222222222,
             "#7201a8"
            ],
            [
             0.3333333333333333,
             "#9c179e"
            ],
            [
             0.4444444444444444,
             "#bd3786"
            ],
            [
             0.5555555555555556,
             "#d8576b"
            ],
            [
             0.6666666666666666,
             "#ed7953"
            ],
            [
             0.7777777777777778,
             "#fb9f3a"
            ],
            [
             0.8888888888888888,
             "#fdca26"
            ],
            [
             1,
             "#f0f921"
            ]
           ],
           "sequentialminus": [
            [
             0,
             "#0d0887"
            ],
            [
             0.1111111111111111,
             "#46039f"
            ],
            [
             0.2222222222222222,
             "#7201a8"
            ],
            [
             0.3333333333333333,
             "#9c179e"
            ],
            [
             0.4444444444444444,
             "#bd3786"
            ],
            [
             0.5555555555555556,
             "#d8576b"
            ],
            [
             0.6666666666666666,
             "#ed7953"
            ],
            [
             0.7777777777777778,
             "#fb9f3a"
            ],
            [
             0.8888888888888888,
             "#fdca26"
            ],
            [
             1,
             "#f0f921"
            ]
           ]
          },
          "colorway": [
           "#636efa",
           "#EF553B",
           "#00cc96",
           "#ab63fa",
           "#FFA15A",
           "#19d3f3",
           "#FF6692",
           "#B6E880",
           "#FF97FF",
           "#FECB52"
          ],
          "font": {
           "color": "#2a3f5f"
          },
          "geo": {
           "bgcolor": "white",
           "lakecolor": "white",
           "landcolor": "#E5ECF6",
           "showlakes": true,
           "showland": true,
           "subunitcolor": "white"
          },
          "hoverlabel": {
           "align": "left"
          },
          "hovermode": "closest",
          "mapbox": {
           "style": "light"
          },
          "paper_bgcolor": "white",
          "plot_bgcolor": "#E5ECF6",
          "polar": {
           "angularaxis": {
            "gridcolor": "white",
            "linecolor": "white",
            "ticks": ""
           },
           "bgcolor": "#E5ECF6",
           "radialaxis": {
            "gridcolor": "white",
            "linecolor": "white",
            "ticks": ""
           }
          },
          "scene": {
           "xaxis": {
            "backgroundcolor": "#E5ECF6",
            "gridcolor": "white",
            "gridwidth": 2,
            "linecolor": "white",
            "showbackground": true,
            "ticks": "",
            "zerolinecolor": "white"
           },
           "yaxis": {
            "backgroundcolor": "#E5ECF6",
            "gridcolor": "white",
            "gridwidth": 2,
            "linecolor": "white",
            "showbackground": true,
            "ticks": "",
            "zerolinecolor": "white"
           },
           "zaxis": {
            "backgroundcolor": "#E5ECF6",
            "gridcolor": "white",
            "gridwidth": 2,
            "linecolor": "white",
            "showbackground": true,
            "ticks": "",
            "zerolinecolor": "white"
           }
          },
          "shapedefaults": {
           "line": {
            "color": "#2a3f5f"
           }
          },
          "ternary": {
           "aaxis": {
            "gridcolor": "white",
            "linecolor": "white",
            "ticks": ""
           },
           "baxis": {
            "gridcolor": "white",
            "linecolor": "white",
            "ticks": ""
           },
           "bgcolor": "#E5ECF6",
           "caxis": {
            "gridcolor": "white",
            "linecolor": "white",
            "ticks": ""
           }
          },
          "title": {
           "x": 0.05
          },
          "xaxis": {
           "automargin": true,
           "gridcolor": "white",
           "linecolor": "white",
           "ticks": "",
           "title": {
            "standoff": 15
           },
           "zerolinecolor": "white",
           "zerolinewidth": 2
          },
          "yaxis": {
           "automargin": true,
           "gridcolor": "white",
           "linecolor": "white",
           "ticks": "",
           "title": {
            "standoff": 15
           },
           "zerolinecolor": "white",
           "zerolinewidth": 2
          }
         }
        },
        "title": {
         "text": "Count of Unique Countries"
        }
       }
      }
     },
     "metadata": {},
     "output_type": "display_data"
    },
    {
     "data": {
      "image/png": "[encoded data removed]",
      "text/plain": [
       "<Figure size 1000x500 with 1 Axes>"
      ]
     },
     "metadata": {},
     "output_type": "display_data"
    }
   ],
   "source": [
    "# Count the unique occurrences of each country\n",
    "df_count = df['Country of Origin'].value_counts().reset_index()\n",
    "df_count.columns = ['Country of Origin', 'Count']\n",
    "\n",
    "# Create a choropleth map\n",
    "fig = px.choropleth(df_count, \n",
    "                    locations='Country of Origin', \n",
    "                    locationmode='country names',\n",
    "                    color='Count',\n",
    "                    hover_name='Country of Origin',\n",
    "                    color_continuous_scale=px.colors.sequential.Plasma,\n",
    "                    title='Count of Unique Countries')\n",
    "\n",
    "fig.show()\n",
    "\n",
    "# Create a bar plot\n",
    "plt.figure(figsize=(10, 5))\n",
    "sns.barplot(x=df_count['Country of Origin'], y=df_count['Count'], color='gray')\n",
    "plt.title('Count of Unique Countries')\n",
    "plt.xlabel('Country of Origin')\n",
    "plt.ylabel('Count')\n",
    "plt.xticks(rotation=90)\n",
    "plt.show()"
   ]
  },
  {
   "cell_type": "markdown",
   "id": "589c6385",
   "metadata": {
    "papermill": {
     "duration": 0.015211,
     "end_time": "2023-06-29T03:53:42.747329",
     "exception": false,
     "start_time": "2023-06-29T03:53:42.732118",
     "status": "completed"
    },
    "tags": []
   },
   "source": [
    "# CORRELATION \n",
    "\n",
    "## Dealing with categorical and numerical column\n",
    "    \n",
    "### Select Columns"
   ]
  },
  {
   "cell_type": "code",
   "execution_count": 23,
   "id": "6685c7f8",
   "metadata": {
    "execution": {
     "iopub.execute_input": "2023-06-29T03:53:42.781334Z",
     "iopub.status.busy": "2023-06-29T03:53:42.780944Z",
     "iopub.status.idle": "2023-06-29T03:53:42.794458Z",
     "shell.execute_reply": "2023-06-29T03:53:42.793549Z"
    },
    "papermill": {
     "duration": 0.033482,
     "end_time": "2023-06-29T03:53:42.796961",
     "exception": false,
     "start_time": "2023-06-29T03:53:42.763479",
     "status": "completed"
    },
    "tags": []
   },
   "outputs": [],
   "source": [
    "data = df.copy()\n",
    "categorical_columns = ['Processing Method']\n",
    "numerical_columns = ['Altitude', 'Aroma', 'Flavor', 'Aftertaste', 'Acidity', 'Body', 'Balance', 'Overall', 'Total Cup Points', 'Moisture Percentage', 'Category One Defects', 'Quakers', 'Category Two Defects', 'Coffee Age']\n",
    "columns_to_drop = ['Country of Origin', 'Color']\n",
    "data.drop(columns_to_drop, axis=1, inplace=True)\n",
    "dummy_variables = pd.get_dummies(data, columns=categorical_columns, drop_first=False)"
   ]
  },
  {
   "cell_type": "markdown",
   "id": "9bd28b61",
   "metadata": {
    "papermill": {
     "duration": 0.015108,
     "end_time": "2023-06-29T03:53:42.828217",
     "exception": false,
     "start_time": "2023-06-29T03:53:42.813109",
     "status": "completed"
    },
    "tags": []
   },
   "source": [
    "### Preprocessing and Scaling the data"
   ]
  },
  {
   "cell_type": "code",
   "execution_count": 24,
   "id": "c08eb427",
   "metadata": {
    "execution": {
     "iopub.execute_input": "2023-06-29T03:53:42.860879Z",
     "iopub.status.busy": "2023-06-29T03:53:42.860485Z",
     "iopub.status.idle": "2023-06-29T03:53:42.871936Z",
     "shell.execute_reply": "2023-06-29T03:53:42.870673Z"
    },
    "papermill": {
     "duration": 0.030856,
     "end_time": "2023-06-29T03:53:42.874323",
     "exception": false,
     "start_time": "2023-06-29T03:53:42.843467",
     "status": "completed"
    },
    "tags": []
   },
   "outputs": [],
   "source": [
    "scaler = StandardScaler()\n",
    "\n",
    "# Scale the numerical columns\n",
    "scaled_numerical = scaler.fit_transform(data[numerical_columns])\n",
    "\n",
    "# Convert the scaled numerical columns\n",
    "scaled_numerical_df = pd.DataFrame(scaled_numerical, columns=numerical_columns)"
   ]
  },
  {
   "cell_type": "markdown",
   "id": "eaa28a82",
   "metadata": {
    "papermill": {
     "duration": 0.015358,
     "end_time": "2023-06-29T03:53:42.905587",
     "exception": false,
     "start_time": "2023-06-29T03:53:42.890229",
     "status": "completed"
    },
    "tags": []
   },
   "source": [
    "##  2.Dealing with categorical variables\n",
    "\n",
    "### Create Dummy Variables"
   ]
  },
  {
   "cell_type": "code",
   "execution_count": 25,
   "id": "932ae0d6",
   "metadata": {
    "execution": {
     "iopub.execute_input": "2023-06-29T03:53:42.938586Z",
     "iopub.status.busy": "2023-06-29T03:53:42.938215Z",
     "iopub.status.idle": "2023-06-29T03:53:42.944741Z",
     "shell.execute_reply": "2023-06-29T03:53:42.943617Z"
    },
    "papermill": {
     "duration": 0.026181,
     "end_time": "2023-06-29T03:53:42.947094",
     "exception": false,
     "start_time": "2023-06-29T03:53:42.920913",
     "status": "completed"
    },
    "tags": []
   },
   "outputs": [],
   "source": [
    "# Drop the original numerical columns\n",
    "dummy_variables = dummy_variables.drop(numerical_columns, axis=1)\n",
    "\n",
    "# Concatenate the dummy variables and scaled numerical columns\n",
    "processed_df = pd.concat([dummy_variables, scaled_numerical_df], axis=1)"
   ]
  },
  {
   "cell_type": "markdown",
   "id": "8e5e0c25",
   "metadata": {
    "papermill": {
     "duration": 0.016034,
     "end_time": "2023-06-29T03:53:42.979528",
     "exception": false,
     "start_time": "2023-06-29T03:53:42.963494",
     "status": "completed"
    },
    "tags": []
   },
   "source": [
    "###  Corelation Matrix with dummy variables"
   ]
  },
  {
   "cell_type": "code",
   "execution_count": 26,
   "id": "0f0253d2",
   "metadata": {
    "execution": {
     "iopub.execute_input": "2023-06-29T03:53:43.014256Z",
     "iopub.status.busy": "2023-06-29T03:53:43.013874Z",
     "iopub.status.idle": "2023-06-29T03:53:44.691719Z",
     "shell.execute_reply": "2023-06-29T03:53:44.690708Z"
    },
    "papermill": {
     "duration": 1.698894,
     "end_time": "2023-06-29T03:53:44.693994",
     "exception": false,
     "start_time": "2023-06-29T03:53:42.995100",
     "status": "completed"
    },
    "tags": []
   },
   "outputs": [
    {
     "data": {
      "image/png": "[encoded data removed]",
      "text/plain": [
       "<Figure size 1500x1000 with 2 Axes>"
      ]
     },
     "metadata": {},
     "output_type": "display_data"
    },
    {
     "data": {
      "image/png": "[encoded data removed]",
      "text/plain": [
       "<Figure size 640x480 with 2 Axes>"
      ]
     },
     "metadata": {},
     "output_type": "display_data"
    }
   ],
   "source": [
    "correlation_matrix = processed_df.corr()\n",
    "\n",
    "#Graph I.\n",
    "plt.figure(figsize=(15, 10))\n",
    "sns.heatmap(correlation_matrix, annot=True, cmap='coolwarm', linewidths=0.5, fmt='.2f')\n",
    "plt.title(\"Correlation Matrix Heatmap\")\n",
    "plt.show()\n",
    "\n",
    "corr = processed_df.corr()\n",
    "target_corr = corr['Total Cup Points'].drop('Total Cup Points')\n",
    "\n",
    "# Sort correlation values in descending order\n",
    "target_corr_sorted = target_corr.sort_values(ascending=False)\n",
    "\n",
    "#Graph II\n",
    "# Create a heatmap of the correlations with the target column\n",
    "sns.set(font_scale=0.8)\n",
    "sns.set_style(\"white\")\n",
    "sns.set_palette(\"PuBuGn_d\")\n",
    "sns.heatmap(target_corr_sorted.to_frame(), cmap=\"coolwarm\", annot=True, fmt='.2f')\n",
    "plt.title('Correlation with Total Cup Points')\n",
    "plt.show()"
   ]
  },
  {
   "cell_type": "markdown",
   "id": "c36b8087",
   "metadata": {
    "papermill": {
     "duration": 0.020074,
     "end_time": "2023-06-29T03:53:44.734345",
     "exception": false,
     "start_time": "2023-06-29T03:53:44.714271",
     "status": "completed"
    },
    "tags": []
   },
   "source": [
    "**Intepret the Result:**\n",
    "\n",
    "1. Overall, `Flavor`, `Aftertaste`, `Balance`, `Acidity`, `Aroma`, `Body`: These variables have strong positive correlations with 'Total Cup Points'. This means that as these variables increase, the 'Total Cup Points' also tend to increase. For example, a higher `'Overall'` rating or 'Flavor' rating is associated with a higher 'Total Cup Points' score.\n",
    "\n",
    "2. `Processing Method_Pulped natural / honey, Altitude, Coffee Age, Processing Method_Washed / Wet`: These variables have weak positive correlations with 'Total Cup Points'. This suggests that these variables might have a slight positive effect on 'Total Cup Points', but the relationship is not as strong as the previous variables.\n",
    "\n",
    "3. `Moisture Percentage`, `Category One Defects`: These variables have weak negative correlations with 'Total Cup Points'. This means that as these variables increase, the 'Total Cup Points' tend to decrease slightly. However, the correlation is weak, so these variables might not have a significant impact on 'Total Cup Points'.\n",
    "\n",
    "4. `Processing Method_Natural / Dry`, `Category Two Defects`, `Quakers`: These variables have moderate negative correlations with 'Total Cup Points'. This suggests that as these variables increase, the 'Total Cup Points' tend to decrease. For example, a higher number of 'Category Two Defects' or 'Quakers' is associated with a lower 'Total Cup Points' score.\n",
    "\n",
    "\n",
    "#  PREDICTIVE ANALYSIS\n",
    "\n",
    "##  Clustering Analysis \n",
    "\n",
    "The preprocessing step involved encoding of categorical variables and MinMax scaling for numerical variables:\n",
    "\n",
    "#### \n",
    " Label encoding was applied to the categorical features. The categories of each feature were assigned a unique numerical label.\n",
    "\n",
    "#### \n",
    " MinMax scaling was applied to the numerical features. This scaling method transforms the data to fit within a specific range, typically (0, 1). In this case, numerical_features were scaled."
   ]
  },
  {
   "cell_type": "code",
   "execution_count": 27,
   "id": "0cac2068",
   "metadata": {
    "execution": {
     "iopub.execute_input": "2023-06-29T03:53:44.777455Z",
     "iopub.status.busy": "2023-06-29T03:53:44.776627Z",
     "iopub.status.idle": "2023-06-29T03:53:45.769364Z",
     "shell.execute_reply": "2023-06-29T03:53:45.768226Z"
    },
    "papermill": {
     "duration": 1.017415,
     "end_time": "2023-06-29T03:53:45.772123",
     "exception": false,
     "start_time": "2023-06-29T03:53:44.754708",
     "status": "completed"
    },
    "tags": []
   },
   "outputs": [
    {
     "data": {
      "application/vnd.plotly.v1+json": {
       "config": {
        "plotlyServerURL": "https://plot.ly"
       },
       "data": [
        {
         "hovertemplate": "Dim_1=%{x}<br>Dim_2=%{y}<br>Total Cup Points=%{marker.color}<extra></extra>",
         "legendgroup": "",
         "marker": {
          "color": [
           89.33,
           87.58,
           87.42,
           87.17,
           87.08,
           87,
           86.92,
           86.75,
           86.67,
           86.5,
           86.25,
           86.25,
           86.25,
           86.17,
           86.17,
           86.08,
           86.08,
           86.08,
           85.92,
           85.83,
           85.75,
           85.67,
           85.67,
           85.67,
           85.58,
           85.5,
           85.5,
           85.5,
           85.5,
           85.42,
           85.42,
           85.33,
           85.33,
           85.33,
           85.33,
           85.25,
           85.25,
           85.25,
           85.25,
           85.17,
           85.08,
           85.08,
           85.08,
           85,
           85,
           85,
           85,
           85,
           84.92,
           84.92,
           84.83,
           84.83,
           84.83,
           84.83,
           84.83,
           84.75,
           84.75,
           84.75,
           84.75,
           84.67,
           84.67,
           84.67,
           84.58,
           84.58,
           84.58,
           84.58,
           84.58,
           84.58,
           84.5,
           84.5,
           84.5,
           84.5,
           84.5,
           84.42,
           84.33,
           84.33,
           84.33,
           84.33,
           84.33,
           84.25,
           84.25,
           84.25,
           84.17,
           84.08,
           84.08,
           84.08,
           84.08,
           84,
           84,
           84,
           84,
           84,
           84,
           83.92,
           83.92,
           83.92,
           83.92,
           83.83,
           83.83,
           83.83,
           83.83,
           83.83,
           83.83,
           83.75,
           83.75,
           83.67,
           83.67,
           83.67,
           83.67,
           83.67,
           83.58,
           83.58,
           83.58,
           83.5,
           83.5,
           83.5,
           83.5,
           83.42,
           83.42,
           83.42,
           83.33,
           83.33,
           83.33,
           83.33,
           83.33,
           83.33,
           83.33,
           83.33,
           83.25,
           83.25,
           83.25,
           83.25,
           83.25,
           83.25,
           83.17,
           83.17,
           83.08,
           83.08,
           83.08,
           83,
           82.92,
           82.92,
           82.92,
           82.92,
           82.83,
           82.83,
           82.83,
           82.75,
           82.75,
           82.67,
           82.67,
           82.67,
           82.67,
           82.58,
           82.58,
           82.58,
           82.5,
           82.5,
           82.5,
           82.5,
           82.5,
           82.5,
           82.5,
           82.42,
           82.33,
           82.33,
           82.33,
           82.33,
           82.25,
           82.17,
           82.17,
           82.17,
           82.08,
           82.08,
           82,
           82,
           82,
           82,
           82,
           81.92,
           81.92,
           81.83,
           81.83,
           81.83,
           81.75,
           81.75,
           81.67,
           81.58,
           81.58,
           81.5,
           81.42,
           81.33,
           81.17,
           81.17,
           81,
           80.83,
           80.5,
           80.42,
           80.42,
           80.33,
           80.33,
           80.17,
           80.08,
           80,
           79.67,
           78.08,
           78
          ],
          "coloraxis": "coloraxis",
          "symbol": "circle"
         },
         "mode": "markers",
         "name": "",
         "orientation": "v",
         "showlegend": false,
         "type": "scatter",
         "x": [
          -8.464262008666992,
          3.985891342163086,
          -10.618257522583008,
          -8.406562805175781,
          -10.643643379211426,
          -7.057342529296875,
          0.6636537909507751,
          -1.7684073448181152,
          -0.35756340622901917,
          0.2053373008966446,
          -8.309581756591797,
          -6.717867851257324,
          0.5879525542259216,
          -10.37084674835205,
          -8.616657257080078,
          0.5823847055435181,
          -7.7047810554504395,
          -2.025970697402954,
          1.647249460220337,
          0.23312483727931976,
          -10.520526885986328,
          0.49119284749031067,
          3.149850368499756,
          -8.144695281982422,
          3.552994966506958,
          -8.808089256286621,
          0.3669213056564331,
          0.4201242923736572,
          3.9149281978607178,
          2.392214298248291,
          3.5451769828796387,
          0.8383650183677673,
          0.7975032925605774,
          -7.722757816314697,
          -10.194258689880371,
          -8.30646800994873,
          3.5485565662384033,
          0.8097015619277954,
          -6.192129135131836,
          3.58376145362854,
          1.6510097980499268,
          -0.2864433228969574,
          -0.9684820175170898,
          2.0105063915252686,
          0.9000177383422852,
          -1.7689529657363892,
          -7.236865520477295,
          -7.739336967468262,
          -7.244831562042236,
          0.40964704751968384,
          1.657286286354065,
          -6.771934986114502,
          -0.7230075597763062,
          0.28908976912498474,
          -0.28613874316215515,
          0.3879644572734833,
          -8.964097023010254,
          3.2630040645599365,
          3.9063923358917236,
          -7.253890037536621,
          -10.446495056152344,
          -8.498348236083984,
          -0.2782590687274933,
          0.38427066802978516,
          -1.0656828880310059,
          0.39587491750717163,
          0.4099544882774353,
          2.809206247329712,
          -8.500271797180176,
          3.545354127883911,
          -6.9269022941589355,
          -7.733744144439697,
          0.9134677648544312,
          3.545670747756958,
          -7.28114128112793,
          -1.8311277627944946,
          -10.190536499023438,
          -7.7624287605285645,
          -8.697707176208496,
          -6.779061317443848,
          -7.284200668334961,
          -6.105335235595703,
          -6.943950176239014,
          -7.305880546569824,
          -0.3037396967411041,
          -1.4584615230560303,
          -7.574931621551514,
          -7.587516784667969,
          -6.933778285980225,
          0.31527212262153625,
          -7.727722644805908,
          0.32119932770729065,
          -8.71289348602295,
          -8.515414237976074,
          -8.172000885009766,
          -7.601134777069092,
          -1.9836220741271973,
          -8.720226287841797,
          -7.612689971923828,
          -8.223933219909668,
          -7.737262725830078,
          -8.712531089782715,
          2.3795759677886963,
          -9.299200057983398,
          -1.5139940977096558,
          -9.321722030639648,
          3.538006067276001,
          -1.566161870956421,
          -0.297312468290329,
          -8.43122386932373,
          0.65887850522995,
          0.667546808719635,
          -7.642650604248047,
          -6.991211891174316,
          -7.173814296722412,
          1.5564101934432983,
          -8.329195976257324,
          1.5588635206222534,
          2.003741979598999,
          3.9048266410827637,
          1.9967567920684814,
          -0.30497777462005615,
          -7.671957492828369,
          0.7078068852424622,
          -9.323946952819824,
          -8.537362098693848,
          3.9008874893188477,
          -1.935972809791565,
          0.3280433118343353,
          -8.923251152038574,
          0.6643710732460022,
          -8.154241561889648,
          -6.973295211791992,
          -7.010751724243164,
          -0.343342661857605,
          3.9031295776367188,
          -5.931132793426514,
          -7.34014892578125,
          -7.297007083892822,
          -7.165626525878906,
          3.905696392059326,
          -1.5076543092727661,
          -9.319683074951172,
          -2.0277233123779297,
          -7.3250017166137695,
          -1.9334770441055298,
          2.615879535675049,
          -1.0783073902130127,
          -9.607523918151855,
          -8.773881912231445,
          1.0478311777114868,
          -1.637913465499878,
          -7.346560478210449,
          0.9102011322975159,
          3.9085237979888916,
          -1.0735063552856445,
          -8.183009147644043,
          -0.7907271385192871,
          -7.355289459228516,
          3.5635125637054443,
          -1.6719555854797363,
          -7.377965927124023,
          0.8666311502456665,
          3.0005788803100586,
          3.2926583290100098,
          -8.171648979187012,
          -6.642685413360596,
          0.9363357424736023,
          -0.818080484867096,
          2.3786470890045166,
          -6.249670028686523,
          -7.3960862159729,
          3.5304017066955566,
          -0.4385296106338501,
          0.9726396799087524,
          1.5602021217346191,
          -8.599135398864746,
          -7.123250961303711,
          -6.772602081298828,
          -0.8281325101852417,
          -8.184004783630371,
          0.980970025062561,
          2.626268148422241,
          -9.864161491394043,
          -10.66307258605957,
          -10.640735626220703,
          -1.5055171251296997,
          -8.577168464660645,
          -2.032716989517212,
          1.0348491668701172,
          1.5591027736663818,
          -1.9854172468185425,
          1.5632742643356323,
          -9.395575523376465,
          -9.508174896240234,
          -6.595037460327148,
          -1.2411506175994873,
          -1.0867750644683838,
          -9.436416625976562,
          -1.0109034776687622,
          -6.584130764007568,
          -9.532651901245117,
          -9.082164764404297,
          -1.0912851095199585,
          -5.767605781555176,
          -6.5395097732543945,
          -9.248183250427246
         ],
         "xaxis": "x",
         "y": [
          9.588821411132812,
          -6.357548236846924,
          5.593540191650391,
          8.734977722167969,
          7.306586742401123,
          6.117802143096924,
          -6.817081928253174,
          -9.468676567077637,
          -8.148200035095215,
          -8.978556632995605,
          6.523455619812012,
          6.018301486968994,
          -6.904392719268799,
          6.40137243270874,
          9.399312973022461,
          -6.948152542114258,
          6.769533634185791,
          -9.94089126586914,
          -6.899850368499756,
          -8.975358009338379,
          6.184539794921875,
          -7.020923614501953,
          -8.079195976257324,
          9.523408889770508,
          -6.518973350524902,
          9.890636444091797,
          -7.136826992034912,
          -7.0994720458984375,
          -6.2965087890625,
          -10.090229988098145,
          -6.49911642074585,
          -7.1596174240112305,
          -7.078753471374512,
          6.766549587249756,
          6.382303714752197,
          6.529455184936523,
          -6.500647068023682,
          -7.105567455291748,
          4.6642231941223145,
          -6.552685737609863,
          -6.964319705963135,
          -8.077573776245117,
          -8.593832015991211,
          -9.872223854064941,
          -7.282276153564453,
          -9.481958389282227,
          6.047371864318848,
          5.814884185791016,
          6.050726890563965,
          -7.3607635498046875,
          -6.9841227531433105,
          3.6709108352661133,
          -7.113589763641357,
          -8.961366653442383,
          -8.07971477508545,
          -7.343422889709473,
          10.273332595825195,
          -5.671469688415527,
          -6.282622814178467,
          6.035828590393066,
          6.208097457885742,
          8.68189811706543,
          -8.04951286315918,
          -7.3001861572265625,
          -5.15728759765625,
          -7.385540962219238,
          -7.394956588745117,
          -10.004075050354004,
          8.689957618713379,
          -6.482264518737793,
          5.285879611968994,
          6.783242702484131,
          -7.4012017250061035,
          -6.4811530113220215,
          6.024726867675781,
          -10.465059280395508,
          6.38353967666626,
          7.963633060455322,
          9.353362083435059,
          3.4860129356384277,
          6.009368419647217,
          2.8988897800445557,
          5.270413398742676,
          6.013642311096191,
          -8.018611907958984,
          -9.086172103881836,
          5.878530502319336,
          5.867856979370117,
          5.27157735824585,
          -8.965239524841309,
          6.77155876159668,
          -8.969473838806152,
          9.361478805541992,
          8.67821979522705,
          5.723134994506836,
          5.853140830993652,
          -10.273554801940918,
          9.349845886230469,
          5.839404106140137,
          5.697107791900635,
          6.80520486831665,
          9.3860502243042,
          -10.08348560333252,
          9.146180152893066,
          -4.436766624450684,
          9.151677131652832,
          -6.455376148223877,
          -4.828766345977783,
          -8.020000457763672,
          5.120237350463867,
          -7.713893413543701,
          -7.70098876953125,
          5.816766738891602,
          5.2192063331604,
          9.476144790649414,
          -9.46191120147705,
          6.549700736999512,
          -9.461394309997559,
          -9.870203018188477,
          -6.281916618347168,
          -9.867594718933105,
          -8.014705657958984,
          5.765300273895264,
          -7.733582496643066,
          9.154953002929688,
          8.651469230651855,
          -6.253537654876709,
          -10.233044624328613,
          -9.014005661010742,
          9.856040954589844,
          -7.733429908752441,
          9.508660316467285,
          3.7909114360809326,
          5.195992469787598,
          -8.000991821289062,
          -6.25288724899292,
          3.808457851409912,
          5.052908420562744,
          5.073251247406006,
          9.473123550415039,
          -6.248901844024658,
          -4.465883731842041,
          9.150118827819824,
          -9.960827827453613,
          5.0560126304626465,
          -10.212820053100586,
          -10.158980369567871,
          -5.113554954528809,
          8.501989364624023,
          9.361775398254395,
          -9.647501945495605,
          -9.957082748413086,
          5.046566009521484,
          -7.77835750579834,
          -6.235622406005859,
          -5.172332763671875,
          7.782512664794922,
          -5.728841304779053,
          9.767173767089844,
          -9.028007507324219,
          -4.526988506317139,
          5.019271373748779,
          -7.836047172546387,
          -5.365636348724365,
          -9.512754440307617,
          7.773046016693115,
          8.684826850891113,
          -7.805631160736084,
          -7.038720607757568,
          -10.088309288024902,
          4.476799964904785,
          4.998924255371094,
          -6.398820877075195,
          -7.953316688537598,
          -7.842945098876953,
          -9.476129531860352,
          8.6254243850708,
          3.6182773113250732,
          3.6692373752593994,
          -7.028924942016602,
          5.639796257019043,
          -7.854240894317627,
          -10.180312156677246,
          9.381787300109863,
          7.534481525421143,
          7.339491844177246,
          -4.4690260887146,
          8.65491008758545,
          -9.967448234558105,
          -7.872881889343262,
          -9.505967140197754,
          -10.2805814743042,
          -9.490346908569336,
          9.183953285217285,
          9.673857688903809,
          8.677659034729004,
          -5.229488849639893,
          -5.166757583618164,
          9.208830833435059,
          -6.912950038909912,
          8.676767349243164,
          9.684515953063965,
          9.89719009399414,
          -5.162681579589844,
          4.016290187835693,
          8.674063682556152,
          10.316319465637207
         ],
         "yaxis": "y"
        }
       ],
       "layout": {
        "coloraxis": {
         "colorbar": {
          "title": {
           "text": "Total Cup Points"
          }
         },
         "colorscale": [
          [
           0,
           "#0d0887"
          ],
          [
           0.1111111111111111,
           "#46039f"
          ],
          [
           0.2222222222222222,
           "#7201a8"
          ],
          [
           0.3333333333333333,
           "#9c179e"
          ],
          [
           0.4444444444444444,
           "#bd3786"
          ],
          [
           0.5555555555555556,
           "#d8576b"
          ],
          [
           0.6666666666666666,
           "#ed7953"
          ],
          [
           0.7777777777777778,
           "#fb9f3a"
          ],
          [
           0.8888888888888888,
           "#fdca26"
          ],
          [
           1,
           "#f0f921"
          ]
         ]
        },
        "legend": {
         "tracegroupgap": 0
        },
        "template": {
         "data": {
          "bar": [
           {
            "error_x": {
             "color": "#2a3f5f"
            },
            "error_y": {
             "color": "#2a3f5f"
            },
            "marker": {
             "line": {
              "color": "#E5ECF6",
              "width": 0.5
             },
             "pattern": {
              "fillmode": "overlay",
              "size": 10,
              "solidity": 0.2
             }
            },
            "type": "bar"
           }
          ],
          "barpolar": [
           {
            "marker": {
             "line": {
              "color": "#E5ECF6",
              "width": 0.5
             },
             "pattern": {
              "fillmode": "overlay",
              "size": 10,
              "solidity": 0.2
             }
            },
            "type": "barpolar"
           }
          ],
          "carpet": [
           {
            "aaxis": {
             "endlinecolor": "#2a3f5f",
             "gridcolor": "white",
             "linecolor": "white",
             "minorgridcolor": "white",
             "startlinecolor": "#2a3f5f"
            },
            "baxis": {
             "endlinecolor": "#2a3f5f",
             "gridcolor": "white",
             "linecolor": "white",
             "minorgridcolor": "white",
             "startlinecolor": "#2a3f5f"
            },
            "type": "carpet"
           }
          ],
          "choropleth": [
           {
            "colorbar": {
             "outlinewidth": 0,
             "ticks": ""
            },
            "type": "choropleth"
           }
          ],
          "contour": [
           {
            "colorbar": {
             "outlinewidth": 0,
             "ticks": ""
            },
            "colorscale": [
             [
              0,
              "#0d0887"
             ],
             [
              0.1111111111111111,
              "#46039f"
             ],
             [
              0.2222222222222222,
              "#7201a8"
             ],
             [
              0.3333333333333333,
              "#9c179e"
             ],
             [
              0.4444444444444444,
              "#bd3786"
             ],
             [
              0.5555555555555556,
              "#d8576b"
             ],
             [
              0.6666666666666666,
              "#ed7953"
             ],
             [
              0.7777777777777778,
              "#fb9f3a"
             ],
             [
              0.8888888888888888,
              "#fdca26"
             ],
             [
              1,
              "#f0f921"
             ]
            ],
            "type": "contour"
           }
          ],
          "contourcarpet": [
           {
            "colorbar": {
             "outlinewidth": 0,
             "ticks": ""
            },
            "type": "contourcarpet"
           }
          ],
          "heatmap": [
           {
            "colorbar": {
             "outlinewidth": 0,
             "ticks": ""
            },
            "colorscale": [
             [
              0,
              "#0d0887"
             ],
             [
              0.1111111111111111,
              "#46039f"
             ],
             [
              0.2222222222222222,
              "#7201a8"
             ],
             [
              0.3333333333333333,
              "#9c179e"
             ],
             [
              0.4444444444444444,
              "#bd3786"
             ],
             [
              0.5555555555555556,
              "#d8576b"
             ],
             [
              0.6666666666666666,
              "#ed7953"
             ],
             [
              0.7777777777777778,
              "#fb9f3a"
             ],
             [
              0.8888888888888888,
              "#fdca26"
             ],
             [
              1,
              "#f0f921"
             ]
            ],
            "type": "heatmap"
           }
          ],
          "heatmapgl": [
           {
            "colorbar": {
             "outlinewidth": 0,
             "ticks": ""
            },
            "colorscale": [
             [
              0,
              "#0d0887"
             ],
             [
              0.1111111111111111,
              "#46039f"
             ],
             [
              0.2222222222222222,
              "#7201a8"
             ],
             [
              0.3333333333333333,
              "#9c179e"
             ],
             [
              0.4444444444444444,
              "#bd3786"
             ],
             [
              0.5555555555555556,
              "#d8576b"
             ],
             [
              0.6666666666666666,
              "#ed7953"
             ],
             [
              0.7777777777777778,
              "#fb9f3a"
             ],
             [
              0.8888888888888888,
              "#fdca26"
             ],
             [
              1,
              "#f0f921"
             ]
            ],
            "type": "heatmapgl"
           }
          ],
          "histogram": [
           {
            "marker": {
             "pattern": {
              "fillmode": "overlay",
              "size": 10,
              "solidity": 0.2
             }
            },
            "type": "histogram"
           }
          ],
          "histogram2d": [
           {
            "colorbar": {
             "outlinewidth": 0,
             "ticks": ""
            },
            "colorscale": [
             [
              0,
              "#0d0887"
             ],
             [
              0.1111111111111111,
              "#46039f"
             ],
             [
              0.2222222222222222,
              "#7201a8"
             ],
             [
              0.3333333333333333,
              "#9c179e"
             ],
             [
              0.4444444444444444,
              "#bd3786"
             ],
             [
              0.5555555555555556,
              "#d8576b"
             ],
             [
              0.6666666666666666,
              "#ed7953"
             ],
             [
              0.7777777777777778,
              "#fb9f3a"
             ],
             [
              0.8888888888888888,
              "#fdca26"
             ],
             [
              1,
              "#f0f921"
             ]
            ],
            "type": "histogram2d"
           }
          ],
          "histogram2dcontour": [
           {
            "colorbar": {
             "outlinewidth": 0,
             "ticks": ""
            },
            "colorscale": [
             [
              0,
              "#0d0887"
             ],
             [
              0.1111111111111111,
              "#46039f"
             ],
             [
              0.2222222222222222,
              "#7201a8"
             ],
             [
              0.3333333333333333,
              "#9c179e"
             ],
             [
              0.4444444444444444,
              "#bd3786"
             ],
             [
              0.5555555555555556,
              "#d8576b"
             ],
             [
              0.6666666666666666,
              "#ed7953"
             ],
             [
              0.7777777777777778,
              "#fb9f3a"
             ],
             [
              0.8888888888888888,
              "#fdca26"
             ],
             [
              1,
              "#f0f921"
             ]
            ],
            "type": "histogram2dcontour"
           }
          ],
          "mesh3d": [
           {
            "colorbar": {
             "outlinewidth": 0,
             "ticks": ""
            },
            "type": "mesh3d"
           }
          ],
          "parcoords": [
           {
            "line": {
             "colorbar": {
              "outlinewidth": 0,
              "ticks": ""
             }
            },
            "type": "parcoords"
           }
          ],
          "pie": [
           {
            "automargin": true,
            "type": "pie"
           }
          ],
          "scatter": [
           {
            "fillpattern": {
             "fillmode": "overlay",
             "size": 10,
             "solidity": 0.2
            },
            "type": "scatter"
           }
          ],
          "scatter3d": [
           {
            "line": {
             "colorbar": {
              "outlinewidth": 0,
              "ticks": ""
             }
            },
            "marker": {
             "colorbar": {
              "outlinewidth": 0,
              "ticks": ""
             }
            },
            "type": "scatter3d"
           }
          ],
          "scattercarpet": [
           {
            "marker": {
             "colorbar": {
              "outlinewidth": 0,
              "ticks": ""
             }
            },
            "type": "scattercarpet"
           }
          ],
          "scattergeo": [
           {
            "marker": {
             "colorbar": {
              "outlinewidth": 0,
              "ticks": ""
             }
            },
            "type": "scattergeo"
           }
          ],
          "scattergl": [
           {
            "marker": {
             "colorbar": {
              "outlinewidth": 0,
              "ticks": ""
             }
            },
            "type": "scattergl"
           }
          ],
          "scattermapbox": [
           {
            "marker": {
             "colorbar": {
              "outlinewidth": 0,
              "ticks": ""
             }
            },
            "type": "scattermapbox"
           }
          ],
          "scatterpolar": [
           {
            "marker": {
             "colorbar": {
              "outlinewidth": 0,
              "ticks": ""
             }
            },
            "type": "scatterpolar"
           }
          ],
          "scatterpolargl": [
           {
            "marker": {
             "colorbar": {
              "outlinewidth": 0,
              "ticks": ""
             }
            },
            "type": "scatterpolargl"
           }
          ],
          "scatterternary": [
           {
            "marker": {
             "colorbar": {
              "outlinewidth": 0,
              "ticks": ""
             }
            },
            "type": "scatterternary"
           }
          ],
          "surface": [
           {
            "colorbar": {
             "outlinewidth": 0,
             "ticks": ""
            },
            "colorscale": [
             [
              0,
              "#0d0887"
             ],
             [
              0.1111111111111111,
              "#46039f"
             ],
             [
              0.2222222222222222,
              "#7201a8"
             ],
             [
              0.3333333333333333,
              "#9c179e"
             ],
             [
              0.4444444444444444,
              "#bd3786"
             ],
             [
              0.5555555555555556,
              "#d8576b"
             ],
             [
              0.6666666666666666,
              "#ed7953"
             ],
             [
              0.7777777777777778,
              "#fb9f3a"
             ],
             [
              0.8888888888888888,
              "#fdca26"
             ],
             [
              1,
              "#f0f921"
             ]
            ],
            "type": "surface"
           }
          ],
          "table": [
           {
            "cells": {
             "fill": {
              "color": "#EBF0F8"
             },
             "line": {
              "color": "white"
             }
            },
            "header": {
             "fill": {
              "color": "#C8D4E3"
             },
             "line": {
              "color": "white"
             }
            },
            "type": "table"
           }
          ]
         },
         "layout": {
          "annotationdefaults": {
           "arrowcolor": "#2a3f5f",
           "arrowhead": 0,
           "arrowwidth": 1
          },
          "autotypenumbers": "strict",
          "coloraxis": {
           "colorbar": {
            "outlinewidth": 0,
            "ticks": ""
           }
          },
          "colorscale": {
           "diverging": [
            [
             0,
             "#8e0152"
            ],
            [
             0.1,
             "#c51b7d"
            ],
            [
             0.2,
             "#de77ae"
            ],
            [
             0.3,
             "#f1b6da"
            ],
            [
             0.4,
             "#fde0ef"
            ],
            [
             0.5,
             "#f7f7f7"
            ],
            [
             0.6,
             "#e6f5d0"
            ],
            [
             0.7,
             "#b8e186"
            ],
            [
             0.8,
             "#7fbc41"
            ],
            [
             0.9,
             "#4d9221"
            ],
            [
             1,
             "#276419"
            ]
           ],
           "sequential": [
            [
             0,
             "#0d0887"
            ],
            [
             0.1111111111111111,
             "#46039f"
            ],
            [
             0.2222222222222222,
             "#7201a8"
            ],
            [
             0.3333333333333333,
             "#9c179e"
            ],
            [
             0.4444444444444444,
             "#bd3786"
            ],
            [
             0.5555555555555556,
             "#d8576b"
            ],
            [
             0.6666666666666666,
             "#ed7953"
            ],
            [
             0.7777777777777778,
             "#fb9f3a"
            ],
            [
             0.8888888888888888,
             "#fdca26"
            ],
            [
             1,
             "#f0f921"
            ]
           ],
           "sequentialminus": [
            [
             0,
             "#0d0887"
            ],
            [
             0.1111111111111111,
             "#46039f"
            ],
            [
             0.2222222222222222,
             "#7201a8"
            ],
            [
             0.3333333333333333,
             "#9c179e"
            ],
            [
             0.4444444444444444,
             "#bd3786"
            ],
            [
             0.5555555555555556,
             "#d8576b"
            ],
            [
             0.6666666666666666,
             "#ed7953"
            ],
            [
             0.7777777777777778,
             "#fb9f3a"
            ],
            [
             0.8888888888888888,
             "#fdca26"
            ],
            [
             1,
             "#f0f921"
            ]
           ]
          },
          "colorway": [
           "#636efa",
           "#EF553B",
           "#00cc96",
           "#ab63fa",
           "#FFA15A",
           "#19d3f3",
           "#FF6692",
           "#B6E880",
           "#FF97FF",
           "#FECB52"
          ],
          "font": {
           "color": "#2a3f5f"
          },
          "geo": {
           "bgcolor": "white",
           "lakecolor": "white",
           "landcolor": "#E5ECF6",
           "showlakes": true,
           "showland": true,
           "subunitcolor": "white"
          },
          "hoverlabel": {
           "align": "left"
          },
          "hovermode": "closest",
          "mapbox": {
           "style": "light"
          },
          "paper_bgcolor": "white",
          "plot_bgcolor": "#E5ECF6",
          "polar": {
           "angularaxis": {
            "gridcolor": "white",
            "linecolor": "white",
            "ticks": ""
           },
           "bgcolor": "#E5ECF6",
           "radialaxis": {
            "gridcolor": "white",
            "linecolor": "white",
            "ticks": ""
           }
          },
          "scene": {
           "xaxis": {
            "backgroundcolor": "#E5ECF6",
            "gridcolor": "white",
            "gridwidth": 2,
            "linecolor": "white",
            "showbackground": true,
            "ticks": "",
            "zerolinecolor": "white"
           },
           "yaxis": {
            "backgroundcolor": "#E5ECF6",
            "gridcolor": "white",
            "gridwidth": 2,
            "linecolor": "white",
            "showbackground": true,
            "ticks": "",
            "zerolinecolor": "white"
           },
           "zaxis": {
            "backgroundcolor": "#E5ECF6",
            "gridcolor": "white",
            "gridwidth": 2,
            "linecolor": "white",
            "showbackground": true,
            "ticks": "",
            "zerolinecolor": "white"
           }
          },
          "shapedefaults": {
           "line": {
            "color": "#2a3f5f"
           }
          },
          "ternary": {
           "aaxis": {
            "gridcolor": "white",
            "linecolor": "white",
            "ticks": ""
           },
           "baxis": {
            "gridcolor": "white",
            "linecolor": "white",
            "ticks": ""
           },
           "bgcolor": "#E5ECF6",
           "caxis": {
            "gridcolor": "white",
            "linecolor": "white",
            "ticks": ""
           }
          },
          "title": {
           "x": 0.05
          },
          "xaxis": {
           "automargin": true,
           "gridcolor": "white",
           "linecolor": "white",
           "ticks": "",
           "title": {
            "standoff": 15
           },
           "zerolinecolor": "white",
           "zerolinewidth": 2
          },
          "yaxis": {
           "automargin": true,
           "gridcolor": "white",
           "linecolor": "white",
           "ticks": "",
           "title": {
            "standoff": 15
           },
           "zerolinecolor": "white",
           "zerolinewidth": 2
          }
         }
        },
        "title": {
         "text": "t-SNE plot colored by Total Cup Points"
        },
        "xaxis": {
         "anchor": "y",
         "domain": [
          0,
          1
         ],
         "title": {
          "text": "Dim_1"
         }
        },
        "yaxis": {
         "anchor": "x",
         "domain": [
          0,
          1
         ],
         "title": {
          "text": "Dim_2"
         }
        }
       }
      }
     },
     "metadata": {},
     "output_type": "display_data"
    }
   ],
   "source": [
    "# Create a copy of the dataframe to not alter the original\n",
    "df_preprocessed = df.copy()\n",
    "\n",
    "# Preprocessing: Label encoding for categorical variables\n",
    "le = LabelEncoder()\n",
    "categorical_features = ['Country of Origin', 'Processing Method', 'Color']\n",
    "for feature in categorical_features:\n",
    "    df_preprocessed[feature] = le.fit_transform(df[feature])\n",
    "\n",
    "# Preprocessing: MinMax scaling for numerical/ratio variables\n",
    "mm = MinMaxScaler()\n",
    "numerical_features = ['Altitude', 'Aroma', 'Flavor', 'Aftertaste', 'Acidity', 'Body', 'Balance', 'Overall', 'Total Cup Points', 'Moisture Percentage', 'Category One Defects', 'Quakers', 'Category Two Defects', 'Coffee Age']\n",
    "for feature in numerical_features:\n",
    "    df_preprocessed[feature] = mm.fit_transform(df[feature].values.reshape(-1,1))\n",
    "    \n",
    "# Apply t-SNE with different perplexity and learning rate\n",
    "tsne = TSNE(n_components=2, random_state=42, perplexity=50, learning_rate=200)\n",
    "tsne_results = tsne.fit_transform(df_preprocessed)\n",
    "\n",
    "# Plotly Interactive plot\n",
    "df_tsne = pd.DataFrame(data = tsne_results, columns = ['Dim_1', 'Dim_2'])\n",
    "df_tsne['Total Cup Points'] = df['Total Cup Points']\n",
    "fig = px.scatter(df_tsne, x='Dim_1', y='Dim_2', color='Total Cup Points', title='t-SNE plot colored by Total Cup Points')\n",
    "fig.show()    "
   ]
  },
  {
   "cell_type": "markdown",
   "id": "ea2eedee",
   "metadata": {
    "papermill": {
     "duration": 0.020497,
     "end_time": "2023-06-29T03:53:45.814237",
     "exception": false,
     "start_time": "2023-06-29T03:53:45.793740",
     "status": "completed"
    },
    "tags": []
   },
   "source": [
    "From the plot, we can observe the following:\n",
    "\n",
    "Clusters: The points on the plot seem to form clusters, which could suggest that there are groups of coffee samples with similar characteristics in your dataset.\n",
    "Color Gradient: The color gradient, which represents the 'Total Cup Points', shows a clear pattern across the clusters. This suggests that the coffee quality varies within each cluster.\n",
    "Outliers: There don't appear to be any clear outliers in the plot, suggesting that most of the coffee samples have similar characteristics.\n",
    "\n",
    "## SCORE PREDICTION"
   ]
  },
  {
   "cell_type": "code",
   "execution_count": 28,
   "id": "f03cf2f8",
   "metadata": {
    "execution": {
     "iopub.execute_input": "2023-06-29T03:53:45.858518Z",
     "iopub.status.busy": "2023-06-29T03:53:45.857635Z",
     "iopub.status.idle": "2023-06-29T03:53:45.886371Z",
     "shell.execute_reply": "2023-06-29T03:53:45.885384Z"
    },
    "papermill": {
     "duration": 0.053828,
     "end_time": "2023-06-29T03:53:45.888805",
     "exception": false,
     "start_time": "2023-06-29T03:53:45.834977",
     "status": "completed"
    },
    "tags": []
   },
   "outputs": [
    {
     "data": {
      "text/html": [
       "<div>\n",
       "<style scoped>\n",
       "    .dataframe tbody tr th:only-of-type {\n",
       "        vertical-align: middle;\n",
       "    }\n",
       "\n",
       "    .dataframe tbody tr th {\n",
       "        vertical-align: top;\n",
       "    }\n",
       "\n",
       "    .dataframe thead th {\n",
       "        text-align: right;\n",
       "    }\n",
       "</style>\n",
       "<table border=\"1\" class=\"dataframe\">\n",
       "  <thead>\n",
       "    <tr style=\"text-align: right;\">\n",
       "      <th></th>\n",
       "      <th>Country of Origin</th>\n",
       "      <th>Altitude</th>\n",
       "      <th>Processing Method</th>\n",
       "      <th>Aroma</th>\n",
       "      <th>Flavor</th>\n",
       "      <th>Aftertaste</th>\n",
       "      <th>Acidity</th>\n",
       "      <th>Body</th>\n",
       "      <th>Balance</th>\n",
       "      <th>Overall</th>\n",
       "      <th>Total Cup Points</th>\n",
       "      <th>Moisture Percentage</th>\n",
       "      <th>Category One Defects</th>\n",
       "      <th>Quakers</th>\n",
       "      <th>Color</th>\n",
       "      <th>Category Two Defects</th>\n",
       "      <th>Coffee Age</th>\n",
       "    </tr>\n",
       "  </thead>\n",
       "  <tbody>\n",
       "    <tr>\n",
       "      <th>0</th>\n",
       "      <td>Colombia</td>\n",
       "      <td>1815.0</td>\n",
       "      <td>Washed / Wet</td>\n",
       "      <td>8.58</td>\n",
       "      <td>8.50</td>\n",
       "      <td>8.42</td>\n",
       "      <td>8.58</td>\n",
       "      <td>8.25</td>\n",
       "      <td>8.42</td>\n",
       "      <td>8.58</td>\n",
       "      <td>89.33</td>\n",
       "      <td>11.8</td>\n",
       "      <td>0</td>\n",
       "      <td>0</td>\n",
       "      <td>green</td>\n",
       "      <td>3</td>\n",
       "      <td>993</td>\n",
       "    </tr>\n",
       "    <tr>\n",
       "      <th>1</th>\n",
       "      <td>Taiwan</td>\n",
       "      <td>1200.0</td>\n",
       "      <td>Washed / Wet</td>\n",
       "      <td>8.50</td>\n",
       "      <td>8.50</td>\n",
       "      <td>7.92</td>\n",
       "      <td>8.00</td>\n",
       "      <td>7.92</td>\n",
       "      <td>8.25</td>\n",
       "      <td>8.50</td>\n",
       "      <td>87.58</td>\n",
       "      <td>10.5</td>\n",
       "      <td>0</td>\n",
       "      <td>0</td>\n",
       "      <td>blue-green</td>\n",
       "      <td>0</td>\n",
       "      <td>1048</td>\n",
       "    </tr>\n",
       "    <tr>\n",
       "      <th>2</th>\n",
       "      <td>Laos</td>\n",
       "      <td>1300.0</td>\n",
       "      <td>Washed / Wet</td>\n",
       "      <td>8.33</td>\n",
       "      <td>8.42</td>\n",
       "      <td>8.08</td>\n",
       "      <td>8.17</td>\n",
       "      <td>7.92</td>\n",
       "      <td>8.17</td>\n",
       "      <td>8.33</td>\n",
       "      <td>87.42</td>\n",
       "      <td>10.4</td>\n",
       "      <td>0</td>\n",
       "      <td>0</td>\n",
       "      <td>yellowish</td>\n",
       "      <td>2</td>\n",
       "      <td>1048</td>\n",
       "    </tr>\n",
       "    <tr>\n",
       "      <th>3</th>\n",
       "      <td>Costa Rica</td>\n",
       "      <td>1900.0</td>\n",
       "      <td>Washed / Wet</td>\n",
       "      <td>8.08</td>\n",
       "      <td>8.17</td>\n",
       "      <td>8.17</td>\n",
       "      <td>8.25</td>\n",
       "      <td>8.17</td>\n",
       "      <td>8.08</td>\n",
       "      <td>8.25</td>\n",
       "      <td>87.17</td>\n",
       "      <td>11.8</td>\n",
       "      <td>0</td>\n",
       "      <td>0</td>\n",
       "      <td>green</td>\n",
       "      <td>0</td>\n",
       "      <td>628</td>\n",
       "    </tr>\n",
       "    <tr>\n",
       "      <th>4</th>\n",
       "      <td>Colombia</td>\n",
       "      <td>1975.0</td>\n",
       "      <td>Pulped natural / honey</td>\n",
       "      <td>8.33</td>\n",
       "      <td>8.33</td>\n",
       "      <td>8.08</td>\n",
       "      <td>8.25</td>\n",
       "      <td>7.92</td>\n",
       "      <td>7.92</td>\n",
       "      <td>8.25</td>\n",
       "      <td>87.08</td>\n",
       "      <td>11.6</td>\n",
       "      <td>0</td>\n",
       "      <td>2</td>\n",
       "      <td>yellow-green</td>\n",
       "      <td>2</td>\n",
       "      <td>794</td>\n",
       "    </tr>\n",
       "  </tbody>\n",
       "</table>\n",
       "</div>"
      ],
      "text/plain": [
       "  Country of Origin  Altitude       Processing Method  Aroma  Flavor  \\\n",
       "0          Colombia    1815.0            Washed / Wet   8.58    8.50   \n",
       "1            Taiwan    1200.0            Washed / Wet   8.50    8.50   \n",
       "2              Laos    1300.0            Washed / Wet   8.33    8.42   \n",
       "3        Costa Rica    1900.0            Washed / Wet   8.08    8.17   \n",
       "4          Colombia    1975.0  Pulped natural / honey   8.33    8.33   \n",
       "\n",
       "   Aftertaste  Acidity  Body  Balance  Overall  Total Cup Points  \\\n",
       "0        8.42     8.58  8.25     8.42     8.58             89.33   \n",
       "1        7.92     8.00  7.92     8.25     8.50             87.58   \n",
       "2        8.08     8.17  7.92     8.17     8.33             87.42   \n",
       "3        8.17     8.25  8.17     8.08     8.25             87.17   \n",
       "4        8.08     8.25  7.92     7.92     8.25             87.08   \n",
       "\n",
       "   Moisture Percentage  Category One Defects  Quakers         Color  \\\n",
       "0                 11.8                     0        0         green   \n",
       "1                 10.5                     0        0    blue-green   \n",
       "2                 10.4                     0        0     yellowish   \n",
       "3                 11.8                     0        0         green   \n",
       "4                 11.6                     0        2  yellow-green   \n",
       "\n",
       "   Category Two Defects  Coffee Age  \n",
       "0                     3         993  \n",
       "1                     0        1048  \n",
       "2                     2        1048  \n",
       "3                     0         628  \n",
       "4                     2         794  "
      ]
     },
     "execution_count": 28,
     "metadata": {},
     "output_type": "execute_result"
    }
   ],
   "source": [
    "df.head()"
   ]
  },
  {
   "cell_type": "code",
   "execution_count": 29,
   "id": "ecebdb0b",
   "metadata": {
    "execution": {
     "iopub.execute_input": "2023-06-29T03:53:45.936280Z",
     "iopub.status.busy": "2023-06-29T03:53:45.935513Z",
     "iopub.status.idle": "2023-06-29T03:53:45.945817Z",
     "shell.execute_reply": "2023-06-29T03:53:45.944963Z"
    },
    "papermill": {
     "duration": 0.037047,
     "end_time": "2023-06-29T03:53:45.948250",
     "exception": false,
     "start_time": "2023-06-29T03:53:45.911203",
     "status": "completed"
    },
    "tags": []
   },
   "outputs": [],
   "source": [
    "categorical_columns = ['Processing Method','Country of Origin', 'Color']\n",
    "numerical_columns = ['Altitude', 'Aroma', 'Flavor', 'Aftertaste', 'Acidity', 'Body', 'Balance', 'Overall', 'Total Cup Points', 'Moisture Percentage', 'Category One Defects', 'Quakers', 'Category Two Defects', 'Coffee Age']\n",
    "\n",
    "# Define preprocessor\n",
    "preprocessor = ColumnTransformer(\n",
    "    transformers=[\n",
    "        ('num', MinMaxScaler(), [col for col in numerical_columns if col != 'Total Cup Points']),\n",
    "        ('cat', OneHotEncoder(), categorical_columns)])\n",
    "\n",
    "# Append classifier to preprocessing pipeline.\n",
    "clf = Pipeline(steps=[('preprocessor', preprocessor),\n",
    "                      ('classifier', RandomForestRegressor(n_estimators=100, random_state=42))])\n",
    "\n",
    "# Split the data into train and test sets\n",
    "X = df.drop('Total Cup Points', axis=1)\n",
    "y = df['Total Cup Points']\n",
    "X_train, X_test, y_train, y_test = train_test_split(X, y, test_size=0.2, random_state=42)"
   ]
  },
  {
   "cell_type": "code",
   "execution_count": 30,
   "id": "515c8f23",
   "metadata": {
    "execution": {
     "iopub.execute_input": "2023-06-29T03:53:45.994534Z",
     "iopub.status.busy": "2023-06-29T03:53:45.993448Z",
     "iopub.status.idle": "2023-06-29T03:53:46.255164Z",
     "shell.execute_reply": "2023-06-29T03:53:46.253507Z"
    },
    "papermill": {
     "duration": 0.288445,
     "end_time": "2023-06-29T03:53:46.257778",
     "exception": false,
     "start_time": "2023-06-29T03:53:45.969333",
     "status": "completed"
    },
    "tags": []
   },
   "outputs": [
    {
     "name": "stdout",
     "output_type": "stream",
     "text": [
      "Mean Squared Error: 0.12949020428571217\n"
     ]
    }
   ],
   "source": [
    "# Train the model\n",
    "clf.fit(X_train, y_train)\n",
    "\n",
    "# Predict on the test set\n",
    "y_pred = clf.predict(X_test)\n",
    "\n",
    "# Evaluate the model\n",
    "mse = mean_squared_error(y_test, y_pred)\n",
    "print('Mean Squared Error:', mse)"
   ]
  },
  {
   "cell_type": "code",
   "execution_count": 31,
   "id": "731ed737",
   "metadata": {
    "execution": {
     "iopub.execute_input": "2023-06-29T03:53:46.303841Z",
     "iopub.status.busy": "2023-06-29T03:53:46.302716Z",
     "iopub.status.idle": "2023-06-29T03:53:46.875347Z",
     "shell.execute_reply": "2023-06-29T03:53:46.874199Z"
    },
    "papermill": {
     "duration": 0.598802,
     "end_time": "2023-06-29T03:53:46.878115",
     "exception": false,
     "start_time": "2023-06-29T03:53:46.279313",
     "status": "completed"
    },
    "tags": []
   },
   "outputs": [
    {
     "data": {
      "image/png": "[encoded data removed]",
      "text/plain": [
       "<Figure size 1000x600 with 1 Axes>"
      ]
     },
     "metadata": {},
     "output_type": "display_data"
    }
   ],
   "source": [
    "# Plot residuals\n",
    "plt.figure(figsize=(10, 6))\n",
    "residuals = y_test - y_pred\n",
    "sns.scatterplot(x=y_test, y=residuals)\n",
    "plt.title('Residuals Plot')\n",
    "plt.xlabel('Actual Values')\n",
    "plt.ylabel('Residuals')\n",
    "plt.show()"
   ]
  },
  {
   "cell_type": "markdown",
   "id": "10b82fae",
   "metadata": {
    "papermill": {
     "duration": 0.022305,
     "end_time": "2023-06-29T03:53:46.928620",
     "exception": false,
     "start_time": "2023-06-29T03:53:46.906315",
     "status": "completed"
    },
    "tags": []
   },
   "source": [
    "In this type of plot, we can visualize the discrepancy between the actual values and the predicted values in a regression model.\n",
    "\n",
    "Let's break down the plot:\n",
    "\n",
    "- On the x-axis, we have the actual values of the variable called 'Total Cup Points'.\n",
    "- The y-axis represents the residuals, which are calculated as the differences between the actual values and the predicted values of 'Total Cup Points'.\n",
    "\n",
    "Ideally, in a perfect model, all the points would align along the horizontal line at y=0. This line represents the instances where the predicted value matches exactly with the actual value.\n",
    "\n",
    "When examining the plot, we observe that the residuals are spread around the y=0 line, which is a positive indication. This implies that the model's errors appear to be randomly scattered without any discernible pattern.\n",
    "\n",
    "Nevertheless, there are certain points that deviate from the y=0 line, indicating areas where the model's predictions were inaccurate.\n",
    "\n",
    "Keep in mind that the proximity of the points to the y=0 line is an indicator of prediction quality. Points that are far from the line indicate predictions that significantly differ from the actual values.\n",
    "\n",
    "Additionally, the density of points can provide insights into the distribution of errors. If you notice a high density of points far from the y=0 line, it might suggest systematic errors present in the model."
   ]
  },
  {
   "cell_type": "code",
   "execution_count": 32,
   "id": "6d2106ba",
   "metadata": {
    "execution": {
     "iopub.execute_input": "2023-06-29T03:53:46.975706Z",
     "iopub.status.busy": "2023-06-29T03:53:46.975304Z",
     "iopub.status.idle": "2023-06-29T03:53:47.347254Z",
     "shell.execute_reply": "2023-06-29T03:53:47.346069Z"
    },
    "papermill": {
     "duration": 0.398623,
     "end_time": "2023-06-29T03:53:47.349699",
     "exception": false,
     "start_time": "2023-06-29T03:53:46.951076",
     "status": "completed"
    },
    "tags": []
   },
   "outputs": [
    {
     "data": {
      "image/png": "[encoded data removed]",
      "text/plain": [
       "<Figure size 1000x600 with 1 Axes>"
      ]
     },
     "metadata": {},
     "output_type": "display_data"
    }
   ],
   "source": [
    "# Plot prediction error\n",
    "plt.figure(figsize=(10, 6))\n",
    "sns.scatterplot(x=y_test, y=y_pred)\n",
    "plt.title('Prediction Error Plot')\n",
    "plt.xlabel('Actual Values')\n",
    "plt.ylabel('Predicted Values')\n",
    "plt.show()"
   ]
  },
  {
   "cell_type": "markdown",
   "id": "27b63fce",
   "metadata": {
    "papermill": {
     "duration": 0.021997,
     "end_time": "2023-06-29T03:53:47.395550",
     "exception": false,
     "start_time": "2023-06-29T03:53:47.373553",
     "status": "completed"
    },
    "tags": []
   },
   "source": [
    "In this type of plot, we can examine the disparities between the actual values and the predicted values in a regression model. It's commonly known as the Prediction Error Plot.\n",
    "\n",
    "Let's break down the plot:\n",
    "\n",
    "- The x-axis represents the actual values of the variable called 'Total Cup Points'.\n",
    "- On the y-axis, we have the predicted values of 'Total Cup Points'.\n",
    "\n",
    "In an ideal scenario with perfect predictions, all the points would align along the diagonal line. This line represents instances where the predicted value matches exactly with the actual value.\n",
    "\n",
    "When analyzing the plot, we can observe that most of the points are relatively close to the diagonal line, indicating reasonably accurate predictions by the model. However, there are certain points that deviate from the line, highlighting areas where the model's predictions were inaccurate.\n",
    "\n",
    "Remember, the proximity of the points to the diagonal line indicates the quality of predictions. Points that are far from the line suggest predictions that significantly differ from the actual values.\n",
    "\n",
    "Additionally, the density of points can provide insights into the distribution of errors. If you notice a high density of points far from the diagonal line, it could indicate systematic errors present in the model.\n",
    "\n",
    "In summary, this plot offers a visual means to assess the performance of a regression model. It serves as a valuable tool for understanding the areas where the model makes errors and the magnitude of those errors.\n",
    "\n"
   ]
  }
 ],
 "metadata": {
  "kernelspec": {
   "display_name": "Python 3",
   "language": "python",
   "name": "python3"
  },
  "language_info": {
   "codemirror_mode": {
    "name": "ipython",
    "version": 3
   },
   "file_extension": ".py",
   "mimetype": "text/x-python",
   "name": "python",
   "nbconvert_exporter": "python",
   "pygments_lexer": "ipython3",
   "version": "3.11.9"
  },
  "papermill": {
   "default_parameters": {},
   "duration": 25.28234,
   "end_time": "2023-06-29T03:53:48.540159",
   "environment_variables": {},
   "exception": null,
   "input_path": "__notebook__.ipynb",
   "output_path": "__notebook__.ipynb",
   "parameters": {},
   "start_time": "2023-06-29T03:53:23.257819",
   "version": "2.4.0"
  }
 },
 "nbformat": 4,
 "nbformat_minor": 5
}
