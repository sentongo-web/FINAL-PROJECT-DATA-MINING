{
 "cells": [
  {
   "cell_type": "code",
   "execution_count": 1,
   "metadata": {},
   "outputs": [
    {
     "name": "stdout",
     "output_type": "stream",
     "text": [
      "Data has been saved to 'wheel_of_fortune_puzzles.csv'\n"
     ]
    }
   ],
   "source": [
    "import requests\n",
    "from bs4 import BeautifulSoup\n",
    "import pandas as pd\n",
    "\n",
    "# URL of the website\n",
    "url = \"https://wheeloffortuneanswer.com\"\n",
    "\n",
    "# Send a GET request to the website\n",
    "response = requests.get(url)\n",
    "\n",
    "# Check if the request was successful\n",
    "if response.status_code == 200:\n",
    "    # Parse the page content using BeautifulSoup\n",
    "    soup = BeautifulSoup(response.text, 'html.parser')\n",
    "    \n",
    "    # Find the section containing the puzzles (this depends on the website structure)\n",
    "    # Assuming the puzzles are in a table format\n",
    "    puzzles = []\n",
    "    table = soup.find('table')  # Adjust this according to the actual HTML structure\n",
    "    \n",
    "    if table:\n",
    "        rows = table.find_all('tr')\n",
    "        \n",
    "        # Loop through each row in the table\n",
    "        for row in rows:\n",
    "            columns = row.find_all('td')\n",
    "            if len(columns) > 1:\n",
    "                # Extract puzzle category and word to guess\n",
    "                category = columns[0].text.strip()\n",
    "                word_to_guess = columns[1].text.strip()\n",
    "                \n",
    "                puzzles.append({\"Category\": category, \"Word To Guess\": word_to_guess})\n",
    "    \n",
    "    # Convert the list of dictionaries to a DataFrame\n",
    "    df = pd.DataFrame(puzzles)\n",
    "    \n",
    "    # Save the DataFrame to a CSV file\n",
    "    df.to_csv('wheel_of_fortune_puzzles.csv', index=False)\n",
    "    print(\"Data has been saved to 'wheel_of_fortune_puzzles.csv'\")\n",
    "else:\n",
    "    print(\"Failed to retrieve the webpage. Status code:\", response.status_code)\n"
   ]
  }
 ],
 "metadata": {
  "kernelspec": {
   "display_name": "Python 3",
   "language": "python",
   "name": "python3"
  },
  "language_info": {
   "codemirror_mode": {
    "name": "ipython",
    "version": 3
   },
   "file_extension": ".py",
   "mimetype": "text/x-python",
   "name": "python",
   "nbconvert_exporter": "python",
   "pygments_lexer": "ipython3",
   "version": "3.11.9"
  }
 },
 "nbformat": 4,
 "nbformat_minor": 2
}
