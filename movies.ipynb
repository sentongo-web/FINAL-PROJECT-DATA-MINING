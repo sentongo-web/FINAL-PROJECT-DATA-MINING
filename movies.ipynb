{
 "cells": [
  {
   "cell_type": "code",
   "execution_count": 4,
   "metadata": {},
   "outputs": [
    {
     "data": {
      "text/html": [
       "<div>\n",
       "<style scoped>\n",
       "    .dataframe tbody tr th:only-of-type {\n",
       "        vertical-align: middle;\n",
       "    }\n",
       "\n",
       "    .dataframe tbody tr th {\n",
       "        vertical-align: top;\n",
       "    }\n",
       "\n",
       "    .dataframe thead th {\n",
       "        text-align: right;\n",
       "    }\n",
       "</style>\n",
       "<table border=\"1\" class=\"dataframe\">\n",
       "  <thead>\n",
       "    <tr style=\"text-align: right;\">\n",
       "      <th></th>\n",
       "      <th>Comments</th>\n",
       "      <th>Ratings</th>\n",
       "    </tr>\n",
       "  </thead>\n",
       "  <tbody>\n",
       "    <tr>\n",
       "      <th>0</th>\n",
       "      <td>I didnt go in with big hopes, but i was expect...</td>\n",
       "      <td>8</td>\n",
       "    </tr>\n",
       "    <tr>\n",
       "      <th>1</th>\n",
       "      <td>A unique genre, a well written story (script) ...</td>\n",
       "      <td>8</td>\n",
       "    </tr>\n",
       "    <tr>\n",
       "      <th>2</th>\n",
       "      <td>Majestic at scale, grandeur in VFX, and great ...</td>\n",
       "      <td>9</td>\n",
       "    </tr>\n",
       "    <tr>\n",
       "      <th>3</th>\n",
       "      <td>\"Kalki 2898\" is not just a movie; it's an expe...</td>\n",
       "      <td>10</td>\n",
       "    </tr>\n",
       "    <tr>\n",
       "      <th>4</th>\n",
       "      <td>Best Indian movie Nagi combined Hindu mytholog...</td>\n",
       "      <td>10</td>\n",
       "    </tr>\n",
       "    <tr>\n",
       "      <th>5</th>\n",
       "      <td>The Kalki 2898 AD movie is an epic dystopian s...</td>\n",
       "      <td>10</td>\n",
       "    </tr>\n",
       "    <tr>\n",
       "      <th>6</th>\n",
       "      <td>#NagAshwin dreams big and manages to execute t...</td>\n",
       "      <td>10</td>\n",
       "    </tr>\n",
       "    <tr>\n",
       "      <th>7</th>\n",
       "      <td>The soaring epicness of second part of the fil...</td>\n",
       "      <td>6</td>\n",
       "    </tr>\n",
       "    <tr>\n",
       "      <th>8</th>\n",
       "      <td>Let me share a review of the movie \"Kalki 2898...</td>\n",
       "      <td>9</td>\n",
       "    </tr>\n",
       "    <tr>\n",
       "      <th>9</th>\n",
       "      <td>I don't understand the obsession with hero ent...</td>\n",
       "      <td>6</td>\n",
       "    </tr>\n",
       "    <tr>\n",
       "      <th>10</th>\n",
       "      <td>Where to even begin to define this Subpar movi...</td>\n",
       "      <td>4</td>\n",
       "    </tr>\n",
       "    <tr>\n",
       "      <th>11</th>\n",
       "      <td>Definitely worth watching in the theatre\\nGrea...</td>\n",
       "      <td>9</td>\n",
       "    </tr>\n",
       "    <tr>\n",
       "      <th>12</th>\n",
       "      <td>Kalki28989AD amply suffices my expectations in...</td>\n",
       "      <td>8</td>\n",
       "    </tr>\n",
       "    <tr>\n",
       "      <th>13</th>\n",
       "      <td>A unique story and mixup of technology and Mah...</td>\n",
       "      <td>9</td>\n",
       "    </tr>\n",
       "    <tr>\n",
       "      <th>14</th>\n",
       "      <td>When we watch Hollywood movies we think Can't ...</td>\n",
       "      <td>8</td>\n",
       "    </tr>\n",
       "    <tr>\n",
       "      <th>15</th>\n",
       "      <td>This movie is a spectacular achievement for In...</td>\n",
       "      <td>10</td>\n",
       "    </tr>\n",
       "    <tr>\n",
       "      <th>16</th>\n",
       "      <td>Prabhas' latest film, \"Kalki,\" is nothing shor...</td>\n",
       "      <td>10</td>\n",
       "    </tr>\n",
       "    <tr>\n",
       "      <th>17</th>\n",
       "      <td>Buckle up for a roller-coaster ride through ci...</td>\n",
       "      <td>6</td>\n",
       "    </tr>\n",
       "    <tr>\n",
       "      <th>18</th>\n",
       "      <td>Awesome action sequences. Really enjoyed.RGV a...</td>\n",
       "      <td>10</td>\n",
       "    </tr>\n",
       "    <tr>\n",
       "      <th>19</th>\n",
       "      <td>Synopsis: Death is not a punishment; it is a b...</td>\n",
       "      <td>7</td>\n",
       "    </tr>\n",
       "  </tbody>\n",
       "</table>\n",
       "</div>"
      ],
      "text/plain": [
       "                                             Comments  Ratings\n",
       "0   I didnt go in with big hopes, but i was expect...        8\n",
       "1   A unique genre, a well written story (script) ...        8\n",
       "2   Majestic at scale, grandeur in VFX, and great ...        9\n",
       "3   \"Kalki 2898\" is not just a movie; it's an expe...       10\n",
       "4   Best Indian movie Nagi combined Hindu mytholog...       10\n",
       "5   The Kalki 2898 AD movie is an epic dystopian s...       10\n",
       "6   #NagAshwin dreams big and manages to execute t...       10\n",
       "7   The soaring epicness of second part of the fil...        6\n",
       "8   Let me share a review of the movie \"Kalki 2898...        9\n",
       "9   I don't understand the obsession with hero ent...        6\n",
       "10  Where to even begin to define this Subpar movi...        4\n",
       "11  Definitely worth watching in the theatre\\nGrea...        9\n",
       "12  Kalki28989AD amply suffices my expectations in...        8\n",
       "13  A unique story and mixup of technology and Mah...        9\n",
       "14  When we watch Hollywood movies we think Can't ...        8\n",
       "15  This movie is a spectacular achievement for In...       10\n",
       "16  Prabhas' latest film, \"Kalki,\" is nothing shor...       10\n",
       "17  Buckle up for a roller-coaster ride through ci...        6\n",
       "18  Awesome action sequences. Really enjoyed.RGV a...       10\n",
       "19  Synopsis: Death is not a punishment; it is a b...        7"
      ]
     },
     "execution_count": 4,
     "metadata": {},
     "output_type": "execute_result"
    }
   ],
   "source": [
    "import pandas as pd\n",
    "\n",
    "# Read the CSV file into a DataFrame\n",
    "df = pd.read_csv(\"Question 3.csv\")\n",
    "\n",
    "# Display the first few rows of the DataFrame to inspect its content\n",
    "df.head(20)\n"
   ]
  },
  {
   "cell_type": "code",
   "execution_count": 2,
   "metadata": {},
   "outputs": [
    {
     "data": {
      "text/plain": [
       "0.35"
      ]
     },
     "execution_count": 2,
     "metadata": {},
     "output_type": "execute_result"
    }
   ],
   "source": [
    "from textblob import TextBlob\n",
    "\n",
    "# Review text provided by the user\n",
    "review_text = (\"'Queen of Katwe' is not just a chess movie; it's a celebration of \"\n",
    "               \"the human spirit and the incredible potential that lies within us all. \"\n",
    "               \"It's an inspiring and uplifting tale that will leave you feeling both \"\n",
    "               \"moved and motivated. This is a must-see film for anyone who values \"\n",
    "               \"stories of triumph against adversity and the pursuit of one's dreams.\")\n",
    "\n",
    "# Perform sentiment analysis using TextBlob\n",
    "analysis = TextBlob(review_text)\n",
    "sentiment_score = analysis.sentiment.polarity\n",
    "\n",
    "# Display the sentiment score\n",
    "sentiment_score\n"
   ]
  },
  {
   "cell_type": "markdown",
   "metadata": {},
   "source": [
    "The sentiment score for the review is 0.35.\n",
    "\n",
    "Interpretation:\n",
    "Sentiment Score Range:\n",
    "-1 indicates very negative sentiment.\n",
    "0 indicates neutral sentiment.\n",
    "+1 indicates very positive sentiment.\n",
    "A score of 0.35 suggests that the review has a moderately positive sentiment, indicating a generally favorable opinion about the movie \"Queen of Katwe.\""
   ]
  },
  {
   "cell_type": "markdown",
   "metadata": {},
   "source": [
    "Corresponding Rating:\n",
    "Given the positive nature of the sentiment, this review would likely correspond to a high rating. Based on typical sentiment-rating mappings, this might translate to a rating in the range of 7 to 9 out of 10."
   ]
  },
  {
   "cell_type": "code",
   "execution_count": 3,
   "metadata": {},
   "outputs": [
    {
     "data": {
      "text/plain": [
       "7.075"
      ]
     },
     "execution_count": 3,
     "metadata": {},
     "output_type": "execute_result"
    }
   ],
   "source": [
    "# Mapping sentiment score to a rating scale of 1 to 10\n",
    "predicted_rating = ((sentiment_score + 1) / 2) * 9 + 1\n",
    "\n",
    "# Display the predicted rating\n",
    "predicted_rating\n"
   ]
  },
  {
   "cell_type": "markdown",
   "metadata": {},
   "source": [
    "To predict the rating for the specific review based on the sentiment score, we can map the sentiment score (which ranges from -1 to 1) to the rating scale (which ranges from 1 to 10). One common approach is to normalize the sentiment score to fit within the rating range.\n",
    "\n",
    "Mapping Sentiment to Rating:\n",
    "A sentiment score of -1 corresponds to a rating of 1.\n",
    "A sentiment score of 1 corresponds to a rating of 10.\n",
    "The formula to map the sentiment score to a rating would be:\n",
    "\n",
    "Rating\n",
    "=\n",
    "Sentiment Score\n",
    "+\n",
    "1\n",
    "2\n",
    "×\n",
    "9\n",
    "+\n",
    "1\n",
    "Rating= \n",
    "2\n",
    "Sentiment Score+1\n",
    "​\n",
    " ×9+1\n",
    "Let's apply this formula to the sentiment score of 0.35 to predict the rating.\n",
    "\n",
    "\n",
    "\n",
    "\n"
   ]
  },
  {
   "cell_type": "markdown",
   "metadata": {},
   "source": [
    "The predicted rating for the review is approximately 7.1 out of 10.\n",
    "\n",
    "This suggests that based on the sentiment analysis, the review would likely translate to a rating of around 7, indicating a positive but not extremely high rating."
   ]
  }
 ],
 "metadata": {
  "kernelspec": {
   "display_name": "Python 3",
   "language": "python",
   "name": "python3"
  },
  "language_info": {
   "codemirror_mode": {
    "name": "ipython",
    "version": 3
   },
   "file_extension": ".py",
   "mimetype": "text/x-python",
   "name": "python",
   "nbconvert_exporter": "python",
   "pygments_lexer": "ipython3",
   "version": "3.11.9"
  }
 },
 "nbformat": 4,
 "nbformat_minor": 2
}
