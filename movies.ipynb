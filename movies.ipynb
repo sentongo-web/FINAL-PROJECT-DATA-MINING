{
 "cells": [
  {
   "cell_type": "code",
   "execution_count": 1,
   "metadata": {},
   "outputs": [
    {
     "data": {
      "text/html": [
       "<div>\n",
       "<style scoped>\n",
       "    .dataframe tbody tr th:only-of-type {\n",
       "        vertical-align: middle;\n",
       "    }\n",
       "\n",
       "    .dataframe tbody tr th {\n",
       "        vertical-align: top;\n",
       "    }\n",
       "\n",
       "    .dataframe thead th {\n",
       "        text-align: right;\n",
       "    }\n",
       "</style>\n",
       "<table border=\"1\" class=\"dataframe\">\n",
       "  <thead>\n",
       "    <tr style=\"text-align: right;\">\n",
       "      <th></th>\n",
       "      <th>Comments</th>\n",
       "      <th>Ratings</th>\n",
       "    </tr>\n",
       "  </thead>\n",
       "  <tbody>\n",
       "    <tr>\n",
       "      <th>0</th>\n",
       "      <td>I didnt go in with big hopes, but i was expect...</td>\n",
       "      <td>8</td>\n",
       "    </tr>\n",
       "    <tr>\n",
       "      <th>1</th>\n",
       "      <td>A unique genre, a well written story (script) ...</td>\n",
       "      <td>8</td>\n",
       "    </tr>\n",
       "    <tr>\n",
       "      <th>2</th>\n",
       "      <td>Majestic at scale, grandeur in VFX, and great ...</td>\n",
       "      <td>9</td>\n",
       "    </tr>\n",
       "    <tr>\n",
       "      <th>3</th>\n",
       "      <td>\"Kalki 2898\" is not just a movie; it's an expe...</td>\n",
       "      <td>10</td>\n",
       "    </tr>\n",
       "    <tr>\n",
       "      <th>4</th>\n",
       "      <td>Best Indian movie Nagi combined Hindu mytholog...</td>\n",
       "      <td>10</td>\n",
       "    </tr>\n",
       "  </tbody>\n",
       "</table>\n",
       "</div>"
      ],
      "text/plain": [
       "                                            Comments  Ratings\n",
       "0  I didnt go in with big hopes, but i was expect...        8\n",
       "1  A unique genre, a well written story (script) ...        8\n",
       "2  Majestic at scale, grandeur in VFX, and great ...        9\n",
       "3  \"Kalki 2898\" is not just a movie; it's an expe...       10\n",
       "4  Best Indian movie Nagi combined Hindu mytholog...       10"
      ]
     },
     "execution_count": 1,
     "metadata": {},
     "output_type": "execute_result"
    }
   ],
   "source": [
    "import pandas as pd\n",
    "\n",
    "# Read the CSV file into a DataFrame\n",
    "df = pd.read_csv(\"Question 3.csv\")\n",
    "\n",
    "# Display the first few rows of the DataFrame to inspect its content\n",
    "df.head()\n"
   ]
  },
  {
   "cell_type": "code",
   "execution_count": 2,
   "metadata": {},
   "outputs": [
    {
     "data": {
      "text/plain": [
       "0.35"
      ]
     },
     "execution_count": 2,
     "metadata": {},
     "output_type": "execute_result"
    }
   ],
   "source": [
    "from textblob import TextBlob\n",
    "\n",
    "# Review text provided by the user\n",
    "review_text = (\"'Queen of Katwe' is not just a chess movie; it's a celebration of \"\n",
    "               \"the human spirit and the incredible potential that lies within us all. \"\n",
    "               \"It's an inspiring and uplifting tale that will leave you feeling both \"\n",
    "               \"moved and motivated. This is a must-see film for anyone who values \"\n",
    "               \"stories of triumph against adversity and the pursuit of one's dreams.\")\n",
    "\n",
    "# Perform sentiment analysis using TextBlob\n",
    "analysis = TextBlob(review_text)\n",
    "sentiment_score = analysis.sentiment.polarity\n",
    "\n",
    "# Display the sentiment score\n",
    "sentiment_score\n"
   ]
  },
  {
   "cell_type": "markdown",
   "metadata": {},
   "source": [
    "The sentiment score for the review is 0.35.\n",
    "\n",
    "Interpretation:\n",
    "Sentiment Score Range:\n",
    "-1 indicates very negative sentiment.\n",
    "0 indicates neutral sentiment.\n",
    "+1 indicates very positive sentiment.\n",
    "A score of 0.35 suggests that the review has a moderately positive sentiment, indicating a generally favorable opinion about the movie \"Queen of Katwe.\""
   ]
  },
  {
   "cell_type": "markdown",
   "metadata": {},
   "source": [
    "Corresponding Rating:\n",
    "Given the positive nature of the sentiment, this review would likely correspond to a high rating. Based on typical sentiment-rating mappings, this might translate to a rating in the range of 7 to 9 out of 10."
   ]
  }
 ],
 "metadata": {
  "kernelspec": {
   "display_name": "Python 3",
   "language": "python",
   "name": "python3"
  },
  "language_info": {
   "codemirror_mode": {
    "name": "ipython",
    "version": 3
   },
   "file_extension": ".py",
   "mimetype": "text/x-python",
   "name": "python",
   "nbconvert_exporter": "python",
   "pygments_lexer": "ipython3",
   "version": "3.11.9"
  }
 },
 "nbformat": 4,
 "nbformat_minor": 2
}
